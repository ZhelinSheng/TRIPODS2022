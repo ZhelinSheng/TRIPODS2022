{
  "nbformat": 4,
  "nbformat_minor": 0,
  "metadata": {
    "colab": {
      "name": "base8fractal2dim.ipynb",
      "provenance": []
    },
    "kernelspec": {
      "name": "python3",
      "display_name": "Python 3"
    },
    "language_info": {
      "name": "python"
    },
    "gpuClass": "standard"
  },
  "cells": [
    {
      "cell_type": "code",
      "execution_count": 1,
      "metadata": {
        "id": "42QRbJbb1YPC"
      },
      "outputs": [],
      "source": [
        "#libraries that we might need\n",
        "from tensorflow.keras.models import Sequential\n",
        "from tensorflow.keras.layers import Dense, Activation\n",
        "import pandas as pd\n",
        "import io\n",
        "import os\n",
        "import requests\n",
        "import numpy as np\n",
        "from sklearn import metrics\n",
        "from sklearn.model_selection import train_test_split\n",
        "import math\n",
        "from math import log\n",
        "import numpy as np \n",
        "import matplotlib \n",
        "import matplotlib.pyplot as plt"
      ]
    },
    {
      "cell_type": "code",
      "source": [
        "#Cantor 1 is the set with 2s, 4s, 6s and 0s in base 8. We make this set digit wise,\n",
        "#where n is the number of digits, not the number of iterations of the cantor set\n",
        "def cantor1(n):\n",
        "  points = []\n",
        "  if n==1:\n",
        "    return [0.0, 1/4, 1/2, 3/4]\n",
        "  else:\n",
        "    nstage = cantor1(n-1)\n",
        "    nstageplus = []\n",
        "    for i in nstage:\n",
        "      nstageplus.append(i + 2*pow(1/8,n))\n",
        "      nstageplus.append(i + 4*pow(1/8,n))\n",
        "      nstageplus.append(i + 6*pow(1/8,n))\n",
        "    return  nstage + nstageplus"
      ],
      "metadata": {
        "id": "KHZSnpoC1pZa"
      },
      "execution_count": 2,
      "outputs": []
    },
    {
      "cell_type": "code",
      "source": [
        "#Cantor 2 is the set with 0s and 1s in base 8. This is the same algorithm\n",
        "#as Cantor 1\n",
        "def cantor2(n):\n",
        "  points = []\n",
        "  if n==1:\n",
        "    return [0.0, 1/8]\n",
        "  else:\n",
        "    nstage = cantor2(n-1)\n",
        "    nstageplus = []\n",
        "    for i in nstage:\n",
        "      nstageplus.append(i+pow(1/8, n))\n",
        "    return  nstage + nstageplus"
      ],
      "metadata": {
        "id": "MpulhRHw5gry"
      },
      "execution_count": 3,
      "outputs": []
    },
    {
      "cell_type": "code",
      "source": [
        "#This is a cartesian product of a cantor1 and cantor2 set\n",
        "def cantorproduct(n,m):\n",
        "  cantorset1 = cantor1(n)\n",
        "  cantorset2 = cantor2(m)\n",
        "  product = []\n",
        "  for i in cantorset2:\n",
        "    for j in cantorset1:\n",
        "      product.append((i,j))\n",
        "  return product"
      ],
      "metadata": {
        "id": "Lj4q6ZxS7BPI"
      },
      "execution_count": 6,
      "outputs": []
    },
    {
      "cell_type": "code",
      "source": [
        "cantorproduct(2,2)"
      ],
      "metadata": {
        "colab": {
          "base_uri": "https://localhost:8080/"
        },
        "id": "3thZVsGa8pu0",
        "outputId": "8672498b-edd1-48e8-bd35-01f3c928ad9e"
      },
      "execution_count": 7,
      "outputs": [
        {
          "output_type": "execute_result",
          "data": {
            "text/plain": [
              "[(0.0, 0.0),\n",
              " (0.0, 0.25),\n",
              " (0.0, 0.5),\n",
              " (0.0, 0.75),\n",
              " (0.0, 0.03125),\n",
              " (0.0, 0.0625),\n",
              " (0.0, 0.09375),\n",
              " (0.0, 0.28125),\n",
              " (0.0, 0.3125),\n",
              " (0.0, 0.34375),\n",
              " (0.0, 0.53125),\n",
              " (0.0, 0.5625),\n",
              " (0.0, 0.59375),\n",
              " (0.0, 0.78125),\n",
              " (0.0, 0.8125),\n",
              " (0.0, 0.84375),\n",
              " (0.125, 0.0),\n",
              " (0.125, 0.25),\n",
              " (0.125, 0.5),\n",
              " (0.125, 0.75),\n",
              " (0.125, 0.03125),\n",
              " (0.125, 0.0625),\n",
              " (0.125, 0.09375),\n",
              " (0.125, 0.28125),\n",
              " (0.125, 0.3125),\n",
              " (0.125, 0.34375),\n",
              " (0.125, 0.53125),\n",
              " (0.125, 0.5625),\n",
              " (0.125, 0.59375),\n",
              " (0.125, 0.78125),\n",
              " (0.125, 0.8125),\n",
              " (0.125, 0.84375),\n",
              " (0.015625, 0.0),\n",
              " (0.015625, 0.25),\n",
              " (0.015625, 0.5),\n",
              " (0.015625, 0.75),\n",
              " (0.015625, 0.03125),\n",
              " (0.015625, 0.0625),\n",
              " (0.015625, 0.09375),\n",
              " (0.015625, 0.28125),\n",
              " (0.015625, 0.3125),\n",
              " (0.015625, 0.34375),\n",
              " (0.015625, 0.53125),\n",
              " (0.015625, 0.5625),\n",
              " (0.015625, 0.59375),\n",
              " (0.015625, 0.78125),\n",
              " (0.015625, 0.8125),\n",
              " (0.015625, 0.84375),\n",
              " (0.140625, 0.0),\n",
              " (0.140625, 0.25),\n",
              " (0.140625, 0.5),\n",
              " (0.140625, 0.75),\n",
              " (0.140625, 0.03125),\n",
              " (0.140625, 0.0625),\n",
              " (0.140625, 0.09375),\n",
              " (0.140625, 0.28125),\n",
              " (0.140625, 0.3125),\n",
              " (0.140625, 0.34375),\n",
              " (0.140625, 0.53125),\n",
              " (0.140625, 0.5625),\n",
              " (0.140625, 0.59375),\n",
              " (0.140625, 0.78125),\n",
              " (0.140625, 0.8125),\n",
              " (0.140625, 0.84375)]"
            ]
          },
          "metadata": {},
          "execution_count": 7
        }
      ]
    },
    {
      "cell_type": "code",
      "source": [
        "#This is a sample function that we are going to train the function on\n",
        "#we chose the distance function, but it doesn't actually matter\n",
        "def samplefunction(product):\n",
        "  i,j = product\n",
        "  return math.sqrt(i*i+j*j)"
      ],
      "metadata": {
        "id": "mBx2PHzB9CK6"
      },
      "execution_count": null,
      "outputs": []
    },
    {
      "cell_type": "code",
      "source": [
        "#This is just a function that puts the data into data, labels, compressed data,\n",
        "#and labels for the compressed data \n",
        "def createsets(n,m,f):\n",
        "  onedim = [] #dimension reduced input data\n",
        "  onedimout = [] #dimension reduced labels\n",
        "  twodim = [] #fully dimensional input data\n",
        "  twodimout = [] #fully dimensional labels\n",
        "  productlist = cantorproduct(n,m)\n",
        "  for i in productlist:\n",
        "    a,b = i\n",
        "    twodim.append([a,b])\n",
        "    twodimout.append(f(i))\n",
        "    onedim.append(a+b)\n",
        "    onedimout.append(f(i))\n",
        "  return onedim, onedimout, twodim, twodimout"
      ],
      "metadata": {
        "id": "Zums2y8V9x0k"
      },
      "execution_count": null,
      "outputs": []
    },
    {
      "cell_type": "code",
      "source": [
        "createsets(2,2, samplefunction)"
      ],
      "metadata": {
        "id": "3RGbiGFE-4wf"
      },
      "execution_count": null,
      "outputs": []
    },
    {
      "cell_type": "code",
      "source": [
        "#getting our data into np arrays so that they can be tensorflowed\n",
        "onedim, onedimout, twodim, twodimout = createsets(8,8, samplefunction)\n",
        "x1 = np.array(onedim)\n",
        "y1 = np.array(onedimout)\n",
        "x1_train, x1_test, y1_train, y1_test = train_test_split(x1,y1, test_size=0.2, shuffle=True)\n",
        "x2 = np.array(twodim)\n",
        "y2 = np.array(twodimout)\n",
        "x2_train, x2_test, y2_train, y2_test = train_test_split(x2,y2, test_size=0.2, shuffle=True)\n"
      ],
      "metadata": {
        "id": "1MEiV0OLbsjv"
      },
      "execution_count": null,
      "outputs": []
    },
    {
      "cell_type": "code",
      "source": [
        "#model for the 1 dimensional data\n",
        "model1 = Sequential()\n",
        "model1.add(Dense(3000, input_dim=1, activation='relu')) # Hidden 1\n",
        "model1.add(Dense(1500, activation='relu')) # Hidden 2\n",
        "model1.add(Dense(1)) # Output\n",
        "model1.compile(loss='mean_squared_error', optimizer='adam')\n",
        "model1.fit(x1_train,y1_train,verbose=2,epochs=16)"
      ],
      "metadata": {
        "colab": {
          "base_uri": "https://localhost:8080/"
        },
        "id": "eOnpFNcUjc8Z",
        "outputId": "dd6a8281-f624-475b-bf3e-3a32402453f4"
      },
      "execution_count": null,
      "outputs": [
        {
          "output_type": "stream",
          "name": "stdout",
          "text": [
            "Epoch 1/16\n",
            "1639/1639 - 7s - loss: 0.0015 - 7s/epoch - 4ms/step\n",
            "Epoch 2/16\n",
            "1639/1639 - 4s - loss: 6.7073e-04 - 4s/epoch - 2ms/step\n",
            "Epoch 3/16\n",
            "1639/1639 - 4s - loss: 5.4092e-04 - 4s/epoch - 2ms/step\n",
            "Epoch 4/16\n",
            "1639/1639 - 4s - loss: 4.7555e-04 - 4s/epoch - 2ms/step\n",
            "Epoch 5/16\n",
            "1639/1639 - 4s - loss: 4.0668e-04 - 4s/epoch - 2ms/step\n",
            "Epoch 6/16\n",
            "1639/1639 - 4s - loss: 3.6975e-04 - 4s/epoch - 2ms/step\n",
            "Epoch 7/16\n",
            "1639/1639 - 4s - loss: 3.5546e-04 - 4s/epoch - 2ms/step\n",
            "Epoch 8/16\n",
            "1639/1639 - 4s - loss: 3.4256e-04 - 4s/epoch - 2ms/step\n",
            "Epoch 9/16\n",
            "1639/1639 - 4s - loss: 3.2993e-04 - 4s/epoch - 2ms/step\n",
            "Epoch 10/16\n",
            "1639/1639 - 4s - loss: 3.0384e-04 - 4s/epoch - 2ms/step\n",
            "Epoch 11/16\n",
            "1639/1639 - 4s - loss: 2.8326e-04 - 4s/epoch - 2ms/step\n",
            "Epoch 12/16\n",
            "1639/1639 - 4s - loss: 2.7747e-04 - 4s/epoch - 2ms/step\n",
            "Epoch 13/16\n",
            "1639/1639 - 4s - loss: 2.7684e-04 - 4s/epoch - 2ms/step\n",
            "Epoch 14/16\n",
            "1639/1639 - 4s - loss: 2.7479e-04 - 4s/epoch - 2ms/step\n",
            "Epoch 15/16\n",
            "1639/1639 - 4s - loss: 2.6611e-04 - 4s/epoch - 2ms/step\n",
            "Epoch 16/16\n",
            "1639/1639 - 4s - loss: 2.4790e-04 - 4s/epoch - 2ms/step\n"
          ]
        },
        {
          "output_type": "execute_result",
          "data": {
            "text/plain": [
              "<keras.callbacks.History at 0x7f01400d1810>"
            ]
          },
          "metadata": {},
          "execution_count": 10
        }
      ]
    },
    {
      "cell_type": "code",
      "source": [
        "#model for the two dimensional input data\n",
        "model2 = Sequential()\n",
        "model2.add(Dense(3000, input_dim=2, activation='relu')) # Hidden 1\n",
        "model2.add(Dense(1500, activation='relu')) # Hidden 2\n",
        "model2.add(Dense(1)) # Output\n",
        "model2.compile(loss='mean_squared_error', optimizer='adam')\n",
        "model2.fit(x2_train, y2_train,verbose=2,epochs=16)"
      ],
      "metadata": {
        "colab": {
          "base_uri": "https://localhost:8080/"
        },
        "id": "E0YML0hbmrZ_",
        "outputId": "3be59ddd-5954-4935-b919-d6a999f128e5"
      },
      "execution_count": null,
      "outputs": [
        {
          "output_type": "stream",
          "name": "stdout",
          "text": [
            "Epoch 1/16\n",
            "1639/1639 - 4s - loss: 2.4071e-04 - 4s/epoch - 3ms/step\n",
            "Epoch 2/16\n",
            "1639/1639 - 4s - loss: 1.8374e-05 - 4s/epoch - 2ms/step\n",
            "Epoch 3/16\n",
            "1639/1639 - 4s - loss: 1.8036e-05 - 4s/epoch - 2ms/step\n",
            "Epoch 4/16\n",
            "1639/1639 - 4s - loss: 3.2276e-05 - 4s/epoch - 2ms/step\n",
            "Epoch 5/16\n",
            "1639/1639 - 4s - loss: 3.7546e-06 - 4s/epoch - 2ms/step\n",
            "Epoch 6/16\n",
            "1639/1639 - 4s - loss: 1.5152e-05 - 4s/epoch - 2ms/step\n",
            "Epoch 7/16\n",
            "1639/1639 - 4s - loss: 1.0157e-05 - 4s/epoch - 2ms/step\n",
            "Epoch 8/16\n",
            "1639/1639 - 4s - loss: 5.1277e-06 - 4s/epoch - 3ms/step\n",
            "Epoch 9/16\n",
            "1639/1639 - 4s - loss: 5.2418e-06 - 4s/epoch - 2ms/step\n",
            "Epoch 10/16\n",
            "1639/1639 - 4s - loss: 9.5468e-06 - 4s/epoch - 3ms/step\n",
            "Epoch 11/16\n",
            "1639/1639 - 4s - loss: 7.8345e-06 - 4s/epoch - 2ms/step\n",
            "Epoch 12/16\n",
            "1639/1639 - 4s - loss: 4.1354e-06 - 4s/epoch - 2ms/step\n",
            "Epoch 13/16\n",
            "1639/1639 - 4s - loss: 3.5452e-06 - 4s/epoch - 2ms/step\n",
            "Epoch 14/16\n",
            "1639/1639 - 4s - loss: 4.5731e-06 - 4s/epoch - 2ms/step\n",
            "Epoch 15/16\n",
            "1639/1639 - 4s - loss: 3.2991e-06 - 4s/epoch - 2ms/step\n",
            "Epoch 16/16\n",
            "1639/1639 - 4s - loss: 5.0754e-06 - 4s/epoch - 2ms/step\n"
          ]
        },
        {
          "output_type": "execute_result",
          "data": {
            "text/plain": [
              "<keras.callbacks.History at 0x7f00ce27a4d0>"
            ]
          },
          "metadata": {},
          "execution_count": 11
        }
      ]
    },
    {
      "cell_type": "code",
      "source": [
        "#test data for the 1 dimensional model\n",
        "pred1 = model1.predict(x1_test)\n",
        "score1 = np.sqrt(metrics.mean_squared_error(pred1,y1_test))\n",
        "score1\n",
        "pvariance1 = (y1.std()-score1)/y1.std()\n",
        "pvariance1"
      ],
      "metadata": {
        "colab": {
          "base_uri": "https://localhost:8080/",
          "height": 240
        },
        "id": "1eHvZS3OlkQV",
        "outputId": "eacacc31-f63f-466f-a3a4-016087cd1e57"
      },
      "execution_count": null,
      "outputs": [
        {
          "output_type": "error",
          "ename": "NameError",
          "evalue": "ignored",
          "traceback": [
            "\u001b[0;31m---------------------------------------------------------------------------\u001b[0m",
            "\u001b[0;31mNameError\u001b[0m                                 Traceback (most recent call last)",
            "\u001b[0;32m<ipython-input-1-4bacd07d6f2a>\u001b[0m in \u001b[0;36m<module>\u001b[0;34m()\u001b[0m\n\u001b[1;32m      1\u001b[0m \u001b[0;31m#test data for the 1 dimensional model\u001b[0m\u001b[0;34m\u001b[0m\u001b[0;34m\u001b[0m\u001b[0;34m\u001b[0m\u001b[0m\n\u001b[0;32m----> 2\u001b[0;31m \u001b[0mpred1\u001b[0m \u001b[0;34m=\u001b[0m \u001b[0mmodel1\u001b[0m\u001b[0;34m.\u001b[0m\u001b[0mpredict\u001b[0m\u001b[0;34m(\u001b[0m\u001b[0mx1_test\u001b[0m\u001b[0;34m)\u001b[0m\u001b[0;34m\u001b[0m\u001b[0;34m\u001b[0m\u001b[0m\n\u001b[0m\u001b[1;32m      3\u001b[0m \u001b[0mscore1\u001b[0m \u001b[0;34m=\u001b[0m \u001b[0mnp\u001b[0m\u001b[0;34m.\u001b[0m\u001b[0msqrt\u001b[0m\u001b[0;34m(\u001b[0m\u001b[0mmetrics\u001b[0m\u001b[0;34m.\u001b[0m\u001b[0mmean_squared_error\u001b[0m\u001b[0;34m(\u001b[0m\u001b[0mpred1\u001b[0m\u001b[0;34m,\u001b[0m\u001b[0my1_test\u001b[0m\u001b[0;34m)\u001b[0m\u001b[0;34m)\u001b[0m\u001b[0;34m\u001b[0m\u001b[0;34m\u001b[0m\u001b[0m\n\u001b[1;32m      4\u001b[0m \u001b[0mscore1\u001b[0m\u001b[0;34m\u001b[0m\u001b[0;34m\u001b[0m\u001b[0m\n\u001b[1;32m      5\u001b[0m \u001b[0;34m(\u001b[0m\u001b[0my1\u001b[0m\u001b[0;34m.\u001b[0m\u001b[0mstd\u001b[0m\u001b[0;34m(\u001b[0m\u001b[0;34m)\u001b[0m\u001b[0;34m-\u001b[0m\u001b[0mscore1\u001b[0m\u001b[0;34m)\u001b[0m\u001b[0;34m/\u001b[0m\u001b[0my1\u001b[0m\u001b[0;34m.\u001b[0m\u001b[0mstd\u001b[0m\u001b[0;34m(\u001b[0m\u001b[0;34m)\u001b[0m\u001b[0;34m\u001b[0m\u001b[0;34m\u001b[0m\u001b[0m\n",
            "\u001b[0;31mNameError\u001b[0m: name 'model1' is not defined"
          ]
        }
      ]
    },
    {
      "cell_type": "code",
      "source": [
        "#test data for the 2 dimensional model\n",
        "pred2 = model2.predict(x2_test)\n",
        "score2 = np.sqrt(metrics.mean_squared_error(pred2,y2_test))\n",
        "score2\n",
        "pvariance2 = (y2.std()-score2)/y2.std()\n",
        "pvariance2"
      ],
      "metadata": {
        "colab": {
          "base_uri": "https://localhost:8080/"
        },
        "id": "7NELUaqimzG6",
        "outputId": "9ff409aa-019b-4973-9227-ef296df1fc46"
      },
      "execution_count": null,
      "outputs": [
        {
          "output_type": "execute_result",
          "data": {
            "text/plain": [
              "0.0002208457111909066"
            ]
          },
          "metadata": {},
          "execution_count": 19
        }
      ]
    }
  ]
}