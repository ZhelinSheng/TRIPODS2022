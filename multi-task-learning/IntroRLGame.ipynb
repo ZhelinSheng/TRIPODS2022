{
 "cells": [
  {
   "cell_type": "code",
   "execution_count": 1,
   "id": "241666c0",
   "metadata": {},
   "outputs": [],
   "source": [
    "import numpy as np\n",
    "from PIL import Image, ImageDraw\n",
    "import time\n",
    "from random import sample\n",
    "import numpy.random as random"
   ]
  },
  {
   "cell_type": "markdown",
   "id": "a6849b8a",
   "metadata": {},
   "source": [
    "# GridWorld"
   ]
  },
  {
   "cell_type": "code",
   "execution_count": 2,
   "id": "5e209fea",
   "metadata": {},
   "outputs": [],
   "source": [
    "class GridWorld:\n",
    "    def __init__(self, board_dims, start_state, terminal_state, reward_matrix):\n",
    "        self.board_dims = board_dims\n",
    "        self.height, self.width = board_dims\n",
    "        self.start_state = start_state\n",
    "        self.agent_pos = start_state\n",
    "        self.terminal_state = terminal_state\n",
    "        self.reward_matrix = reward_matrix\n",
    "        self.moves = [(-1,0),(0,-1),(1,0),(0,1)] #up,left,down,right\n",
    "        \n",
    "    def get_moves(self, point):\n",
    "        \"\"\"\n",
    "        point - the point our agent is in\n",
    "        This function obtains the points of possible moves you can potentially make from the point provided\n",
    "        \"\"\"\n",
    "        return [tuple(np.array(point)+np.array(x)) for x in self.moves]\n",
    "\n",
    "    def point_to_index(self, point):\n",
    "        \"\"\"\n",
    "        point - the point we want to convert to index (for list of lists e.g.)\n",
    "        This function obtains the index when you iterate across each column over each row of our game board\n",
    "        \"\"\"\n",
    "        return point[0]*self.width + point[1]\n",
    "\n",
    "    def index_to_point(self, index):\n",
    "        \"\"\"\n",
    "        index - the index we want to convert to game square point\n",
    "        This function obtains the index when you iterate across each column over each row of our game board\n",
    "        \"\"\"\n",
    "        #(divisions, remainder)\n",
    "        return (index // self.width, index % self.width)\n",
    "\n",
    "    def get_reward(self,point):\n",
    "        \"\"\"\n",
    "        point - a point in our grid\n",
    "        This function returns the reward for our agent going to the state represented by point\n",
    "        \"\"\"\n",
    "        return self.reward_matrix[point]\n",
    "    \n",
    "    def illegal_move(self,point):\n",
    "        \"\"\"\n",
    "        point - a point that may or may not be in our grid\n",
    "        This function returns true if the move we make takes us off the board and false if the move is legal\n",
    "        \"\"\"\n",
    "        return True if ((point[0] < 0 or point[0] == self.height) or (point[1] < 0 or point[1] == self.width)) else False\n",
    "        \n",
    "    def print_board(self):\n",
    "        print(self.reward_matrix)"
   ]
  },
  {
   "cell_type": "markdown",
   "id": "3423add0",
   "metadata": {},
   "source": [
    "# Individual Game Implementations\n",
    "\n",
    "Here we define each game and have it inherit attributes from GridWorld object"
   ]
  },
  {
   "cell_type": "markdown",
   "id": "82464d6c",
   "metadata": {},
   "source": [
    "## Targeting Game"
   ]
  },
  {
   "cell_type": "code",
   "execution_count": 3,
   "id": "ef63ac54",
   "metadata": {},
   "outputs": [],
   "source": [
    "class Targeting_Game(GridWorld):\n",
    "    def __init__(self, board_dims, start_state, terminal_state, reward_matrix):\n",
    "        GridWorld.__init__(self,board_dims, start_state, terminal_state, reward_matrix)\n",
    "        \n",
    "    def draw(self):\n",
    "        \"\"\"\n",
    "        agent_pos - tuple point representing agent's current position on game board \n",
    "        remaining_prizes - list of tuples representing remaining prizes and their positions on game board\n",
    "        This function draws our environment\n",
    "        \"\"\"\n",
    "\n",
    "        image = Image.new(\"RGB\", (501, 501), \"black\")\n",
    "        draw = ImageDraw.Draw(image)\n",
    "\n",
    "        w = 500/(self.width)\n",
    "        h = 500/(self.height)\n",
    "        color = \"white\"\n",
    "\n",
    "        #Draw Grid and Start/Stop Squares\n",
    "        for i in range(self.height):\n",
    "            for j in range(self.width):\n",
    "                if(i == self.start_state[0] and j == self.start_state[1]):\n",
    "                    color = \"blue\"\n",
    "                elif(i == self.terminal_state[0] and j == self.terminal_state[1]):\n",
    "                    color = \"red\"\n",
    "                draw.rectangle(((0+j*w, 0+i*h),(w+j*w, h+i*h)), outline = \"black\", fill = color)\n",
    "                color =\"white\"\n",
    "\n",
    "        #Draw Agent\n",
    "        draw.ellipse((self.agent_pos[1]*w + w/4, self.agent_pos[0]*h + h/4, 3*w/4 + self.agent_pos[1]*w, 3*h/4 + self.agent_pos[0]*h), fill=\"black\")\n",
    "\n",
    "        display(image)\n",
    "\n",
    "    def update_state(self,new_pos):\n",
    "      \"\"\"\n",
    "      new_pos - a point in the game grid that the agent has moved to\n",
    "      This function updates the agent position for the GameGrid class variable.\n",
    "      \"\"\"\n",
    "      self.agent_pos = new_pos\n",
    "\n",
    "    def refresh_game(self):\n",
    "        self.agent_pos = self.start_state"
   ]
  },
  {
   "cell_type": "markdown",
   "id": "2bdb90f1",
   "metadata": {},
   "source": [
    "## Collection Game"
   ]
  },
  {
   "cell_type": "code",
   "execution_count": 14,
   "id": "b07ce417",
   "metadata": {},
   "outputs": [],
   "source": [
    "class Collection_Game(GridWorld):\n",
    "    def __init__(self, board_dims, start_state, prize_states, reward_matrix, prize_value=0):\n",
    "        GridWorld.__init__(self,board_dims, start_state, None, reward_matrix)\n",
    "        self.prize_states = prize_states\n",
    "        self.remaining_prize_states = list(prize_states)\n",
    "        self.prize_value = prize_value\n",
    "        for prize_state in prize_states:\n",
    "            self.reward_matrix[prize_state] = prize_value\n",
    "    \n",
    "    def draw(self):\n",
    "        \"\"\"\n",
    "        agent_pos - tuple point representing agent's current position on game board \n",
    "        remaining_prizes - list of tuples representing remaining prizes and their positions on game board\n",
    "        This function draws our environment\n",
    "        \"\"\"\n",
    "\n",
    "        image = Image.new(\"RGB\", (501, 501), \"black\")\n",
    "        draw = ImageDraw.Draw(image)\n",
    "\n",
    "        w = 500/(self.width)\n",
    "        h = 500/(self.height)\n",
    "        color = \"white\"\n",
    "\n",
    "        #Draw Grid and Start/Stop Squares\n",
    "        for i in range(self.height):\n",
    "            for j in range(self.width):\n",
    "                if(i == self.start_state[0] and j == self.start_state[1]):\n",
    "                    color = \"blue\"\n",
    "                draw.rectangle(((0+j*w, 0+i*h),(w+j*w, h+i*h)), outline = \"black\", fill = color)\n",
    "                color =\"white\"\n",
    "\n",
    "        #Draw Agent\n",
    "        draw.ellipse((self.agent_pos[1]*w + w/4, self.agent_pos[0]*h + h/4, 3*w/4 + self.agent_pos[1]*w, 3*h/4 + self.agent_pos[0]*h), fill=\"black\")\n",
    "\n",
    "        #Draw Prizes\n",
    "        if len(self.remaining_prize_states) > 1:\n",
    "            for x in self.remaining_prize_states:\n",
    "                draw.rectangle(((x[1]*w + w/4, x[0]*h + h/4), (3*w/4+x[1]*w, 3*h/4+x[0]*h)), outline = \"black\", fill = \"yellow\")\n",
    "        elif len(self.remaining_prize_states) == 1:\n",
    "            remaining_prize = self.remaining_prize_states[0]\n",
    "            draw.rectangle(((remaining_prize[1]*w + w/4, remaining_prize[0]*h + h/4), (3*w/4+remaining_prize[1]*w, 3*h/4+remaining_prize[0]*h)), outline = \"black\", fill = \"yellow\")\n",
    "      \n",
    "        display(image)\n",
    "\n",
    "    def update_state(self,new_pos):\n",
    "        \"\"\"\n",
    "        new_pos - a point in the game grid that the agent has moved to\n",
    "        This function updates the agent position for the GameGrid class variable.\n",
    "        \"\"\"\n",
    "        self.agent_pos = new_pos\n",
    "        if self.agent_pos in self.remaining_prize_states:\n",
    "            self.remove_prize(self.agent_pos)\n",
    "\n",
    "    def remove_prize(self, prize_point):\n",
    "        \"\"\"\n",
    "        prize_point - a point in the game grid that contained a prize\n",
    "        This function removes the prize at the prize_point supplied from the remaining prizes. This function also\n",
    "            updates the reward matrix accordingly.\n",
    "        \"\"\"\n",
    "        #remove prize from remaining prizes\n",
    "        self.remaining_prize_states.remove(prize_point)\n",
    "        #adjust reward matrix to account for no prize at this prize_point for the rest of the episode\n",
    "        #self.reward_matrix[prize_point] = self.reward_matrix[self.start_state]\n",
    "        #if there remains one prize, set that to be the terminal state for the episode\n",
    "        if len(self.remaining_prize_states) == 1:\n",
    "            self.terminal_state = self.remaining_prize_states[0]\n",
    "        \n",
    "    def refresh_game(self):\n",
    "        \"\"\"\n",
    "        This function refreshes the game's agent position, the remaining prizes, the reward matrix, and terminal \n",
    "            state. This is used between each episode\n",
    "        \"\"\"\n",
    "        self.agent_pos = self.start_state\n",
    "        self.remaining_prize_states = list(self.prize_states)\n",
    "        self.terminal_state = None\n",
    "        \n",
    "        for prize_state in self.prize_states:\n",
    "            self.reward_matrix[prize_state] = self.prize_value"
   ]
  },
  {
   "cell_type": "markdown",
   "id": "8ba234cc",
   "metadata": {},
   "source": [
    "# Agents\n",
    "\n",
    "Here we define different agents and allow them to play our games that we define above in the previous section"
   ]
  },
  {
   "cell_type": "markdown",
   "id": "e66a16f7",
   "metadata": {},
   "source": [
    "## TD Off-Policy Agent: Q-Learning"
   ]
  },
  {
   "cell_type": "code",
   "execution_count": 15,
   "id": "1b788422",
   "metadata": {},
   "outputs": [],
   "source": [
    "class QLearningTable:\n",
    "    \"\"\"\n",
    "    This class implements the qtable object with qlearning update rules\n",
    "    \"\"\"\n",
    "    def __init__(self, Game, alpha, discount):\n",
    "        self.Game = Game\n",
    "        self.matrix = np.zeros([Game.height*Game.width, len(Game.moves)])\n",
    "        self.alpha = alpha\n",
    "        self.discount = discount\n",
    "        self.target_policy = np.ones_like(self.matrix) / len(Game.moves)\n",
    "\n",
    "    def get_target_policy(self):\n",
    "        \"\"\"\n",
    "        This function gets the deterministic (greedy) policy derived from the qtable\n",
    "        \"\"\"\n",
    "        current_state = self.Game.start_state\n",
    "        move_idxs = np.arange(len(self.Game.moves))\n",
    "        while current_state != self.Game.terminal_state:\n",
    "            next_action_idx = np.argmax(self.matrix[self.Game.point_to_index(current_state), :])\n",
    "            \n",
    "            self.target_policy[self.Game.point_to_index(current_state), next_action_idx] = 1\n",
    "            not_next_action_idxs = move_idxs[np.arange(len(move_idxs))!=next_action_idx]\n",
    "        \n",
    "            self.target_policy[self.Game.point_to_index(current_state),not_next_action_idxs] = 0\n",
    "            \n",
    "            next_action = self.Game.moves[next_action_idx]\n",
    "            current_state = tuple(np.array(current_state) + np.array(next_action))\n",
    "        \n",
    "    def get_return(self, state, action):\n",
    "        \"\"\"\n",
    "        state - some integer index corresponding to a tuple point in the grid game\n",
    "        action - some integer index corresponding to a possible action taken in the grid game\n",
    "        This function returns the expected return from the qtable for a specific action made in a specific state\n",
    "        \"\"\"\n",
    "        return self.matrix[state, action]\n",
    "\n",
    "    def max_lookahead(self, state):\n",
    "        \"\"\"\n",
    "        state - this is s', a point in the grid where are agent is going to be when taking action a in state s\n",
    "        This function finds the best action which maximizes the next move made from s' (state)\n",
    "        \"\"\"\n",
    "        aprime = np.argmax(self.matrix[state, :])\n",
    "        return self.get_return(state,aprime)\n",
    "\n",
    "    def update_qtable(self, state, action, reward, new_state):\n",
    "        \"\"\"\n",
    "        state - a point on the grid where your agent is performing an action from (converted to index in qtable)\n",
    "        action - this is an integer corresponding to a tuple that makes the agent move up, left, down, or right and represents \n",
    "          the selected move made by the agent in the state provided above\n",
    "        (state, action) pair provided above can be plugged directly into qtable\n",
    "        reward - this is an integer corresponding to the reward for the above (state, action) tuple\n",
    "        \"\"\"\n",
    "        # action equals 0, 1, 2, 3\n",
    "        current_reward = self.matrix[state,action]\n",
    "        self.matrix[state, action] = current_reward + self.alpha * (reward + self.discount * self.max_lookahead(new_state) - current_reward)\n",
    "        "
   ]
  },
  {
   "cell_type": "code",
   "execution_count": 7,
   "id": "958ef62f",
   "metadata": {},
   "outputs": [],
   "source": [
    "class QLearningAgent:\n",
    "    \"\"\"\n",
    "    This class implements a temporal difference off-policy (qlearning) agent that can play grid games\n",
    "    \"\"\"\n",
    "    def __init__(self, Game, model):\n",
    "        self.Game = Game\n",
    "        self.model = model\n",
    "        self.behavior_policy = np.ones_like(self.model.matrix) / len(self.Game.moves)\n",
    "        self.target_policy = None\n",
    "        \n",
    "    def get_target_policy(self):\n",
    "        \"\"\"\n",
    "        This function obtains the deterministic (greedy) policy from the qtable\n",
    "        \"\"\"\n",
    "        self.model.get_target_policy()\n",
    "        self.target_policy = self.model.target_policy\n",
    "    \n",
    "    def update_model(self, state, action, reward, new_state):\n",
    "        \"\"\"\n",
    "        state - a tuple point corresponding to a square in a grid game\n",
    "        action - a tuple move corresponding to an action made in a grid game\n",
    "        reward - the reward derived from the game's reward matrix for specific action taken in specific state\n",
    "        new_state - a tuple point corresponding to the square in the grid game that your agent moved to \n",
    "            from taking the action described above in the state described above\n",
    "        This function updates the qtable by calling update_qtable and passing the necessary information about the game environment\n",
    "        \"\"\"\n",
    "        new_state = self.Game.point_to_index(new_state)\n",
    "        state = self.Game.point_to_index(state)\n",
    "        action = self.Game.moves.index(action)\n",
    "        self.model.update_qtable(state, action, reward, new_state)\n",
    "    \n",
    "    def get_action(self, state):\n",
    "        \"\"\"\n",
    "        state - a tuple point that corresponds to a square in a grid game\n",
    "        This function obtains an action from the games possible moves based on the agent's behavior policy\n",
    "        \"\"\"\n",
    "        probs = self.behavior_policy[self.Game.point_to_index(state),:]\n",
    "        print(\"probs\", probs)\n",
    "        r = random.random()\n",
    "        for move_idx, prob in enumerate(probs):\n",
    "            if r > prob:\n",
    "                r -= prob\n",
    "            else:\n",
    "                return self.Game.moves[move_idx]\n",
    "\n",
    "        return self.moves[random.randint(0,len(self.moves))]\n",
    "    \n",
    "    def play_game(self, episodes, output=False):\n",
    "        \"\"\"\n",
    "        episodes - an integer that corresponds to the number of times your agent plays the game\n",
    "        This function has your agent play the game and update its model of the game\n",
    "        \"\"\"\n",
    "        player_scores = []\n",
    "        #number of times player plays the game is episodes.\n",
    "\n",
    "        for i in range(episodes):\n",
    "            #in each episode, the player needs to complete the task in T steps (t = 0,1,...,t-2,t-1,T)\n",
    "\n",
    "            t = 0\n",
    "            episode_reward = 0\n",
    "            self.Game.draw()\n",
    "\n",
    "            #while agent is not in a terminal state\n",
    "            while self.Game.agent_pos != self.Game.terminal_state:\n",
    "                #Take action A, get reward R, step into s'\n",
    "                #Find a that is max(s',a)\n",
    "\n",
    "                if output:\n",
    "                    print(\"Player's position\",self.Game.agent_pos)\n",
    "\n",
    "                t += 1\n",
    "\n",
    "                #get possible moves going up, left, down, and right\n",
    "                new_action = self.get_action(self.Game.agent_pos)\n",
    "                new_state = tuple(np.array(self.Game.agent_pos) + np.array(new_action))\n",
    "\n",
    "                #if move is illegal (going off the board), set reward to very bad\n",
    "                if self.Game.illegal_move(new_state):\n",
    "                    reward = -10000\n",
    "                    self.update_model(self.Game.agent_pos, new_action, reward, self.Game.agent_pos)\n",
    "                else:\n",
    "                #else the selected move is legal and we should get reward r for agent going to state s'\n",
    "                    reward = self.Game.get_reward(new_state)\n",
    "                    self.update_model(self.Game.agent_pos, new_action, reward, new_state)\n",
    "                    self.Game.update_state(new_state)\n",
    "\n",
    "                episode_reward += reward\n",
    "\n",
    "                \n",
    "#                 print(\"Player's possible moves: \",self.Game.get_moves(self.Game.agent_pos))\n",
    "#                 print(\"Player's chosen move\",new_state)\n",
    "#                 print(\"Player's new position\",self.Game.agent_pos)\n",
    "#                 print(\"Player's reward for this move\",reward)\n",
    "#                 print(\"Number of moves made to perform task: \",t)\n",
    "\n",
    "                if self.Game.terminal_state is not None and self.Game.agent_pos in self.Game.terminal_state:\n",
    "                    print(\"Player found the target square: \",self.Game.terminal_state)\n",
    "\n",
    "#                 self.Game.draw()\n",
    "                \n",
    "\n",
    "            player_scores.append(episode_reward)\n",
    "\n",
    "            print(\"Player finished task in :\",t, \" moves\")\n",
    "            self.Game.refresh_game()\n",
    "\n",
    "        print(\"Player scores for every episode: \",player_scores)\n",
    "        self.Game.refresh_game()"
   ]
  },
  {
   "cell_type": "markdown",
   "id": "12213cef",
   "metadata": {},
   "source": [
    "# Game-Agent Testing"
   ]
  },
  {
   "cell_type": "code",
   "execution_count": 8,
   "id": "1ef4bbe9",
   "metadata": {},
   "outputs": [
    {
     "name": "stdout",
     "output_type": "stream",
     "text": [
      "[[-1. -1. -1.]\n",
      " [-1. -1. -1.]\n",
      " [-1. -1.  0.]]\n"
     ]
    }
   ],
   "source": [
    "reward_matrix = np.ones((3,3))*-1\n",
    "reward_matrix[(2,2)] = 0\n",
    "print(reward_matrix)\n",
    "target_game = Targeting_Game( (3,3), (0,0), (2,2), reward_matrix)\n",
    "\n",
    "\n",
    "qtable = QTable(target_game, 0.1, 0.25)\n",
    "agent = Agent(target_game, qtable)\n",
    "\n",
    "#play_game(target_game, 1, output=True)"
   ]
  },
  {
   "cell_type": "code",
   "execution_count": 9,
   "id": "a9ab35da",
   "metadata": {},
   "outputs": [
    {
     "data": {
      "image/png": "[encoded data removed]",
      "text/plain": [
       "<PIL.Image.Image image mode=RGB size=501x501 at 0x7FBB471C1940>"
      ]
     },
     "metadata": {},
     "output_type": "display_data"
    },
    {
     "name": "stdout",
     "output_type": "stream",
     "text": [
      "probs [0.25 0.25 0.25 0.25]\n",
      "probs [0.25 0.25 0.25 0.25]\n",
      "probs [0.25 0.25 0.25 0.25]\n",
      "probs [0.25 0.25 0.25 0.25]\n",
      "probs [0.25 0.25 0.25 0.25]\n",
      "probs [0.25 0.25 0.25 0.25]\n",
      "probs [0.25 0.25 0.25 0.25]\n",
      "Player finished task in : 7  moves\n"
     ]
    },
    {
     "data": {
      "image/png": "[encoded data removed]",
      "text/plain": [
       "<PIL.Image.Image image mode=RGB size=501x501 at 0x7FBB471B6AC0>"
      ]
     },
     "metadata": {},
     "output_type": "display_data"
    },
    {
     "name": "stdout",
     "output_type": "stream",
     "text": [
      "probs [0.25 0.25 0.25 0.25]\n",
      "probs [0.25 0.25 0.25 0.25]\n",
      "probs [0.25 0.25 0.25 0.25]\n",
      "probs [0.25 0.25 0.25 0.25]\n",
      "probs [0.25 0.25 0.25 0.25]\n",
      "Player finished task in : 5  moves\n"
     ]
    },
    {
     "data": {
      "image/png": "[encoded data removed]",
      "text/plain": [
       "<PIL.Image.Image image mode=RGB size=501x501 at 0x7FBB47326E80>"
      ]
     },
     "metadata": {},
     "output_type": "display_data"
    },
    {
     "name": "stdout",
     "output_type": "stream",
     "text": [
      "probs [0.25 0.25 0.25 0.25]\n",
      "probs [0.25 0.25 0.25 0.25]\n",
      "probs [0.25 0.25 0.25 0.25]\n",
      "probs [0.25 0.25 0.25 0.25]\n",
      "probs [0.25 0.25 0.25 0.25]\n",
      "probs [0.25 0.25 0.25 0.25]\n",
      "probs [0.25 0.25 0.25 0.25]\n",
      "probs [0.25 0.25 0.25 0.25]\n",
      "probs [0.25 0.25 0.25 0.25]\n",
      "probs [0.25 0.25 0.25 0.25]\n",
      "probs [0.25 0.25 0.25 0.25]\n",
      "Player finished task in : 11  moves\n"
     ]
    },
    {
     "data": {
      "image/png": "[encoded data removed]",
      "text/plain": [
       "<PIL.Image.Image image mode=RGB size=501x501 at 0x7FBB471C1940>"
      ]
     },
     "metadata": {},
     "output_type": "display_data"
    },
    {
     "name": "stdout",
     "output_type": "stream",
     "text": [
      "probs [0.25 0.25 0.25 0.25]\n",
      "probs [0.25 0.25 0.25 0.25]\n",
      "probs [0.25 0.25 0.25 0.25]\n",
      "probs [0.25 0.25 0.25 0.25]\n",
      "probs [0.25 0.25 0.25 0.25]\n",
      "probs [0.25 0.25 0.25 0.25]\n",
      "probs [0.25 0.25 0.25 0.25]\n",
      "probs [0.25 0.25 0.25 0.25]\n",
      "probs [0.25 0.25 0.25 0.25]\n",
      "probs [0.25 0.25 0.25 0.25]\n",
      "probs [0.25 0.25 0.25 0.25]\n",
      "probs [0.25 0.25 0.25 0.25]\n",
      "probs [0.25 0.25 0.25 0.25]\n",
      "probs [0.25 0.25 0.25 0.25]\n",
      "probs [0.25 0.25 0.25 0.25]\n",
      "probs [0.25 0.25 0.25 0.25]\n",
      "probs [0.25 0.25 0.25 0.25]\n",
      "probs [0.25 0.25 0.25 0.25]\n",
      "probs [0.25 0.25 0.25 0.25]\n",
      "probs [0.25 0.25 0.25 0.25]\n",
      "Player finished task in : 20  moves\n"
     ]
    },
    {
     "data": {
      "image/png": "[encoded data removed]",
      "text/plain": [
       "<PIL.Image.Image image mode=RGB size=501x501 at 0x7FBB47331FA0>"
      ]
     },
     "metadata": {},
     "output_type": "display_data"
    },
    {
     "name": "stdout",
     "output_type": "stream",
     "text": [
      "probs [0.25 0.25 0.25 0.25]\n",
      "probs [0.25 0.25 0.25 0.25]\n",
      "probs [0.25 0.25 0.25 0.25]\n",
      "probs [0.25 0.25 0.25 0.25]\n",
      "probs [0.25 0.25 0.25 0.25]\n",
      "probs [0.25 0.25 0.25 0.25]\n",
      "probs [0.25 0.25 0.25 0.25]\n",
      "probs [0.25 0.25 0.25 0.25]\n",
      "probs [0.25 0.25 0.25 0.25]\n",
      "probs [0.25 0.25 0.25 0.25]\n",
      "probs [0.25 0.25 0.25 0.25]\n",
      "probs [0.25 0.25 0.25 0.25]\n",
      "probs [0.25 0.25 0.25 0.25]\n",
      "probs [0.25 0.25 0.25 0.25]\n",
      "probs [0.25 0.25 0.25 0.25]\n",
      "probs [0.25 0.25 0.25 0.25]\n",
      "probs [0.25 0.25 0.25 0.25]\n",
      "probs [0.25 0.25 0.25 0.25]\n",
      "probs [0.25 0.25 0.25 0.25]\n",
      "probs [0.25 0.25 0.25 0.25]\n",
      "probs [0.25 0.25 0.25 0.25]\n",
      "probs [0.25 0.25 0.25 0.25]\n",
      "probs [0.25 0.25 0.25 0.25]\n",
      "probs [0.25 0.25 0.25 0.25]\n",
      "probs [0.25 0.25 0.25 0.25]\n",
      "probs [0.25 0.25 0.25 0.25]\n",
      "probs [0.25 0.25 0.25 0.25]\n",
      "probs [0.25 0.25 0.25 0.25]\n",
      "probs [0.25 0.25 0.25 0.25]\n",
      "probs [0.25 0.25 0.25 0.25]\n",
      "probs [0.25 0.25 0.25 0.25]\n",
      "probs [0.25 0.25 0.25 0.25]\n",
      "probs [0.25 0.25 0.25 0.25]\n",
      "probs [0.25 0.25 0.25 0.25]\n",
      "probs [0.25 0.25 0.25 0.25]\n",
      "probs [0.25 0.25 0.25 0.25]\n",
      "probs [0.25 0.25 0.25 0.25]\n",
      "probs [0.25 0.25 0.25 0.25]\n",
      "probs [0.25 0.25 0.25 0.25]\n",
      "probs [0.25 0.25 0.25 0.25]\n",
      "probs [0.25 0.25 0.25 0.25]\n",
      "probs [0.25 0.25 0.25 0.25]\n",
      "probs [0.25 0.25 0.25 0.25]\n",
      "probs [0.25 0.25 0.25 0.25]\n",
      "probs [0.25 0.25 0.25 0.25]\n",
      "probs [0.25 0.25 0.25 0.25]\n",
      "probs [0.25 0.25 0.25 0.25]\n",
      "Player finished task in : 47  moves\n"
     ]
    },
    {
     "data": {
      "image/png": "[encoded data removed]",
      "text/plain": [
       "<PIL.Image.Image image mode=RGB size=501x501 at 0x7FBB473107C0>"
      ]
     },
     "metadata": {},
     "output_type": "display_data"
    },
    {
     "name": "stdout",
     "output_type": "stream",
     "text": [
      "probs [0.25 0.25 0.25 0.25]\n",
      "probs [0.25 0.25 0.25 0.25]\n",
      "probs [0.25 0.25 0.25 0.25]\n",
      "probs [0.25 0.25 0.25 0.25]\n",
      "probs [0.25 0.25 0.25 0.25]\n",
      "probs [0.25 0.25 0.25 0.25]\n",
      "probs [0.25 0.25 0.25 0.25]\n",
      "probs [0.25 0.25 0.25 0.25]\n",
      "probs [0.25 0.25 0.25 0.25]\n",
      "probs [0.25 0.25 0.25 0.25]\n",
      "probs [0.25 0.25 0.25 0.25]\n",
      "probs [0.25 0.25 0.25 0.25]\n",
      "probs [0.25 0.25 0.25 0.25]\n",
      "probs [0.25 0.25 0.25 0.25]\n",
      "probs [0.25 0.25 0.25 0.25]\n",
      "probs [0.25 0.25 0.25 0.25]\n",
      "probs [0.25 0.25 0.25 0.25]\n",
      "probs [0.25 0.25 0.25 0.25]\n",
      "probs [0.25 0.25 0.25 0.25]\n",
      "probs [0.25 0.25 0.25 0.25]\n",
      "probs [0.25 0.25 0.25 0.25]\n",
      "probs [0.25 0.25 0.25 0.25]\n",
      "probs [0.25 0.25 0.25 0.25]\n",
      "probs [0.25 0.25 0.25 0.25]\n",
      "probs [0.25 0.25 0.25 0.25]\n",
      "probs [0.25 0.25 0.25 0.25]\n",
      "probs [0.25 0.25 0.25 0.25]\n",
      "probs [0.25 0.25 0.25 0.25]\n",
      "probs [0.25 0.25 0.25 0.25]\n",
      "probs [0.25 0.25 0.25 0.25]\n",
      "probs [0.25 0.25 0.25 0.25]\n",
      "probs [0.25 0.25 0.25 0.25]\n",
      "probs [0.25 0.25 0.25 0.25]\n",
      "probs [0.25 0.25 0.25 0.25]\n",
      "probs [0.25 0.25 0.25 0.25]\n",
      "probs [0.25 0.25 0.25 0.25]\n",
      "Player finished task in : 36  moves\n"
     ]
    },
    {
     "data": {
      "image/png": "[encoded data removed]",
      "text/plain": [
       "<PIL.Image.Image image mode=RGB size=501x501 at 0x7FBB47326460>"
      ]
     },
     "metadata": {},
     "output_type": "display_data"
    },
    {
     "name": "stdout",
     "output_type": "stream",
     "text": [
      "probs [0.25 0.25 0.25 0.25]\n",
      "probs [0.25 0.25 0.25 0.25]\n",
      "probs [0.25 0.25 0.25 0.25]\n",
      "probs [0.25 0.25 0.25 0.25]\n",
      "probs [0.25 0.25 0.25 0.25]\n",
      "probs [0.25 0.25 0.25 0.25]\n",
      "probs [0.25 0.25 0.25 0.25]\n",
      "probs [0.25 0.25 0.25 0.25]\n",
      "probs [0.25 0.25 0.25 0.25]\n",
      "probs [0.25 0.25 0.25 0.25]\n",
      "probs [0.25 0.25 0.25 0.25]\n",
      "probs [0.25 0.25 0.25 0.25]\n",
      "probs [0.25 0.25 0.25 0.25]\n",
      "Player finished task in : 13  moves\n"
     ]
    },
    {
     "data": {
      "image/png": "[encoded data removed]",
      "text/plain": [
       "<PIL.Image.Image image mode=RGB size=501x501 at 0x7FBB47326F10>"
      ]
     },
     "metadata": {},
     "output_type": "display_data"
    },
    {
     "name": "stdout",
     "output_type": "stream",
     "text": [
      "probs [0.25 0.25 0.25 0.25]\n",
      "probs [0.25 0.25 0.25 0.25]\n",
      "probs [0.25 0.25 0.25 0.25]\n",
      "probs [0.25 0.25 0.25 0.25]\n",
      "probs [0.25 0.25 0.25 0.25]\n",
      "probs [0.25 0.25 0.25 0.25]\n",
      "probs [0.25 0.25 0.25 0.25]\n",
      "probs [0.25 0.25 0.25 0.25]\n",
      "probs [0.25 0.25 0.25 0.25]\n",
      "Player finished task in : 9  moves\n"
     ]
    },
    {
     "data": {
      "image/png": "[encoded data removed]",
      "text/plain": [
       "<PIL.Image.Image image mode=RGB size=501x501 at 0x7FBB47326F10>"
      ]
     },
     "metadata": {},
     "output_type": "display_data"
    },
    {
     "name": "stdout",
     "output_type": "stream",
     "text": [
      "probs [0.25 0.25 0.25 0.25]\n",
      "probs [0.25 0.25 0.25 0.25]\n",
      "probs [0.25 0.25 0.25 0.25]\n",
      "probs [0.25 0.25 0.25 0.25]\n",
      "probs [0.25 0.25 0.25 0.25]\n",
      "probs [0.25 0.25 0.25 0.25]\n",
      "probs [0.25 0.25 0.25 0.25]\n",
      "probs [0.25 0.25 0.25 0.25]\n",
      "probs [0.25 0.25 0.25 0.25]\n",
      "probs [0.25 0.25 0.25 0.25]\n",
      "probs [0.25 0.25 0.25 0.25]\n",
      "probs [0.25 0.25 0.25 0.25]\n",
      "probs [0.25 0.25 0.25 0.25]\n",
      "probs [0.25 0.25 0.25 0.25]\n",
      "probs [0.25 0.25 0.25 0.25]\n",
      "probs [0.25 0.25 0.25 0.25]\n",
      "probs [0.25 0.25 0.25 0.25]\n",
      "Player finished task in : 17  moves\n"
     ]
    },
    {
     "data": {
      "image/png": "[encoded data removed]",
      "text/plain": [
       "<PIL.Image.Image image mode=RGB size=501x501 at 0x7FBB471B6850>"
      ]
     },
     "metadata": {},
     "output_type": "display_data"
    },
    {
     "name": "stdout",
     "output_type": "stream",
     "text": [
      "probs [0.25 0.25 0.25 0.25]\n",
      "probs [0.25 0.25 0.25 0.25]\n",
      "probs [0.25 0.25 0.25 0.25]\n",
      "probs [0.25 0.25 0.25 0.25]\n",
      "probs [0.25 0.25 0.25 0.25]\n",
      "probs [0.25 0.25 0.25 0.25]\n",
      "probs [0.25 0.25 0.25 0.25]\n",
      "probs [0.25 0.25 0.25 0.25]\n",
      "probs [0.25 0.25 0.25 0.25]\n",
      "probs [0.25 0.25 0.25 0.25]\n",
      "probs [0.25 0.25 0.25 0.25]\n",
      "probs [0.25 0.25 0.25 0.25]\n",
      "probs [0.25 0.25 0.25 0.25]\n",
      "probs [0.25 0.25 0.25 0.25]\n",
      "probs [0.25 0.25 0.25 0.25]\n",
      "probs [0.25 0.25 0.25 0.25]\n",
      "probs [0.25 0.25 0.25 0.25]\n",
      "probs [0.25 0.25 0.25 0.25]\n",
      "probs [0.25 0.25 0.25 0.25]\n",
      "probs [0.25 0.25 0.25 0.25]\n",
      "probs [0.25 0.25 0.25 0.25]\n",
      "probs [0.25 0.25 0.25 0.25]\n",
      "probs [0.25 0.25 0.25 0.25]\n",
      "Player finished task in : 23  moves\n"
     ]
    },
    {
     "data": {
      "image/png": "[encoded data removed]",
      "text/plain": [
       "<PIL.Image.Image image mode=RGB size=501x501 at 0x7FBB471C1940>"
      ]
     },
     "metadata": {},
     "output_type": "display_data"
    },
    {
     "name": "stdout",
     "output_type": "stream",
     "text": [
      "probs [0.25 0.25 0.25 0.25]\n",
      "probs [0.25 0.25 0.25 0.25]\n",
      "probs [0.25 0.25 0.25 0.25]\n",
      "probs [0.25 0.25 0.25 0.25]\n",
      "probs [0.25 0.25 0.25 0.25]\n",
      "probs [0.25 0.25 0.25 0.25]\n",
      "probs [0.25 0.25 0.25 0.25]\n",
      "probs [0.25 0.25 0.25 0.25]\n",
      "probs [0.25 0.25 0.25 0.25]\n",
      "probs [0.25 0.25 0.25 0.25]\n",
      "probs [0.25 0.25 0.25 0.25]\n",
      "probs [0.25 0.25 0.25 0.25]\n",
      "probs [0.25 0.25 0.25 0.25]\n",
      "probs [0.25 0.25 0.25 0.25]\n",
      "probs [0.25 0.25 0.25 0.25]\n",
      "probs [0.25 0.25 0.25 0.25]\n",
      "probs [0.25 0.25 0.25 0.25]\n",
      "probs [0.25 0.25 0.25 0.25]\n",
      "probs [0.25 0.25 0.25 0.25]\n",
      "probs [0.25 0.25 0.25 0.25]\n",
      "probs [0.25 0.25 0.25 0.25]\n",
      "probs [0.25 0.25 0.25 0.25]\n",
      "probs [0.25 0.25 0.25 0.25]\n",
      "probs [0.25 0.25 0.25 0.25]\n",
      "probs [0.25 0.25 0.25 0.25]\n",
      "probs [0.25 0.25 0.25 0.25]\n",
      "probs [0.25 0.25 0.25 0.25]\n",
      "probs [0.25 0.25 0.25 0.25]\n",
      "probs [0.25 0.25 0.25 0.25]\n",
      "probs [0.25 0.25 0.25 0.25]\n",
      "probs [0.25 0.25 0.25 0.25]\n",
      "probs [0.25 0.25 0.25 0.25]\n",
      "probs [0.25 0.25 0.25 0.25]\n",
      "probs [0.25 0.25 0.25 0.25]\n",
      "probs [0.25 0.25 0.25 0.25]\n",
      "probs [0.25 0.25 0.25 0.25]\n",
      "probs [0.25 0.25 0.25 0.25]\n",
      "probs [0.25 0.25 0.25 0.25]\n",
      "probs [0.25 0.25 0.25 0.25]\n",
      "probs [0.25 0.25 0.25 0.25]\n",
      "probs [0.25 0.25 0.25 0.25]\n",
      "probs [0.25 0.25 0.25 0.25]\n",
      "probs [0.25 0.25 0.25 0.25]\n",
      "Player finished task in : 43  moves\n"
     ]
    },
    {
     "data": {
      "image/png": "[encoded data removed]",
      "text/plain": [
       "<PIL.Image.Image image mode=RGB size=501x501 at 0x7FBB471C1310>"
      ]
     },
     "metadata": {},
     "output_type": "display_data"
    },
    {
     "name": "stdout",
     "output_type": "stream",
     "text": [
      "probs [0.25 0.25 0.25 0.25]\n",
      "probs [0.25 0.25 0.25 0.25]\n",
      "probs [0.25 0.25 0.25 0.25]\n",
      "probs [0.25 0.25 0.25 0.25]\n",
      "probs [0.25 0.25 0.25 0.25]\n",
      "probs [0.25 0.25 0.25 0.25]\n",
      "probs [0.25 0.25 0.25 0.25]\n",
      "Player finished task in : 7  moves\n"
     ]
    },
    {
     "data": {
      "image/png": "[encoded data removed]",
      "text/plain": [
       "<PIL.Image.Image image mode=RGB size=501x501 at 0x7FBB471C1850>"
      ]
     },
     "metadata": {},
     "output_type": "display_data"
    },
    {
     "name": "stdout",
     "output_type": "stream",
     "text": [
      "probs [0.25 0.25 0.25 0.25]\n",
      "probs [0.25 0.25 0.25 0.25]\n",
      "probs [0.25 0.25 0.25 0.25]\n",
      "probs [0.25 0.25 0.25 0.25]\n",
      "probs [0.25 0.25 0.25 0.25]\n",
      "probs [0.25 0.25 0.25 0.25]\n",
      "probs [0.25 0.25 0.25 0.25]\n",
      "probs [0.25 0.25 0.25 0.25]\n",
      "probs [0.25 0.25 0.25 0.25]\n",
      "probs [0.25 0.25 0.25 0.25]\n",
      "probs [0.25 0.25 0.25 0.25]\n",
      "probs [0.25 0.25 0.25 0.25]\n",
      "probs [0.25 0.25 0.25 0.25]\n",
      "probs [0.25 0.25 0.25 0.25]\n",
      "probs [0.25 0.25 0.25 0.25]\n",
      "probs [0.25 0.25 0.25 0.25]\n",
      "probs [0.25 0.25 0.25 0.25]\n",
      "probs [0.25 0.25 0.25 0.25]\n",
      "probs [0.25 0.25 0.25 0.25]\n",
      "probs [0.25 0.25 0.25 0.25]\n",
      "probs [0.25 0.25 0.25 0.25]\n",
      "probs [0.25 0.25 0.25 0.25]\n",
      "Player finished task in : 22  moves\n"
     ]
    },
    {
     "data": {
      "image/png": "[encoded data removed]",
      "text/plain": [
       "<PIL.Image.Image image mode=RGB size=501x501 at 0x7FBB4733DDF0>"
      ]
     },
     "metadata": {},
     "output_type": "display_data"
    },
    {
     "name": "stdout",
     "output_type": "stream",
     "text": [
      "probs [0.25 0.25 0.25 0.25]\n",
      "probs [0.25 0.25 0.25 0.25]\n",
      "probs [0.25 0.25 0.25 0.25]\n",
      "probs [0.25 0.25 0.25 0.25]\n",
      "probs [0.25 0.25 0.25 0.25]\n",
      "probs [0.25 0.25 0.25 0.25]\n",
      "probs [0.25 0.25 0.25 0.25]\n",
      "probs [0.25 0.25 0.25 0.25]\n",
      "probs [0.25 0.25 0.25 0.25]\n",
      "Player finished task in : 9  moves\n"
     ]
    },
    {
     "data": {
      "image/png": "[encoded data removed]",
      "text/plain": [
       "<PIL.Image.Image image mode=RGB size=501x501 at 0x7FBB4733D190>"
      ]
     },
     "metadata": {},
     "output_type": "display_data"
    },
    {
     "name": "stdout",
     "output_type": "stream",
     "text": [
      "probs [0.25 0.25 0.25 0.25]\n",
      "probs [0.25 0.25 0.25 0.25]\n",
      "probs [0.25 0.25 0.25 0.25]\n",
      "probs [0.25 0.25 0.25 0.25]\n",
      "probs [0.25 0.25 0.25 0.25]\n",
      "probs [0.25 0.25 0.25 0.25]\n",
      "probs [0.25 0.25 0.25 0.25]\n",
      "probs [0.25 0.25 0.25 0.25]\n",
      "probs [0.25 0.25 0.25 0.25]\n",
      "probs [0.25 0.25 0.25 0.25]\n",
      "probs [0.25 0.25 0.25 0.25]\n",
      "probs [0.25 0.25 0.25 0.25]\n",
      "probs [0.25 0.25 0.25 0.25]\n",
      "probs [0.25 0.25 0.25 0.25]\n",
      "probs [0.25 0.25 0.25 0.25]\n",
      "probs [0.25 0.25 0.25 0.25]\n",
      "probs [0.25 0.25 0.25 0.25]\n",
      "probs [0.25 0.25 0.25 0.25]\n",
      "probs [0.25 0.25 0.25 0.25]\n",
      "probs [0.25 0.25 0.25 0.25]\n",
      "probs [0.25 0.25 0.25 0.25]\n",
      "probs [0.25 0.25 0.25 0.25]\n",
      "probs [0.25 0.25 0.25 0.25]\n",
      "probs [0.25 0.25 0.25 0.25]\n",
      "probs [0.25 0.25 0.25 0.25]\n",
      "probs [0.25 0.25 0.25 0.25]\n",
      "probs [0.25 0.25 0.25 0.25]\n",
      "Player finished task in : 27  moves\n"
     ]
    },
    {
     "data": {
      "image/png": "[encoded data removed]",
      "text/plain": [
       "<PIL.Image.Image image mode=RGB size=501x501 at 0x7FBB471B6C10>"
      ]
     },
     "metadata": {},
     "output_type": "display_data"
    },
    {
     "name": "stdout",
     "output_type": "stream",
     "text": [
      "probs [0.25 0.25 0.25 0.25]\n",
      "probs [0.25 0.25 0.25 0.25]\n",
      "probs [0.25 0.25 0.25 0.25]\n",
      "probs [0.25 0.25 0.25 0.25]\n",
      "probs [0.25 0.25 0.25 0.25]\n",
      "probs [0.25 0.25 0.25 0.25]\n",
      "probs [0.25 0.25 0.25 0.25]\n",
      "probs [0.25 0.25 0.25 0.25]\n",
      "probs [0.25 0.25 0.25 0.25]\n",
      "probs [0.25 0.25 0.25 0.25]\n",
      "probs [0.25 0.25 0.25 0.25]\n",
      "probs [0.25 0.25 0.25 0.25]\n",
      "probs [0.25 0.25 0.25 0.25]\n",
      "probs [0.25 0.25 0.25 0.25]\n",
      "probs [0.25 0.25 0.25 0.25]\n",
      "probs [0.25 0.25 0.25 0.25]\n",
      "probs [0.25 0.25 0.25 0.25]\n",
      "probs [0.25 0.25 0.25 0.25]\n",
      "probs [0.25 0.25 0.25 0.25]\n",
      "probs [0.25 0.25 0.25 0.25]\n",
      "probs [0.25 0.25 0.25 0.25]\n",
      "probs [0.25 0.25 0.25 0.25]\n",
      "probs [0.25 0.25 0.25 0.25]\n",
      "probs [0.25 0.25 0.25 0.25]\n",
      "probs [0.25 0.25 0.25 0.25]\n",
      "probs [0.25 0.25 0.25 0.25]\n",
      "probs [0.25 0.25 0.25 0.25]\n",
      "probs [0.25 0.25 0.25 0.25]\n",
      "Player finished task in : 28  moves\n"
     ]
    },
    {
     "data": {
      "image/png": "[encoded data removed]",
      "text/plain": [
       "<PIL.Image.Image image mode=RGB size=501x501 at 0x7FBB473107C0>"
      ]
     },
     "metadata": {},
     "output_type": "display_data"
    },
    {
     "name": "stdout",
     "output_type": "stream",
     "text": [
      "probs [0.25 0.25 0.25 0.25]\n",
      "probs [0.25 0.25 0.25 0.25]\n",
      "probs [0.25 0.25 0.25 0.25]\n",
      "probs [0.25 0.25 0.25 0.25]\n",
      "probs [0.25 0.25 0.25 0.25]\n",
      "probs [0.25 0.25 0.25 0.25]\n",
      "probs [0.25 0.25 0.25 0.25]\n",
      "probs [0.25 0.25 0.25 0.25]\n",
      "probs [0.25 0.25 0.25 0.25]\n",
      "probs [0.25 0.25 0.25 0.25]\n",
      "probs [0.25 0.25 0.25 0.25]\n",
      "probs [0.25 0.25 0.25 0.25]\n",
      "probs [0.25 0.25 0.25 0.25]\n",
      "probs [0.25 0.25 0.25 0.25]\n",
      "probs [0.25 0.25 0.25 0.25]\n",
      "probs [0.25 0.25 0.25 0.25]\n",
      "probs [0.25 0.25 0.25 0.25]\n",
      "probs [0.25 0.25 0.25 0.25]\n",
      "probs [0.25 0.25 0.25 0.25]\n",
      "probs [0.25 0.25 0.25 0.25]\n",
      "probs [0.25 0.25 0.25 0.25]\n",
      "probs [0.25 0.25 0.25 0.25]\n",
      "probs [0.25 0.25 0.25 0.25]\n",
      "probs [0.25 0.25 0.25 0.25]\n",
      "probs [0.25 0.25 0.25 0.25]\n",
      "probs [0.25 0.25 0.25 0.25]\n",
      "Player finished task in : 26  moves\n"
     ]
    },
    {
     "data": {
      "image/png": "[encoded data removed]",
      "text/plain": [
       "<PIL.Image.Image image mode=RGB size=501x501 at 0x7FBB47326D30>"
      ]
     },
     "metadata": {},
     "output_type": "display_data"
    },
    {
     "name": "stdout",
     "output_type": "stream",
     "text": [
      "probs [0.25 0.25 0.25 0.25]\n",
      "probs [0.25 0.25 0.25 0.25]\n",
      "probs [0.25 0.25 0.25 0.25]\n",
      "probs [0.25 0.25 0.25 0.25]\n",
      "probs [0.25 0.25 0.25 0.25]\n",
      "probs [0.25 0.25 0.25 0.25]\n",
      "probs [0.25 0.25 0.25 0.25]\n",
      "probs [0.25 0.25 0.25 0.25]\n",
      "probs [0.25 0.25 0.25 0.25]\n",
      "probs [0.25 0.25 0.25 0.25]\n",
      "probs [0.25 0.25 0.25 0.25]\n",
      "probs [0.25 0.25 0.25 0.25]\n",
      "probs [0.25 0.25 0.25 0.25]\n",
      "probs [0.25 0.25 0.25 0.25]\n",
      "probs [0.25 0.25 0.25 0.25]\n",
      "probs [0.25 0.25 0.25 0.25]\n",
      "probs [0.25 0.25 0.25 0.25]\n",
      "probs [0.25 0.25 0.25 0.25]\n",
      "probs [0.25 0.25 0.25 0.25]\n",
      "probs [0.25 0.25 0.25 0.25]\n",
      "probs [0.25 0.25 0.25 0.25]\n",
      "probs [0.25 0.25 0.25 0.25]\n",
      "probs [0.25 0.25 0.25 0.25]\n",
      "probs [0.25 0.25 0.25 0.25]\n",
      "probs [0.25 0.25 0.25 0.25]\n",
      "probs [0.25 0.25 0.25 0.25]\n",
      "probs [0.25 0.25 0.25 0.25]\n",
      "probs [0.25 0.25 0.25 0.25]\n",
      "probs [0.25 0.25 0.25 0.25]\n",
      "probs [0.25 0.25 0.25 0.25]\n",
      "probs [0.25 0.25 0.25 0.25]\n",
      "probs [0.25 0.25 0.25 0.25]\n",
      "probs [0.25 0.25 0.25 0.25]\n",
      "probs [0.25 0.25 0.25 0.25]\n",
      "probs [0.25 0.25 0.25 0.25]\n",
      "probs [0.25 0.25 0.25 0.25]\n",
      "probs [0.25 0.25 0.25 0.25]\n",
      "probs [0.25 0.25 0.25 0.25]\n",
      "probs [0.25 0.25 0.25 0.25]\n",
      "probs [0.25 0.25 0.25 0.25]\n",
      "probs [0.25 0.25 0.25 0.25]\n",
      "probs [0.25 0.25 0.25 0.25]\n",
      "probs [0.25 0.25 0.25 0.25]\n",
      "probs [0.25 0.25 0.25 0.25]\n",
      "probs [0.25 0.25 0.25 0.25]\n",
      "probs [0.25 0.25 0.25 0.25]\n",
      "probs [0.25 0.25 0.25 0.25]\n",
      "probs [0.25 0.25 0.25 0.25]\n",
      "probs [0.25 0.25 0.25 0.25]\n",
      "probs [0.25 0.25 0.25 0.25]\n",
      "probs [0.25 0.25 0.25 0.25]\n",
      "probs [0.25 0.25 0.25 0.25]\n",
      "probs [0.25 0.25 0.25 0.25]\n",
      "probs [0.25 0.25 0.25 0.25]\n",
      "probs [0.25 0.25 0.25 0.25]\n",
      "probs [0.25 0.25 0.25 0.25]\n",
      "probs [0.25 0.25 0.25 0.25]\n",
      "probs [0.25 0.25 0.25 0.25]\n",
      "probs [0.25 0.25 0.25 0.25]\n",
      "probs [0.25 0.25 0.25 0.25]\n",
      "probs [0.25 0.25 0.25 0.25]\n",
      "probs [0.25 0.25 0.25 0.25]\n",
      "probs [0.25 0.25 0.25 0.25]\n",
      "probs [0.25 0.25 0.25 0.25]\n",
      "probs [0.25 0.25 0.25 0.25]\n",
      "probs [0.25 0.25 0.25 0.25]\n",
      "probs [0.25 0.25 0.25 0.25]\n",
      "probs [0.25 0.25 0.25 0.25]\n",
      "probs [0.25 0.25 0.25 0.25]\n",
      "Player finished task in : 69  moves\n"
     ]
    },
    {
     "data": {
      "image/png": "[encoded data removed]",
      "text/plain": [
       "<PIL.Image.Image image mode=RGB size=501x501 at 0x7FBB4733D670>"
      ]
     },
     "metadata": {},
     "output_type": "display_data"
    },
    {
     "name": "stdout",
     "output_type": "stream",
     "text": [
      "probs [0.25 0.25 0.25 0.25]\n",
      "probs [0.25 0.25 0.25 0.25]\n",
      "probs [0.25 0.25 0.25 0.25]\n",
      "probs [0.25 0.25 0.25 0.25]\n",
      "probs [0.25 0.25 0.25 0.25]\n",
      "probs [0.25 0.25 0.25 0.25]\n",
      "probs [0.25 0.25 0.25 0.25]\n",
      "probs [0.25 0.25 0.25 0.25]\n",
      "probs [0.25 0.25 0.25 0.25]\n",
      "probs [0.25 0.25 0.25 0.25]\n",
      "probs [0.25 0.25 0.25 0.25]\n",
      "probs [0.25 0.25 0.25 0.25]\n",
      "probs [0.25 0.25 0.25 0.25]\n",
      "probs [0.25 0.25 0.25 0.25]\n",
      "probs [0.25 0.25 0.25 0.25]\n",
      "probs [0.25 0.25 0.25 0.25]\n",
      "probs [0.25 0.25 0.25 0.25]\n",
      "probs [0.25 0.25 0.25 0.25]\n",
      "probs [0.25 0.25 0.25 0.25]\n",
      "probs [0.25 0.25 0.25 0.25]\n",
      "probs [0.25 0.25 0.25 0.25]\n",
      "probs [0.25 0.25 0.25 0.25]\n",
      "probs [0.25 0.25 0.25 0.25]\n",
      "probs [0.25 0.25 0.25 0.25]\n",
      "probs [0.25 0.25 0.25 0.25]\n",
      "probs [0.25 0.25 0.25 0.25]\n",
      "probs [0.25 0.25 0.25 0.25]\n",
      "probs [0.25 0.25 0.25 0.25]\n",
      "probs [0.25 0.25 0.25 0.25]\n",
      "probs [0.25 0.25 0.25 0.25]\n",
      "probs [0.25 0.25 0.25 0.25]\n",
      "probs [0.25 0.25 0.25 0.25]\n",
      "probs [0.25 0.25 0.25 0.25]\n",
      "probs [0.25 0.25 0.25 0.25]\n",
      "probs [0.25 0.25 0.25 0.25]\n",
      "probs [0.25 0.25 0.25 0.25]\n",
      "probs [0.25 0.25 0.25 0.25]\n",
      "probs [0.25 0.25 0.25 0.25]\n",
      "probs [0.25 0.25 0.25 0.25]\n",
      "probs [0.25 0.25 0.25 0.25]\n",
      "probs [0.25 0.25 0.25 0.25]\n",
      "probs [0.25 0.25 0.25 0.25]\n",
      "probs [0.25 0.25 0.25 0.25]\n",
      "probs [0.25 0.25 0.25 0.25]\n",
      "Player finished task in : 44  moves\n"
     ]
    },
    {
     "data": {
      "image/png": "[encoded data removed]",
      "text/plain": [
       "<PIL.Image.Image image mode=RGB size=501x501 at 0x7FBB471C15B0>"
      ]
     },
     "metadata": {},
     "output_type": "display_data"
    },
    {
     "name": "stdout",
     "output_type": "stream",
     "text": [
      "probs [0.25 0.25 0.25 0.25]\n",
      "probs [0.25 0.25 0.25 0.25]\n",
      "probs [0.25 0.25 0.25 0.25]\n",
      "probs [0.25 0.25 0.25 0.25]\n",
      "probs [0.25 0.25 0.25 0.25]\n",
      "probs [0.25 0.25 0.25 0.25]\n",
      "probs [0.25 0.25 0.25 0.25]\n",
      "probs [0.25 0.25 0.25 0.25]\n",
      "probs [0.25 0.25 0.25 0.25]\n",
      "probs [0.25 0.25 0.25 0.25]\n",
      "probs [0.25 0.25 0.25 0.25]\n",
      "probs [0.25 0.25 0.25 0.25]\n",
      "probs [0.25 0.25 0.25 0.25]\n",
      "probs [0.25 0.25 0.25 0.25]\n",
      "probs [0.25 0.25 0.25 0.25]\n",
      "probs [0.25 0.25 0.25 0.25]\n",
      "probs [0.25 0.25 0.25 0.25]\n",
      "probs [0.25 0.25 0.25 0.25]\n",
      "probs [0.25 0.25 0.25 0.25]\n",
      "probs [0.25 0.25 0.25 0.25]\n",
      "probs [0.25 0.25 0.25 0.25]\n",
      "probs [0.25 0.25 0.25 0.25]\n",
      "probs [0.25 0.25 0.25 0.25]\n",
      "probs [0.25 0.25 0.25 0.25]\n",
      "probs [0.25 0.25 0.25 0.25]\n",
      "probs [0.25 0.25 0.25 0.25]\n",
      "probs [0.25 0.25 0.25 0.25]\n",
      "probs [0.25 0.25 0.25 0.25]\n",
      "probs [0.25 0.25 0.25 0.25]\n",
      "probs [0.25 0.25 0.25 0.25]\n",
      "probs [0.25 0.25 0.25 0.25]\n",
      "probs [0.25 0.25 0.25 0.25]\n",
      "probs [0.25 0.25 0.25 0.25]\n",
      "probs [0.25 0.25 0.25 0.25]\n",
      "probs [0.25 0.25 0.25 0.25]\n",
      "probs [0.25 0.25 0.25 0.25]\n",
      "probs [0.25 0.25 0.25 0.25]\n",
      "probs [0.25 0.25 0.25 0.25]\n",
      "probs [0.25 0.25 0.25 0.25]\n",
      "Player finished task in : 39  moves\n"
     ]
    },
    {
     "data": {
      "image/png": "[encoded data removed]",
      "text/plain": [
       "<PIL.Image.Image image mode=RGB size=501x501 at 0x7FBB4733DBE0>"
      ]
     },
     "metadata": {},
     "output_type": "display_data"
    },
    {
     "name": "stdout",
     "output_type": "stream",
     "text": [
      "probs [0.25 0.25 0.25 0.25]\n",
      "probs [0.25 0.25 0.25 0.25]\n",
      "probs [0.25 0.25 0.25 0.25]\n",
      "probs [0.25 0.25 0.25 0.25]\n",
      "probs [0.25 0.25 0.25 0.25]\n",
      "probs [0.25 0.25 0.25 0.25]\n",
      "probs [0.25 0.25 0.25 0.25]\n",
      "probs [0.25 0.25 0.25 0.25]\n",
      "probs [0.25 0.25 0.25 0.25]\n",
      "probs [0.25 0.25 0.25 0.25]\n",
      "probs [0.25 0.25 0.25 0.25]\n",
      "probs [0.25 0.25 0.25 0.25]\n",
      "probs [0.25 0.25 0.25 0.25]\n",
      "probs [0.25 0.25 0.25 0.25]\n",
      "probs [0.25 0.25 0.25 0.25]\n",
      "probs [0.25 0.25 0.25 0.25]\n",
      "probs [0.25 0.25 0.25 0.25]\n",
      "probs [0.25 0.25 0.25 0.25]\n",
      "probs [0.25 0.25 0.25 0.25]\n",
      "probs [0.25 0.25 0.25 0.25]\n",
      "probs [0.25 0.25 0.25 0.25]\n",
      "probs [0.25 0.25 0.25 0.25]\n",
      "probs [0.25 0.25 0.25 0.25]\n",
      "probs [0.25 0.25 0.25 0.25]\n",
      "probs [0.25 0.25 0.25 0.25]\n",
      "probs [0.25 0.25 0.25 0.25]\n",
      "probs [0.25 0.25 0.25 0.25]\n",
      "probs [0.25 0.25 0.25 0.25]\n",
      "probs [0.25 0.25 0.25 0.25]\n",
      "probs [0.25 0.25 0.25 0.25]\n",
      "probs [0.25 0.25 0.25 0.25]\n",
      "probs [0.25 0.25 0.25 0.25]\n",
      "probs [0.25 0.25 0.25 0.25]\n",
      "probs [0.25 0.25 0.25 0.25]\n",
      "probs [0.25 0.25 0.25 0.25]\n",
      "probs [0.25 0.25 0.25 0.25]\n",
      "Player finished task in : 36  moves\n"
     ]
    },
    {
     "data": {
      "image/png": "[encoded data removed]",
      "text/plain": [
       "<PIL.Image.Image image mode=RGB size=501x501 at 0x7FBB471C15B0>"
      ]
     },
     "metadata": {},
     "output_type": "display_data"
    },
    {
     "name": "stdout",
     "output_type": "stream",
     "text": [
      "probs [0.25 0.25 0.25 0.25]\n",
      "probs [0.25 0.25 0.25 0.25]\n",
      "probs [0.25 0.25 0.25 0.25]\n",
      "probs [0.25 0.25 0.25 0.25]\n",
      "probs [0.25 0.25 0.25 0.25]\n",
      "probs [0.25 0.25 0.25 0.25]\n",
      "probs [0.25 0.25 0.25 0.25]\n",
      "probs [0.25 0.25 0.25 0.25]\n",
      "probs [0.25 0.25 0.25 0.25]\n",
      "probs [0.25 0.25 0.25 0.25]\n",
      "Player finished task in : 10  moves\n"
     ]
    },
    {
     "data": {
      "image/png": "[encoded data removed]",
      "text/plain": [
       "<PIL.Image.Image image mode=RGB size=501x501 at 0x7FBB471C1310>"
      ]
     },
     "metadata": {},
     "output_type": "display_data"
    },
    {
     "name": "stdout",
     "output_type": "stream",
     "text": [
      "probs [0.25 0.25 0.25 0.25]\n",
      "probs [0.25 0.25 0.25 0.25]\n",
      "probs [0.25 0.25 0.25 0.25]\n",
      "probs [0.25 0.25 0.25 0.25]\n",
      "probs [0.25 0.25 0.25 0.25]\n",
      "probs [0.25 0.25 0.25 0.25]\n",
      "probs [0.25 0.25 0.25 0.25]\n",
      "probs [0.25 0.25 0.25 0.25]\n",
      "probs [0.25 0.25 0.25 0.25]\n",
      "probs [0.25 0.25 0.25 0.25]\n",
      "probs [0.25 0.25 0.25 0.25]\n",
      "probs [0.25 0.25 0.25 0.25]\n",
      "probs [0.25 0.25 0.25 0.25]\n",
      "Player finished task in : 13  moves\n"
     ]
    },
    {
     "data": {
      "image/png": "[encoded data removed]",
      "text/plain": [
       "<PIL.Image.Image image mode=RGB size=501x501 at 0x7FBB471B6850>"
      ]
     },
     "metadata": {},
     "output_type": "display_data"
    },
    {
     "name": "stdout",
     "output_type": "stream",
     "text": [
      "probs [0.25 0.25 0.25 0.25]\n",
      "probs [0.25 0.25 0.25 0.25]\n",
      "probs [0.25 0.25 0.25 0.25]\n",
      "probs [0.25 0.25 0.25 0.25]\n",
      "probs [0.25 0.25 0.25 0.25]\n",
      "probs [0.25 0.25 0.25 0.25]\n",
      "probs [0.25 0.25 0.25 0.25]\n",
      "probs [0.25 0.25 0.25 0.25]\n",
      "probs [0.25 0.25 0.25 0.25]\n",
      "probs [0.25 0.25 0.25 0.25]\n",
      "probs [0.25 0.25 0.25 0.25]\n",
      "probs [0.25 0.25 0.25 0.25]\n",
      "probs [0.25 0.25 0.25 0.25]\n",
      "probs [0.25 0.25 0.25 0.25]\n",
      "probs [0.25 0.25 0.25 0.25]\n",
      "probs [0.25 0.25 0.25 0.25]\n",
      "probs [0.25 0.25 0.25 0.25]\n",
      "probs [0.25 0.25 0.25 0.25]\n",
      "probs [0.25 0.25 0.25 0.25]\n",
      "probs [0.25 0.25 0.25 0.25]\n",
      "probs [0.25 0.25 0.25 0.25]\n",
      "Player finished task in : 21  moves\n"
     ]
    },
    {
     "data": {
      "image/png": "[encoded data removed]",
      "text/plain": [
       "<PIL.Image.Image image mode=RGB size=501x501 at 0x7FBB47326FA0>"
      ]
     },
     "metadata": {},
     "output_type": "display_data"
    },
    {
     "name": "stdout",
     "output_type": "stream",
     "text": [
      "probs [0.25 0.25 0.25 0.25]\n",
      "probs [0.25 0.25 0.25 0.25]\n",
      "probs [0.25 0.25 0.25 0.25]\n",
      "probs [0.25 0.25 0.25 0.25]\n",
      "probs [0.25 0.25 0.25 0.25]\n",
      "probs [0.25 0.25 0.25 0.25]\n",
      "probs [0.25 0.25 0.25 0.25]\n",
      "probs [0.25 0.25 0.25 0.25]\n",
      "probs [0.25 0.25 0.25 0.25]\n",
      "probs [0.25 0.25 0.25 0.25]\n",
      "probs [0.25 0.25 0.25 0.25]\n",
      "probs [0.25 0.25 0.25 0.25]\n",
      "probs [0.25 0.25 0.25 0.25]\n",
      "probs [0.25 0.25 0.25 0.25]\n",
      "probs [0.25 0.25 0.25 0.25]\n",
      "probs [0.25 0.25 0.25 0.25]\n",
      "probs [0.25 0.25 0.25 0.25]\n",
      "probs [0.25 0.25 0.25 0.25]\n",
      "probs [0.25 0.25 0.25 0.25]\n",
      "probs [0.25 0.25 0.25 0.25]\n",
      "probs [0.25 0.25 0.25 0.25]\n",
      "probs [0.25 0.25 0.25 0.25]\n",
      "probs [0.25 0.25 0.25 0.25]\n",
      "probs [0.25 0.25 0.25 0.25]\n",
      "probs [0.25 0.25 0.25 0.25]\n",
      "probs [0.25 0.25 0.25 0.25]\n",
      "probs [0.25 0.25 0.25 0.25]\n",
      "probs [0.25 0.25 0.25 0.25]\n",
      "probs [0.25 0.25 0.25 0.25]\n",
      "probs [0.25 0.25 0.25 0.25]\n",
      "probs [0.25 0.25 0.25 0.25]\n",
      "probs [0.25 0.25 0.25 0.25]\n",
      "probs [0.25 0.25 0.25 0.25]\n",
      "probs [0.25 0.25 0.25 0.25]\n",
      "probs [0.25 0.25 0.25 0.25]\n",
      "probs [0.25 0.25 0.25 0.25]\n",
      "probs [0.25 0.25 0.25 0.25]\n",
      "probs [0.25 0.25 0.25 0.25]\n",
      "probs [0.25 0.25 0.25 0.25]\n",
      "probs [0.25 0.25 0.25 0.25]\n",
      "probs [0.25 0.25 0.25 0.25]\n",
      "probs [0.25 0.25 0.25 0.25]\n",
      "Player finished task in : 42  moves\n"
     ]
    },
    {
     "data": {
      "image/png": "[encoded data removed]",
      "text/plain": [
       "<PIL.Image.Image image mode=RGB size=501x501 at 0x7FBB47310A90>"
      ]
     },
     "metadata": {},
     "output_type": "display_data"
    },
    {
     "name": "stdout",
     "output_type": "stream",
     "text": [
      "probs [0.25 0.25 0.25 0.25]\n",
      "probs [0.25 0.25 0.25 0.25]\n",
      "probs [0.25 0.25 0.25 0.25]\n",
      "probs [0.25 0.25 0.25 0.25]\n",
      "probs [0.25 0.25 0.25 0.25]\n",
      "probs [0.25 0.25 0.25 0.25]\n",
      "probs [0.25 0.25 0.25 0.25]\n",
      "probs [0.25 0.25 0.25 0.25]\n",
      "probs [0.25 0.25 0.25 0.25]\n",
      "probs [0.25 0.25 0.25 0.25]\n",
      "probs [0.25 0.25 0.25 0.25]\n",
      "probs [0.25 0.25 0.25 0.25]\n",
      "probs [0.25 0.25 0.25 0.25]\n",
      "probs [0.25 0.25 0.25 0.25]\n",
      "probs [0.25 0.25 0.25 0.25]\n",
      "probs [0.25 0.25 0.25 0.25]\n",
      "probs [0.25 0.25 0.25 0.25]\n",
      "probs [0.25 0.25 0.25 0.25]\n",
      "probs [0.25 0.25 0.25 0.25]\n",
      "probs [0.25 0.25 0.25 0.25]\n",
      "probs [0.25 0.25 0.25 0.25]\n",
      "probs [0.25 0.25 0.25 0.25]\n",
      "probs [0.25 0.25 0.25 0.25]\n",
      "probs [0.25 0.25 0.25 0.25]\n",
      "probs [0.25 0.25 0.25 0.25]\n",
      "probs [0.25 0.25 0.25 0.25]\n",
      "probs [0.25 0.25 0.25 0.25]\n",
      "probs [0.25 0.25 0.25 0.25]\n",
      "probs [0.25 0.25 0.25 0.25]\n",
      "probs [0.25 0.25 0.25 0.25]\n",
      "Player finished task in : 30  moves\n"
     ]
    },
    {
     "data": {
      "image/png": "[encoded data removed]",
      "text/plain": [
       "<PIL.Image.Image image mode=RGB size=501x501 at 0x7FBB47326FA0>"
      ]
     },
     "metadata": {},
     "output_type": "display_data"
    },
    {
     "name": "stdout",
     "output_type": "stream",
     "text": [
      "probs [0.25 0.25 0.25 0.25]\n",
      "probs [0.25 0.25 0.25 0.25]\n",
      "probs [0.25 0.25 0.25 0.25]\n",
      "probs [0.25 0.25 0.25 0.25]\n",
      "probs [0.25 0.25 0.25 0.25]\n",
      "probs [0.25 0.25 0.25 0.25]\n",
      "probs [0.25 0.25 0.25 0.25]\n",
      "probs [0.25 0.25 0.25 0.25]\n",
      "probs [0.25 0.25 0.25 0.25]\n",
      "probs [0.25 0.25 0.25 0.25]\n",
      "probs [0.25 0.25 0.25 0.25]\n",
      "probs [0.25 0.25 0.25 0.25]\n",
      "Player finished task in : 12  moves\n"
     ]
    },
    {
     "data": {
      "image/png": "[encoded data removed]",
      "text/plain": [
       "<PIL.Image.Image image mode=RGB size=501x501 at 0x7FBB47331C10>"
      ]
     },
     "metadata": {},
     "output_type": "display_data"
    },
    {
     "name": "stdout",
     "output_type": "stream",
     "text": [
      "probs [0.25 0.25 0.25 0.25]\n",
      "probs [0.25 0.25 0.25 0.25]\n",
      "probs [0.25 0.25 0.25 0.25]\n",
      "probs [0.25 0.25 0.25 0.25]\n",
      "probs [0.25 0.25 0.25 0.25]\n",
      "probs [0.25 0.25 0.25 0.25]\n",
      "probs [0.25 0.25 0.25 0.25]\n",
      "probs [0.25 0.25 0.25 0.25]\n",
      "probs [0.25 0.25 0.25 0.25]\n",
      "probs [0.25 0.25 0.25 0.25]\n",
      "probs [0.25 0.25 0.25 0.25]\n",
      "probs [0.25 0.25 0.25 0.25]\n",
      "probs [0.25 0.25 0.25 0.25]\n",
      "probs [0.25 0.25 0.25 0.25]\n",
      "probs [0.25 0.25 0.25 0.25]\n",
      "probs [0.25 0.25 0.25 0.25]\n",
      "probs [0.25 0.25 0.25 0.25]\n",
      "probs [0.25 0.25 0.25 0.25]\n",
      "probs [0.25 0.25 0.25 0.25]\n",
      "Player finished task in : 19  moves\n"
     ]
    },
    {
     "data": {
      "image/png": "[encoded data removed]",
      "text/plain": [
       "<PIL.Image.Image image mode=RGB size=501x501 at 0x7FBB4733D190>"
      ]
     },
     "metadata": {},
     "output_type": "display_data"
    },
    {
     "name": "stdout",
     "output_type": "stream",
     "text": [
      "probs [0.25 0.25 0.25 0.25]\n",
      "probs [0.25 0.25 0.25 0.25]\n",
      "probs [0.25 0.25 0.25 0.25]\n",
      "probs [0.25 0.25 0.25 0.25]\n",
      "probs [0.25 0.25 0.25 0.25]\n",
      "probs [0.25 0.25 0.25 0.25]\n",
      "probs [0.25 0.25 0.25 0.25]\n",
      "probs [0.25 0.25 0.25 0.25]\n",
      "probs [0.25 0.25 0.25 0.25]\n",
      "probs [0.25 0.25 0.25 0.25]\n",
      "Player finished task in : 10  moves\n"
     ]
    },
    {
     "data": {
      "image/png": "[encoded data removed]",
      "text/plain": [
       "<PIL.Image.Image image mode=RGB size=501x501 at 0x7FBB47326EE0>"
      ]
     },
     "metadata": {},
     "output_type": "display_data"
    },
    {
     "name": "stdout",
     "output_type": "stream",
     "text": [
      "probs [0.25 0.25 0.25 0.25]\n",
      "probs [0.25 0.25 0.25 0.25]\n",
      "probs [0.25 0.25 0.25 0.25]\n",
      "probs [0.25 0.25 0.25 0.25]\n",
      "probs [0.25 0.25 0.25 0.25]\n",
      "probs [0.25 0.25 0.25 0.25]\n",
      "probs [0.25 0.25 0.25 0.25]\n",
      "probs [0.25 0.25 0.25 0.25]\n",
      "probs [0.25 0.25 0.25 0.25]\n",
      "probs [0.25 0.25 0.25 0.25]\n",
      "probs [0.25 0.25 0.25 0.25]\n",
      "Player finished task in : 11  moves\n"
     ]
    },
    {
     "data": {
      "image/png": "[encoded data removed]",
      "text/plain": [
       "<PIL.Image.Image image mode=RGB size=501x501 at 0x7FBB4733D9D0>"
      ]
     },
     "metadata": {},
     "output_type": "display_data"
    },
    {
     "name": "stdout",
     "output_type": "stream",
     "text": [
      "probs [0.25 0.25 0.25 0.25]\n",
      "probs [0.25 0.25 0.25 0.25]\n",
      "probs [0.25 0.25 0.25 0.25]\n",
      "probs [0.25 0.25 0.25 0.25]\n",
      "probs [0.25 0.25 0.25 0.25]\n",
      "probs [0.25 0.25 0.25 0.25]\n",
      "probs [0.25 0.25 0.25 0.25]\n",
      "probs [0.25 0.25 0.25 0.25]\n",
      "probs [0.25 0.25 0.25 0.25]\n",
      "probs [0.25 0.25 0.25 0.25]\n",
      "probs [0.25 0.25 0.25 0.25]\n",
      "probs [0.25 0.25 0.25 0.25]\n",
      "probs [0.25 0.25 0.25 0.25]\n",
      "probs [0.25 0.25 0.25 0.25]\n",
      "probs [0.25 0.25 0.25 0.25]\n",
      "probs [0.25 0.25 0.25 0.25]\n",
      "probs [0.25 0.25 0.25 0.25]\n",
      "probs [0.25 0.25 0.25 0.25]\n",
      "probs [0.25 0.25 0.25 0.25]\n",
      "probs [0.25 0.25 0.25 0.25]\n",
      "probs [0.25 0.25 0.25 0.25]\n",
      "probs [0.25 0.25 0.25 0.25]\n",
      "probs [0.25 0.25 0.25 0.25]\n",
      "probs [0.25 0.25 0.25 0.25]\n",
      "probs [0.25 0.25 0.25 0.25]\n",
      "probs [0.25 0.25 0.25 0.25]\n",
      "probs [0.25 0.25 0.25 0.25]\n",
      "probs [0.25 0.25 0.25 0.25]\n",
      "probs [0.25 0.25 0.25 0.25]\n",
      "probs [0.25 0.25 0.25 0.25]\n",
      "probs [0.25 0.25 0.25 0.25]\n",
      "probs [0.25 0.25 0.25 0.25]\n",
      "probs [0.25 0.25 0.25 0.25]\n",
      "probs [0.25 0.25 0.25 0.25]\n",
      "probs [0.25 0.25 0.25 0.25]\n",
      "probs [0.25 0.25 0.25 0.25]\n",
      "probs [0.25 0.25 0.25 0.25]\n",
      "probs [0.25 0.25 0.25 0.25]\n",
      "probs [0.25 0.25 0.25 0.25]\n",
      "probs [0.25 0.25 0.25 0.25]\n",
      "probs [0.25 0.25 0.25 0.25]\n",
      "probs [0.25 0.25 0.25 0.25]\n",
      "probs [0.25 0.25 0.25 0.25]\n",
      "probs [0.25 0.25 0.25 0.25]\n",
      "probs [0.25 0.25 0.25 0.25]\n",
      "probs [0.25 0.25 0.25 0.25]\n",
      "probs [0.25 0.25 0.25 0.25]\n",
      "Player finished task in : 47  moves\n"
     ]
    },
    {
     "data": {
      "image/png": "[encoded data removed]",
      "text/plain": [
       "<PIL.Image.Image image mode=RGB size=501x501 at 0x7FBB47331400>"
      ]
     },
     "metadata": {},
     "output_type": "display_data"
    },
    {
     "name": "stdout",
     "output_type": "stream",
     "text": [
      "probs [0.25 0.25 0.25 0.25]\n",
      "probs [0.25 0.25 0.25 0.25]\n",
      "probs [0.25 0.25 0.25 0.25]\n",
      "probs [0.25 0.25 0.25 0.25]\n",
      "probs [0.25 0.25 0.25 0.25]\n",
      "probs [0.25 0.25 0.25 0.25]\n",
      "probs [0.25 0.25 0.25 0.25]\n",
      "probs [0.25 0.25 0.25 0.25]\n",
      "probs [0.25 0.25 0.25 0.25]\n",
      "probs [0.25 0.25 0.25 0.25]\n",
      "probs [0.25 0.25 0.25 0.25]\n",
      "Player finished task in : 11  moves\n"
     ]
    },
    {
     "data": {
      "image/png": "[encoded data removed]",
      "text/plain": [
       "<PIL.Image.Image image mode=RGB size=501x501 at 0x7FBB471C1130>"
      ]
     },
     "metadata": {},
     "output_type": "display_data"
    },
    {
     "name": "stdout",
     "output_type": "stream",
     "text": [
      "probs [0.25 0.25 0.25 0.25]\n",
      "probs [0.25 0.25 0.25 0.25]\n",
      "probs [0.25 0.25 0.25 0.25]\n",
      "probs [0.25 0.25 0.25 0.25]\n",
      "probs [0.25 0.25 0.25 0.25]\n",
      "probs [0.25 0.25 0.25 0.25]\n",
      "probs [0.25 0.25 0.25 0.25]\n",
      "probs [0.25 0.25 0.25 0.25]\n",
      "probs [0.25 0.25 0.25 0.25]\n",
      "probs [0.25 0.25 0.25 0.25]\n",
      "probs [0.25 0.25 0.25 0.25]\n",
      "probs [0.25 0.25 0.25 0.25]\n",
      "probs [0.25 0.25 0.25 0.25]\n",
      "Player finished task in : 13  moves\n"
     ]
    },
    {
     "data": {
      "image/png": "[encoded data removed]",
      "text/plain": [
       "<PIL.Image.Image image mode=RGB size=501x501 at 0x7FBB47326E50>"
      ]
     },
     "metadata": {},
     "output_type": "display_data"
    },
    {
     "name": "stdout",
     "output_type": "stream",
     "text": [
      "probs [0.25 0.25 0.25 0.25]\n",
      "probs [0.25 0.25 0.25 0.25]\n",
      "probs [0.25 0.25 0.25 0.25]\n",
      "probs [0.25 0.25 0.25 0.25]\n",
      "probs [0.25 0.25 0.25 0.25]\n",
      "probs [0.25 0.25 0.25 0.25]\n",
      "probs [0.25 0.25 0.25 0.25]\n",
      "probs [0.25 0.25 0.25 0.25]\n",
      "probs [0.25 0.25 0.25 0.25]\n",
      "probs [0.25 0.25 0.25 0.25]\n",
      "probs [0.25 0.25 0.25 0.25]\n",
      "probs [0.25 0.25 0.25 0.25]\n",
      "probs [0.25 0.25 0.25 0.25]\n",
      "probs [0.25 0.25 0.25 0.25]\n",
      "probs [0.25 0.25 0.25 0.25]\n",
      "probs [0.25 0.25 0.25 0.25]\n",
      "probs [0.25 0.25 0.25 0.25]\n",
      "probs [0.25 0.25 0.25 0.25]\n",
      "probs [0.25 0.25 0.25 0.25]\n",
      "probs [0.25 0.25 0.25 0.25]\n",
      "probs [0.25 0.25 0.25 0.25]\n",
      "probs [0.25 0.25 0.25 0.25]\n",
      "probs [0.25 0.25 0.25 0.25]\n",
      "probs [0.25 0.25 0.25 0.25]\n",
      "probs [0.25 0.25 0.25 0.25]\n",
      "Player finished task in : 25  moves\n"
     ]
    },
    {
     "data": {
      "image/png": "[encoded data removed]",
      "text/plain": [
       "<PIL.Image.Image image mode=RGB size=501x501 at 0x7FBB47326D30>"
      ]
     },
     "metadata": {},
     "output_type": "display_data"
    },
    {
     "name": "stdout",
     "output_type": "stream",
     "text": [
      "probs [0.25 0.25 0.25 0.25]\n",
      "probs [0.25 0.25 0.25 0.25]\n",
      "probs [0.25 0.25 0.25 0.25]\n",
      "probs [0.25 0.25 0.25 0.25]\n",
      "probs [0.25 0.25 0.25 0.25]\n",
      "probs [0.25 0.25 0.25 0.25]\n",
      "probs [0.25 0.25 0.25 0.25]\n",
      "probs [0.25 0.25 0.25 0.25]\n",
      "probs [0.25 0.25 0.25 0.25]\n",
      "probs [0.25 0.25 0.25 0.25]\n",
      "probs [0.25 0.25 0.25 0.25]\n",
      "probs [0.25 0.25 0.25 0.25]\n",
      "probs [0.25 0.25 0.25 0.25]\n",
      "probs [0.25 0.25 0.25 0.25]\n",
      "Player finished task in : 14  moves\n"
     ]
    },
    {
     "data": {
      "image/png": "[encoded data removed]",
      "text/plain": [
       "<PIL.Image.Image image mode=RGB size=501x501 at 0x7FBB47331B20>"
      ]
     },
     "metadata": {},
     "output_type": "display_data"
    },
    {
     "name": "stdout",
     "output_type": "stream",
     "text": [
      "probs [0.25 0.25 0.25 0.25]\n",
      "probs [0.25 0.25 0.25 0.25]\n",
      "probs [0.25 0.25 0.25 0.25]\n",
      "probs [0.25 0.25 0.25 0.25]\n",
      "probs [0.25 0.25 0.25 0.25]\n",
      "probs [0.25 0.25 0.25 0.25]\n",
      "probs [0.25 0.25 0.25 0.25]\n",
      "probs [0.25 0.25 0.25 0.25]\n",
      "probs [0.25 0.25 0.25 0.25]\n",
      "probs [0.25 0.25 0.25 0.25]\n",
      "probs [0.25 0.25 0.25 0.25]\n",
      "probs [0.25 0.25 0.25 0.25]\n",
      "probs [0.25 0.25 0.25 0.25]\n",
      "probs [0.25 0.25 0.25 0.25]\n",
      "probs [0.25 0.25 0.25 0.25]\n",
      "probs [0.25 0.25 0.25 0.25]\n",
      "probs [0.25 0.25 0.25 0.25]\n",
      "probs [0.25 0.25 0.25 0.25]\n",
      "probs [0.25 0.25 0.25 0.25]\n",
      "probs [0.25 0.25 0.25 0.25]\n",
      "probs [0.25 0.25 0.25 0.25]\n",
      "probs [0.25 0.25 0.25 0.25]\n",
      "probs [0.25 0.25 0.25 0.25]\n",
      "probs [0.25 0.25 0.25 0.25]\n",
      "probs [0.25 0.25 0.25 0.25]\n",
      "probs [0.25 0.25 0.25 0.25]\n",
      "probs [0.25 0.25 0.25 0.25]\n",
      "Player finished task in : 27  moves\n"
     ]
    },
    {
     "data": {
      "image/png": "[encoded data removed]",
      "text/plain": [
       "<PIL.Image.Image image mode=RGB size=501x501 at 0x7FBB4733D6D0>"
      ]
     },
     "metadata": {},
     "output_type": "display_data"
    },
    {
     "name": "stdout",
     "output_type": "stream",
     "text": [
      "probs [0.25 0.25 0.25 0.25]\n",
      "probs [0.25 0.25 0.25 0.25]\n",
      "probs [0.25 0.25 0.25 0.25]\n",
      "probs [0.25 0.25 0.25 0.25]\n",
      "probs [0.25 0.25 0.25 0.25]\n",
      "probs [0.25 0.25 0.25 0.25]\n",
      "probs [0.25 0.25 0.25 0.25]\n",
      "probs [0.25 0.25 0.25 0.25]\n",
      "probs [0.25 0.25 0.25 0.25]\n",
      "probs [0.25 0.25 0.25 0.25]\n",
      "probs [0.25 0.25 0.25 0.25]\n",
      "probs [0.25 0.25 0.25 0.25]\n",
      "probs [0.25 0.25 0.25 0.25]\n",
      "probs [0.25 0.25 0.25 0.25]\n",
      "probs [0.25 0.25 0.25 0.25]\n",
      "probs [0.25 0.25 0.25 0.25]\n",
      "probs [0.25 0.25 0.25 0.25]\n",
      "probs [0.25 0.25 0.25 0.25]\n",
      "probs [0.25 0.25 0.25 0.25]\n",
      "probs [0.25 0.25 0.25 0.25]\n",
      "probs [0.25 0.25 0.25 0.25]\n",
      "probs [0.25 0.25 0.25 0.25]\n",
      "probs [0.25 0.25 0.25 0.25]\n",
      "probs [0.25 0.25 0.25 0.25]\n",
      "probs [0.25 0.25 0.25 0.25]\n",
      "probs [0.25 0.25 0.25 0.25]\n",
      "probs [0.25 0.25 0.25 0.25]\n",
      "probs [0.25 0.25 0.25 0.25]\n",
      "probs [0.25 0.25 0.25 0.25]\n",
      "probs [0.25 0.25 0.25 0.25]\n",
      "probs [0.25 0.25 0.25 0.25]\n",
      "probs [0.25 0.25 0.25 0.25]\n",
      "probs [0.25 0.25 0.25 0.25]\n",
      "probs [0.25 0.25 0.25 0.25]\n",
      "probs [0.25 0.25 0.25 0.25]\n",
      "probs [0.25 0.25 0.25 0.25]\n",
      "probs [0.25 0.25 0.25 0.25]\n",
      "probs [0.25 0.25 0.25 0.25]\n",
      "probs [0.25 0.25 0.25 0.25]\n",
      "probs [0.25 0.25 0.25 0.25]\n",
      "probs [0.25 0.25 0.25 0.25]\n",
      "probs [0.25 0.25 0.25 0.25]\n",
      "probs [0.25 0.25 0.25 0.25]\n",
      "probs [0.25 0.25 0.25 0.25]\n",
      "probs [0.25 0.25 0.25 0.25]\n",
      "probs [0.25 0.25 0.25 0.25]\n",
      "probs [0.25 0.25 0.25 0.25]\n",
      "probs [0.25 0.25 0.25 0.25]\n",
      "probs [0.25 0.25 0.25 0.25]\n",
      "probs [0.25 0.25 0.25 0.25]\n",
      "Player finished task in : 50  moves\n"
     ]
    },
    {
     "data": {
      "image/png": "[encoded data removed]",
      "text/plain": [
       "<PIL.Image.Image image mode=RGB size=501x501 at 0x7FBB471C1310>"
      ]
     },
     "metadata": {},
     "output_type": "display_data"
    },
    {
     "name": "stdout",
     "output_type": "stream",
     "text": [
      "probs [0.25 0.25 0.25 0.25]\n",
      "probs [0.25 0.25 0.25 0.25]\n",
      "probs [0.25 0.25 0.25 0.25]\n",
      "probs [0.25 0.25 0.25 0.25]\n",
      "probs [0.25 0.25 0.25 0.25]\n",
      "probs [0.25 0.25 0.25 0.25]\n",
      "probs [0.25 0.25 0.25 0.25]\n",
      "probs [0.25 0.25 0.25 0.25]\n",
      "probs [0.25 0.25 0.25 0.25]\n",
      "probs [0.25 0.25 0.25 0.25]\n",
      "probs [0.25 0.25 0.25 0.25]\n",
      "probs [0.25 0.25 0.25 0.25]\n",
      "probs [0.25 0.25 0.25 0.25]\n",
      "probs [0.25 0.25 0.25 0.25]\n",
      "probs [0.25 0.25 0.25 0.25]\n",
      "Player finished task in : 15  moves\n"
     ]
    },
    {
     "data": {
      "image/png": "[encoded data removed]",
      "text/plain": [
       "<PIL.Image.Image image mode=RGB size=501x501 at 0x7FBB471B6AC0>"
      ]
     },
     "metadata": {},
     "output_type": "display_data"
    },
    {
     "name": "stdout",
     "output_type": "stream",
     "text": [
      "probs [0.25 0.25 0.25 0.25]\n",
      "probs [0.25 0.25 0.25 0.25]\n",
      "probs [0.25 0.25 0.25 0.25]\n",
      "probs [0.25 0.25 0.25 0.25]\n",
      "probs [0.25 0.25 0.25 0.25]\n",
      "probs [0.25 0.25 0.25 0.25]\n",
      "probs [0.25 0.25 0.25 0.25]\n",
      "probs [0.25 0.25 0.25 0.25]\n",
      "Player finished task in : 8  moves\n"
     ]
    },
    {
     "data": {
      "image/png": "[encoded data removed]",
      "text/plain": [
       "<PIL.Image.Image image mode=RGB size=501x501 at 0x7FBB471B6AC0>"
      ]
     },
     "metadata": {},
     "output_type": "display_data"
    },
    {
     "name": "stdout",
     "output_type": "stream",
     "text": [
      "probs [0.25 0.25 0.25 0.25]\n",
      "probs [0.25 0.25 0.25 0.25]\n",
      "probs [0.25 0.25 0.25 0.25]\n",
      "probs [0.25 0.25 0.25 0.25]\n",
      "probs [0.25 0.25 0.25 0.25]\n",
      "probs [0.25 0.25 0.25 0.25]\n",
      "probs [0.25 0.25 0.25 0.25]\n",
      "probs [0.25 0.25 0.25 0.25]\n",
      "probs [0.25 0.25 0.25 0.25]\n",
      "probs [0.25 0.25 0.25 0.25]\n",
      "probs [0.25 0.25 0.25 0.25]\n",
      "probs [0.25 0.25 0.25 0.25]\n",
      "probs [0.25 0.25 0.25 0.25]\n",
      "probs [0.25 0.25 0.25 0.25]\n",
      "probs [0.25 0.25 0.25 0.25]\n",
      "probs [0.25 0.25 0.25 0.25]\n",
      "probs [0.25 0.25 0.25 0.25]\n",
      "probs [0.25 0.25 0.25 0.25]\n",
      "Player finished task in : 18  moves\n"
     ]
    },
    {
     "data": {
      "image/png": "[encoded data removed]",
      "text/plain": [
       "<PIL.Image.Image image mode=RGB size=501x501 at 0x7FBB471B6AC0>"
      ]
     },
     "metadata": {},
     "output_type": "display_data"
    },
    {
     "name": "stdout",
     "output_type": "stream",
     "text": [
      "probs [0.25 0.25 0.25 0.25]\n",
      "probs [0.25 0.25 0.25 0.25]\n",
      "probs [0.25 0.25 0.25 0.25]\n",
      "probs [0.25 0.25 0.25 0.25]\n",
      "probs [0.25 0.25 0.25 0.25]\n",
      "probs [0.25 0.25 0.25 0.25]\n",
      "probs [0.25 0.25 0.25 0.25]\n",
      "probs [0.25 0.25 0.25 0.25]\n",
      "probs [0.25 0.25 0.25 0.25]\n",
      "probs [0.25 0.25 0.25 0.25]\n",
      "probs [0.25 0.25 0.25 0.25]\n",
      "probs [0.25 0.25 0.25 0.25]\n",
      "probs [0.25 0.25 0.25 0.25]\n",
      "probs [0.25 0.25 0.25 0.25]\n",
      "probs [0.25 0.25 0.25 0.25]\n",
      "probs [0.25 0.25 0.25 0.25]\n",
      "probs [0.25 0.25 0.25 0.25]\n",
      "probs [0.25 0.25 0.25 0.25]\n",
      "probs [0.25 0.25 0.25 0.25]\n",
      "probs [0.25 0.25 0.25 0.25]\n",
      "probs [0.25 0.25 0.25 0.25]\n",
      "probs [0.25 0.25 0.25 0.25]\n",
      "probs [0.25 0.25 0.25 0.25]\n",
      "probs [0.25 0.25 0.25 0.25]\n",
      "Player finished task in : 24  moves\n"
     ]
    },
    {
     "data": {
      "image/png": "[encoded data removed]",
      "text/plain": [
       "<PIL.Image.Image image mode=RGB size=501x501 at 0x7FBB47331550>"
      ]
     },
     "metadata": {},
     "output_type": "display_data"
    },
    {
     "name": "stdout",
     "output_type": "stream",
     "text": [
      "probs [0.25 0.25 0.25 0.25]\n",
      "probs [0.25 0.25 0.25 0.25]\n",
      "probs [0.25 0.25 0.25 0.25]\n",
      "probs [0.25 0.25 0.25 0.25]\n",
      "probs [0.25 0.25 0.25 0.25]\n",
      "probs [0.25 0.25 0.25 0.25]\n",
      "probs [0.25 0.25 0.25 0.25]\n",
      "probs [0.25 0.25 0.25 0.25]\n",
      "probs [0.25 0.25 0.25 0.25]\n",
      "probs [0.25 0.25 0.25 0.25]\n",
      "probs [0.25 0.25 0.25 0.25]\n",
      "probs [0.25 0.25 0.25 0.25]\n",
      "probs [0.25 0.25 0.25 0.25]\n",
      "probs [0.25 0.25 0.25 0.25]\n",
      "probs [0.25 0.25 0.25 0.25]\n",
      "probs [0.25 0.25 0.25 0.25]\n",
      "probs [0.25 0.25 0.25 0.25]\n",
      "probs [0.25 0.25 0.25 0.25]\n",
      "probs [0.25 0.25 0.25 0.25]\n",
      "probs [0.25 0.25 0.25 0.25]\n",
      "probs [0.25 0.25 0.25 0.25]\n",
      "probs [0.25 0.25 0.25 0.25]\n",
      "probs [0.25 0.25 0.25 0.25]\n",
      "probs [0.25 0.25 0.25 0.25]\n",
      "Player finished task in : 24  moves\n"
     ]
    },
    {
     "data": {
      "image/png": "[encoded data removed]",
      "text/plain": [
       "<PIL.Image.Image image mode=RGB size=501x501 at 0x7FBB471C1130>"
      ]
     },
     "metadata": {},
     "output_type": "display_data"
    },
    {
     "name": "stdout",
     "output_type": "stream",
     "text": [
      "probs [0.25 0.25 0.25 0.25]\n",
      "probs [0.25 0.25 0.25 0.25]\n",
      "probs [0.25 0.25 0.25 0.25]\n",
      "probs [0.25 0.25 0.25 0.25]\n",
      "probs [0.25 0.25 0.25 0.25]\n",
      "probs [0.25 0.25 0.25 0.25]\n",
      "probs [0.25 0.25 0.25 0.25]\n",
      "probs [0.25 0.25 0.25 0.25]\n",
      "probs [0.25 0.25 0.25 0.25]\n",
      "probs [0.25 0.25 0.25 0.25]\n",
      "probs [0.25 0.25 0.25 0.25]\n",
      "probs [0.25 0.25 0.25 0.25]\n",
      "probs [0.25 0.25 0.25 0.25]\n",
      "probs [0.25 0.25 0.25 0.25]\n",
      "probs [0.25 0.25 0.25 0.25]\n",
      "probs [0.25 0.25 0.25 0.25]\n",
      "probs [0.25 0.25 0.25 0.25]\n",
      "probs [0.25 0.25 0.25 0.25]\n",
      "probs [0.25 0.25 0.25 0.25]\n",
      "probs [0.25 0.25 0.25 0.25]\n",
      "probs [0.25 0.25 0.25 0.25]\n",
      "probs [0.25 0.25 0.25 0.25]\n",
      "probs [0.25 0.25 0.25 0.25]\n",
      "probs [0.25 0.25 0.25 0.25]\n",
      "probs [0.25 0.25 0.25 0.25]\n",
      "probs [0.25 0.25 0.25 0.25]\n",
      "probs [0.25 0.25 0.25 0.25]\n",
      "probs [0.25 0.25 0.25 0.25]\n",
      "probs [0.25 0.25 0.25 0.25]\n",
      "probs [0.25 0.25 0.25 0.25]\n",
      "Player finished task in : 30  moves\n"
     ]
    },
    {
     "data": {
      "image/png": "[encoded data removed]",
      "text/plain": [
       "<PIL.Image.Image image mode=RGB size=501x501 at 0x7FBB47366E20>"
      ]
     },
     "metadata": {},
     "output_type": "display_data"
    },
    {
     "name": "stdout",
     "output_type": "stream",
     "text": [
      "probs [0.25 0.25 0.25 0.25]\n",
      "probs [0.25 0.25 0.25 0.25]\n",
      "probs [0.25 0.25 0.25 0.25]\n",
      "probs [0.25 0.25 0.25 0.25]\n",
      "probs [0.25 0.25 0.25 0.25]\n",
      "probs [0.25 0.25 0.25 0.25]\n",
      "probs [0.25 0.25 0.25 0.25]\n",
      "probs [0.25 0.25 0.25 0.25]\n",
      "probs [0.25 0.25 0.25 0.25]\n",
      "probs [0.25 0.25 0.25 0.25]\n",
      "probs [0.25 0.25 0.25 0.25]\n",
      "probs [0.25 0.25 0.25 0.25]\n",
      "probs [0.25 0.25 0.25 0.25]\n",
      "probs [0.25 0.25 0.25 0.25]\n",
      "probs [0.25 0.25 0.25 0.25]\n",
      "probs [0.25 0.25 0.25 0.25]\n",
      "probs [0.25 0.25 0.25 0.25]\n",
      "probs [0.25 0.25 0.25 0.25]\n",
      "probs [0.25 0.25 0.25 0.25]\n",
      "probs [0.25 0.25 0.25 0.25]\n",
      "probs [0.25 0.25 0.25 0.25]\n",
      "probs [0.25 0.25 0.25 0.25]\n",
      "probs [0.25 0.25 0.25 0.25]\n",
      "probs [0.25 0.25 0.25 0.25]\n",
      "probs [0.25 0.25 0.25 0.25]\n",
      "probs [0.25 0.25 0.25 0.25]\n",
      "probs [0.25 0.25 0.25 0.25]\n",
      "probs [0.25 0.25 0.25 0.25]\n",
      "probs [0.25 0.25 0.25 0.25]\n",
      "probs [0.25 0.25 0.25 0.25]\n",
      "probs [0.25 0.25 0.25 0.25]\n",
      "Player finished task in : 31  moves\n"
     ]
    },
    {
     "data": {
      "image/png": "[encoded data removed]",
      "text/plain": [
       "<PIL.Image.Image image mode=RGB size=501x501 at 0x7FBB473664F0>"
      ]
     },
     "metadata": {},
     "output_type": "display_data"
    },
    {
     "name": "stdout",
     "output_type": "stream",
     "text": [
      "probs [0.25 0.25 0.25 0.25]\n",
      "probs [0.25 0.25 0.25 0.25]\n",
      "probs [0.25 0.25 0.25 0.25]\n",
      "probs [0.25 0.25 0.25 0.25]\n",
      "probs [0.25 0.25 0.25 0.25]\n",
      "probs [0.25 0.25 0.25 0.25]\n",
      "probs [0.25 0.25 0.25 0.25]\n",
      "probs [0.25 0.25 0.25 0.25]\n",
      "probs [0.25 0.25 0.25 0.25]\n",
      "probs [0.25 0.25 0.25 0.25]\n",
      "probs [0.25 0.25 0.25 0.25]\n",
      "probs [0.25 0.25 0.25 0.25]\n",
      "probs [0.25 0.25 0.25 0.25]\n",
      "probs [0.25 0.25 0.25 0.25]\n",
      "probs [0.25 0.25 0.25 0.25]\n",
      "probs [0.25 0.25 0.25 0.25]\n",
      "probs [0.25 0.25 0.25 0.25]\n",
      "probs [0.25 0.25 0.25 0.25]\n",
      "probs [0.25 0.25 0.25 0.25]\n",
      "probs [0.25 0.25 0.25 0.25]\n",
      "probs [0.25 0.25 0.25 0.25]\n",
      "probs [0.25 0.25 0.25 0.25]\n",
      "Player finished task in : 22  moves\n"
     ]
    },
    {
     "data": {
      "image/png": "[encoded data removed]",
      "text/plain": [
       "<PIL.Image.Image image mode=RGB size=501x501 at 0x7FBB47310A90>"
      ]
     },
     "metadata": {},
     "output_type": "display_data"
    },
    {
     "name": "stdout",
     "output_type": "stream",
     "text": [
      "probs [0.25 0.25 0.25 0.25]\n",
      "probs [0.25 0.25 0.25 0.25]\n",
      "probs [0.25 0.25 0.25 0.25]\n",
      "probs [0.25 0.25 0.25 0.25]\n",
      "probs [0.25 0.25 0.25 0.25]\n",
      "probs [0.25 0.25 0.25 0.25]\n",
      "Player finished task in : 6  moves\n"
     ]
    },
    {
     "data": {
      "image/png": "[encoded data removed]",
      "text/plain": [
       "<PIL.Image.Image image mode=RGB size=501x501 at 0x7FBB471B6850>"
      ]
     },
     "metadata": {},
     "output_type": "display_data"
    },
    {
     "name": "stdout",
     "output_type": "stream",
     "text": [
      "probs [0.25 0.25 0.25 0.25]\n",
      "probs [0.25 0.25 0.25 0.25]\n",
      "probs [0.25 0.25 0.25 0.25]\n",
      "probs [0.25 0.25 0.25 0.25]\n",
      "probs [0.25 0.25 0.25 0.25]\n",
      "probs [0.25 0.25 0.25 0.25]\n",
      "probs [0.25 0.25 0.25 0.25]\n",
      "probs [0.25 0.25 0.25 0.25]\n",
      "probs [0.25 0.25 0.25 0.25]\n",
      "probs [0.25 0.25 0.25 0.25]\n",
      "probs [0.25 0.25 0.25 0.25]\n",
      "probs [0.25 0.25 0.25 0.25]\n",
      "probs [0.25 0.25 0.25 0.25]\n",
      "probs [0.25 0.25 0.25 0.25]\n",
      "probs [0.25 0.25 0.25 0.25]\n",
      "probs [0.25 0.25 0.25 0.25]\n",
      "probs [0.25 0.25 0.25 0.25]\n",
      "probs [0.25 0.25 0.25 0.25]\n",
      "probs [0.25 0.25 0.25 0.25]\n",
      "probs [0.25 0.25 0.25 0.25]\n",
      "probs [0.25 0.25 0.25 0.25]\n",
      "probs [0.25 0.25 0.25 0.25]\n",
      "probs [0.25 0.25 0.25 0.25]\n",
      "probs [0.25 0.25 0.25 0.25]\n",
      "probs [0.25 0.25 0.25 0.25]\n",
      "probs [0.25 0.25 0.25 0.25]\n",
      "probs [0.25 0.25 0.25 0.25]\n",
      "probs [0.25 0.25 0.25 0.25]\n",
      "probs [0.25 0.25 0.25 0.25]\n",
      "probs [0.25 0.25 0.25 0.25]\n",
      "probs [0.25 0.25 0.25 0.25]\n",
      "probs [0.25 0.25 0.25 0.25]\n",
      "probs [0.25 0.25 0.25 0.25]\n",
      "probs [0.25 0.25 0.25 0.25]\n",
      "probs [0.25 0.25 0.25 0.25]\n",
      "probs [0.25 0.25 0.25 0.25]\n",
      "Player finished task in : 36  moves\n"
     ]
    },
    {
     "data": {
      "image/png": "[encoded data removed]",
      "text/plain": [
       "<PIL.Image.Image image mode=RGB size=501x501 at 0x7FBB47326EE0>"
      ]
     },
     "metadata": {},
     "output_type": "display_data"
    },
    {
     "name": "stdout",
     "output_type": "stream",
     "text": [
      "probs [0.25 0.25 0.25 0.25]\n",
      "probs [0.25 0.25 0.25 0.25]\n",
      "probs [0.25 0.25 0.25 0.25]\n",
      "probs [0.25 0.25 0.25 0.25]\n",
      "probs [0.25 0.25 0.25 0.25]\n",
      "probs [0.25 0.25 0.25 0.25]\n",
      "probs [0.25 0.25 0.25 0.25]\n",
      "probs [0.25 0.25 0.25 0.25]\n",
      "probs [0.25 0.25 0.25 0.25]\n",
      "probs [0.25 0.25 0.25 0.25]\n",
      "probs [0.25 0.25 0.25 0.25]\n",
      "Player finished task in : 11  moves\n"
     ]
    },
    {
     "data": {
      "image/png": "[encoded data removed]",
      "text/plain": [
       "<PIL.Image.Image image mode=RGB size=501x501 at 0x7FBB47366D60>"
      ]
     },
     "metadata": {},
     "output_type": "display_data"
    },
    {
     "name": "stdout",
     "output_type": "stream",
     "text": [
      "probs [0.25 0.25 0.25 0.25]\n",
      "probs [0.25 0.25 0.25 0.25]\n",
      "probs [0.25 0.25 0.25 0.25]\n",
      "probs [0.25 0.25 0.25 0.25]\n",
      "probs [0.25 0.25 0.25 0.25]\n",
      "probs [0.25 0.25 0.25 0.25]\n",
      "probs [0.25 0.25 0.25 0.25]\n",
      "probs [0.25 0.25 0.25 0.25]\n",
      "Player finished task in : 8  moves\n"
     ]
    },
    {
     "data": {
      "image/png": "[encoded data removed]",
      "text/plain": [
       "<PIL.Image.Image image mode=RGB size=501x501 at 0x7FBB471B6C10>"
      ]
     },
     "metadata": {},
     "output_type": "display_data"
    },
    {
     "name": "stdout",
     "output_type": "stream",
     "text": [
      "probs [0.25 0.25 0.25 0.25]\n",
      "probs [0.25 0.25 0.25 0.25]\n",
      "probs [0.25 0.25 0.25 0.25]\n",
      "probs [0.25 0.25 0.25 0.25]\n",
      "probs [0.25 0.25 0.25 0.25]\n",
      "probs [0.25 0.25 0.25 0.25]\n",
      "probs [0.25 0.25 0.25 0.25]\n",
      "probs [0.25 0.25 0.25 0.25]\n",
      "probs [0.25 0.25 0.25 0.25]\n",
      "probs [0.25 0.25 0.25 0.25]\n",
      "probs [0.25 0.25 0.25 0.25]\n",
      "probs [0.25 0.25 0.25 0.25]\n",
      "probs [0.25 0.25 0.25 0.25]\n",
      "probs [0.25 0.25 0.25 0.25]\n",
      "probs [0.25 0.25 0.25 0.25]\n",
      "probs [0.25 0.25 0.25 0.25]\n",
      "probs [0.25 0.25 0.25 0.25]\n",
      "probs [0.25 0.25 0.25 0.25]\n",
      "Player finished task in : 18  moves\n",
      "Player scores for every episode:  [-10005.0, -10003.0, -50005.0, -60013.0, -190027.0, -140021.0, -70005.0, -50003.0, -70009.0, -90013.0, -130029.0, -10005.0, -40017.0, -50003.0, -130013.0, -100017.0, -100015.0, -170051.0, -200023.0, -130025.0, -160019.0, -40005.0, -90003.0, -70013.0, -100031.0, -60023.0, -60005.0, -70011.0, -40005.0, -10009.0, -110035.0, -50005.0, -50007.0, -30021.0, -20011.0, -50021.0, -220027.0, -50009.0, -20005.0, -40013.0, -60017.0, -100013.0, -60023.0, -90021.0, -120009.0, -20003.0, -160019.0, -10009.0, -20005.0, -20015.0]\n"
     ]
    }
   ],
   "source": [
    "agent.play_game(50)"
   ]
  },
  {
   "cell_type": "code",
   "execution_count": 10,
   "id": "2fdf51a0",
   "metadata": {},
   "outputs": [
    {
     "name": "stdout",
     "output_type": "stream",
     "text": [
      "[[-9958.56330304 -9982.34139682    -1.28406872    -1.28597023]\n",
      " [-9942.99298725    -1.26903493    -1.19460013    -1.21499588]\n",
      " [-8905.99524735    -1.10218684    -0.9835768  -9282.25101752]\n",
      " [   -1.28334148 -9903.29533586    -1.21844936    -1.19055896]\n",
      " [   -1.23119459    -1.24599696    -0.9774716     -0.90152291]\n",
      " [   -0.94099847    -1.02034628     0.         -9202.33556923]\n",
      " [   -1.23955601 -9835.98531585 -9958.48885459    -0.9774716 ]\n",
      " [   -1.04518689    -1.14449259 -7712.3207545      0.        ]\n",
      " [    0.             0.             0.             0.        ]]\n",
      "[[0.   0.   1.   0.  ]\n",
      " [0.25 0.25 0.25 0.25]\n",
      " [0.25 0.25 0.25 0.25]\n",
      " [0.   0.   0.   1.  ]\n",
      " [0.   0.   0.   1.  ]\n",
      " [0.   0.   1.   0.  ]\n",
      " [0.25 0.25 0.25 0.25]\n",
      " [0.25 0.25 0.25 0.25]\n",
      " [0.25 0.25 0.25 0.25]]\n"
     ]
    }
   ],
   "source": [
    "np.set_printoptions(suppress=True)\n",
    "print(agent.model.matrix)\n",
    "agent.get_target_policy()\n",
    "print(agent.target_policy)"
   ]
  },
  {
   "cell_type": "code",
   "execution_count": 11,
   "id": "9096f1b3",
   "metadata": {},
   "outputs": [
    {
     "data": {
      "image/png": "[encoded data removed]",
      "text/plain": [
       "<PIL.Image.Image image mode=RGB size=501x501 at 0x7FBB473263D0>"
      ]
     },
     "metadata": {},
     "output_type": "display_data"
    },
    {
     "name": "stdout",
     "output_type": "stream",
     "text": [
      "Player's position (0, 0)\n",
      "Player's possible moves:  [(-1, 0), (0, -1), (1, 0), (0, 1)]\n",
      "Player's chosen move (0, -1)\n",
      "Player's new position (0, 0)\n",
      "Player's reward for this move -10000\n",
      "Number of moves made to perform task:  1\n"
     ]
    },
    {
     "data": {
      "image/png": "[encoded data removed]",
      "text/plain": [
       "<PIL.Image.Image image mode=RGB size=501x501 at 0x7FBB47366FA0>"
      ]
     },
     "metadata": {},
     "output_type": "display_data"
    },
    {
     "name": "stdout",
     "output_type": "stream",
     "text": [
      "Player's position (0, 0)\n",
      "Player's possible moves:  [(-1, 0), (0, -1), (1, 0), (0, 1)]\n",
      "Player's chosen move (0, -1)\n",
      "Player's new position (0, 0)\n",
      "Player's reward for this move -10000\n",
      "Number of moves made to perform task:  2\n"
     ]
    },
    {
     "data": {
      "image/png": "[encoded data removed]",
      "text/plain": [
       "<PIL.Image.Image image mode=RGB size=501x501 at 0x7FBB471B6B20>"
      ]
     },
     "metadata": {},
     "output_type": "display_data"
    },
    {
     "name": "stdout",
     "output_type": "stream",
     "text": [
      "Player's position (0, 0)\n",
      "Player's possible moves:  [(-1, 0), (0, -1), (1, 0), (0, 1)]\n",
      "Player's chosen move (0, 1)\n",
      "Player's new position (0, 1)\n",
      "Player's reward for this move -1.0\n",
      "Number of moves made to perform task:  3\n"
     ]
    },
    {
     "data": {
      "image/png": "[encoded data removed]",
      "text/plain": [
       "<PIL.Image.Image image mode=RGB size=501x501 at 0x7FBB47366E20>"
      ]
     },
     "metadata": {},
     "output_type": "display_data"
    },
    {
     "name": "stdout",
     "output_type": "stream",
     "text": [
      "Player's position (0, 1)\n",
      "Player's possible moves:  [(-1, 1), (0, 0), (1, 1), (0, 2)]\n",
      "Player's chosen move (-1, 1)\n",
      "Player's new position (0, 1)\n",
      "Player's reward for this move -10000\n",
      "Number of moves made to perform task:  4\n"
     ]
    },
    {
     "data": {
      "image/png": "[encoded data removed]",
      "text/plain": [
       "<PIL.Image.Image image mode=RGB size=501x501 at 0x7FBB47326F40>"
      ]
     },
     "metadata": {},
     "output_type": "display_data"
    },
    {
     "name": "stdout",
     "output_type": "stream",
     "text": [
      "Player's position (0, 1)\n",
      "Player's possible moves:  [(-1, 1), (0, 0), (1, 1), (0, 2)]\n",
      "Player's chosen move (0, 0)\n",
      "Player's new position (0, 0)\n",
      "Player's reward for this move -1.0\n",
      "Number of moves made to perform task:  5\n"
     ]
    },
    {
     "data": {
      "image/png": "[encoded data removed]",
      "text/plain": [
       "<PIL.Image.Image image mode=RGB size=501x501 at 0x7FBB473107C0>"
      ]
     },
     "metadata": {},
     "output_type": "display_data"
    },
    {
     "name": "stdout",
     "output_type": "stream",
     "text": [
      "Player's position (0, 0)\n",
      "Player's possible moves:  [(-1, 0), (0, -1), (1, 0), (0, 1)]\n",
      "Player's chosen move (1, 0)\n",
      "Player's new position (1, 0)\n",
      "Player's reward for this move -1.0\n",
      "Number of moves made to perform task:  6\n"
     ]
    },
    {
     "data": {
      "image/png": "[encoded data removed]",
      "text/plain": [
       "<PIL.Image.Image image mode=RGB size=501x501 at 0x7FBB473107C0>"
      ]
     },
     "metadata": {},
     "output_type": "display_data"
    },
    {
     "name": "stdout",
     "output_type": "stream",
     "text": [
      "Player's position (1, 0)\n",
      "Player's possible moves:  [(0, 0), (1, -1), (2, 0), (1, 1)]\n",
      "Player's chosen move (0, 0)\n",
      "Player's new position (0, 0)\n",
      "Player's reward for this move -1.0\n",
      "Number of moves made to perform task:  7\n"
     ]
    },
    {
     "data": {
      "image/png": "[encoded data removed]",
      "text/plain": [
       "<PIL.Image.Image image mode=RGB size=501x501 at 0x7FBB4713D820>"
      ]
     },
     "metadata": {},
     "output_type": "display_data"
    },
    {
     "name": "stdout",
     "output_type": "stream",
     "text": [
      "Player's position (0, 0)\n",
      "Player's possible moves:  [(-1, 0), (0, -1), (1, 0), (0, 1)]\n",
      "Player's chosen move (-1, 0)\n",
      "Player's new position (0, 0)\n",
      "Player's reward for this move -10000\n",
      "Number of moves made to perform task:  8\n"
     ]
    },
    {
     "data": {
      "image/png": "[encoded data removed]",
      "text/plain": [
       "<PIL.Image.Image image mode=RGB size=501x501 at 0x7FBB471B6AC0>"
      ]
     },
     "metadata": {},
     "output_type": "display_data"
    },
    {
     "name": "stdout",
     "output_type": "stream",
     "text": [
      "Player's position (0, 0)\n",
      "Player's possible moves:  [(-1, 0), (0, -1), (1, 0), (0, 1)]\n",
      "Player's chosen move (1, 0)\n",
      "Player's new position (1, 0)\n",
      "Player's reward for this move -1.0\n",
      "Number of moves made to perform task:  9\n"
     ]
    },
    {
     "data": {
      "image/png": "[encoded data removed]",
      "text/plain": [
       "<PIL.Image.Image image mode=RGB size=501x501 at 0x7FBB47366220>"
      ]
     },
     "metadata": {},
     "output_type": "display_data"
    },
    {
     "name": "stdout",
     "output_type": "stream",
     "text": [
      "Player's position (1, 0)\n",
      "Player's possible moves:  [(0, 0), (1, -1), (2, 0), (1, 1)]\n",
      "Player's chosen move (0, 0)\n",
      "Player's new position (0, 0)\n",
      "Player's reward for this move -1.0\n",
      "Number of moves made to perform task:  10\n"
     ]
    },
    {
     "data": {
      "image/png": "[encoded data removed]",
      "text/plain": [
       "<PIL.Image.Image image mode=RGB size=501x501 at 0x7FBB47326E50>"
      ]
     },
     "metadata": {},
     "output_type": "display_data"
    },
    {
     "name": "stdout",
     "output_type": "stream",
     "text": [
      "Player's position (0, 0)\n",
      "Player's possible moves:  [(-1, 0), (0, -1), (1, 0), (0, 1)]\n",
      "Player's chosen move (1, 0)\n",
      "Player's new position (1, 0)\n",
      "Player's reward for this move -1.0\n",
      "Number of moves made to perform task:  11\n"
     ]
    },
    {
     "data": {
      "image/png": "[encoded data removed]",
      "text/plain": [
       "<PIL.Image.Image image mode=RGB size=501x501 at 0x7FBB473107C0>"
      ]
     },
     "metadata": {},
     "output_type": "display_data"
    },
    {
     "name": "stdout",
     "output_type": "stream",
     "text": [
      "Player's position (1, 0)\n",
      "Player's possible moves:  [(0, 0), (1, -1), (2, 0), (1, 1)]\n",
      "Player's chosen move (1, 1)\n",
      "Player's new position (1, 1)\n",
      "Player's reward for this move 0.0\n",
      "Number of moves made to perform task:  12\n"
     ]
    },
    {
     "data": {
      "image/png": "[encoded data removed]",
      "text/plain": [
       "<PIL.Image.Image image mode=RGB size=501x501 at 0x7FBB47366790>"
      ]
     },
     "metadata": {},
     "output_type": "display_data"
    },
    {
     "name": "stdout",
     "output_type": "stream",
     "text": [
      "Player's position (1, 1)\n",
      "Player's possible moves:  [(0, 1), (1, 0), (2, 1), (1, 2)]\n",
      "Player's chosen move (1, 2)\n",
      "Player's new position (1, 2)\n",
      "Player's reward for this move -1.0\n",
      "Number of moves made to perform task:  13\n"
     ]
    },
    {
     "data": {
      "image/png": "[encoded data removed]",
      "text/plain": [
       "<PIL.Image.Image image mode=RGB size=501x501 at 0x7FBB473107C0>"
      ]
     },
     "metadata": {},
     "output_type": "display_data"
    },
    {
     "name": "stdout",
     "output_type": "stream",
     "text": [
      "Player's position (1, 2)\n",
      "Player's possible moves:  [(0, 2), (1, 1), (2, 2), (1, 3)]\n",
      "Player's chosen move (0, 2)\n",
      "Player's new position (0, 2)\n",
      "Player's reward for this move -1.0\n",
      "Number of moves made to perform task:  14\n"
     ]
    },
    {
     "data": {
      "image/png": "[encoded data removed]",
      "text/plain": [
       "<PIL.Image.Image image mode=RGB size=501x501 at 0x7FBB47366220>"
      ]
     },
     "metadata": {},
     "output_type": "display_data"
    },
    {
     "name": "stdout",
     "output_type": "stream",
     "text": [
      "Player's position (0, 2)\n",
      "Player's possible moves:  [(-1, 2), (0, 1), (1, 2), (0, 3)]\n",
      "Player's chosen move (-1, 2)\n",
      "Player's new position (0, 2)\n",
      "Player's reward for this move -10000\n",
      "Number of moves made to perform task:  15\n"
     ]
    },
    {
     "data": {
      "image/png": "[encoded data removed]",
      "text/plain": [
       "<PIL.Image.Image image mode=RGB size=501x501 at 0x7FBB47326B20>"
      ]
     },
     "metadata": {},
     "output_type": "display_data"
    },
    {
     "name": "stdout",
     "output_type": "stream",
     "text": [
      "Player's position (0, 2)\n",
      "Player's possible moves:  [(-1, 2), (0, 1), (1, 2), (0, 3)]\n",
      "Player's chosen move (0, 1)\n",
      "Player's new position (0, 1)\n",
      "Player's reward for this move -1.0\n",
      "Number of moves made to perform task:  16\n"
     ]
    },
    {
     "data": {
      "image/png": "[encoded data removed]",
      "text/plain": [
       "<PIL.Image.Image image mode=RGB size=501x501 at 0x7FBB47366790>"
      ]
     },
     "metadata": {},
     "output_type": "display_data"
    },
    {
     "name": "stdout",
     "output_type": "stream",
     "text": [
      "Player's position (0, 1)\n",
      "Player's possible moves:  [(-1, 1), (0, 0), (1, 1), (0, 2)]\n",
      "Player's chosen move (-1, 1)\n",
      "Player's new position (0, 1)\n",
      "Player's reward for this move -10000\n",
      "Number of moves made to perform task:  17\n"
     ]
    },
    {
     "data": {
      "image/png": "[encoded data removed]",
      "text/plain": [
       "<PIL.Image.Image image mode=RGB size=501x501 at 0x7FBB471B6B20>"
      ]
     },
     "metadata": {},
     "output_type": "display_data"
    },
    {
     "name": "stdout",
     "output_type": "stream",
     "text": [
      "Player's position (0, 1)\n",
      "Player's possible moves:  [(-1, 1), (0, 0), (1, 1), (0, 2)]\n",
      "Player's chosen move (0, 2)\n",
      "Player's new position (0, 2)\n",
      "Player's reward for this move -1.0\n",
      "Number of moves made to perform task:  18\n"
     ]
    },
    {
     "data": {
      "image/png": "[encoded data removed]",
      "text/plain": [
       "<PIL.Image.Image image mode=RGB size=501x501 at 0x7FBB47366220>"
      ]
     },
     "metadata": {},
     "output_type": "display_data"
    },
    {
     "name": "stdout",
     "output_type": "stream",
     "text": [
      "Player's position (0, 2)\n",
      "Player's possible moves:  [(-1, 2), (0, 1), (1, 2), (0, 3)]\n",
      "Player's chosen move (0, 3)\n",
      "Player's new position (0, 2)\n",
      "Player's reward for this move -10000\n",
      "Number of moves made to perform task:  19\n"
     ]
    },
    {
     "data": {
      "image/png": "[encoded data removed]",
      "text/plain": [
       "<PIL.Image.Image image mode=RGB size=501x501 at 0x7FBB473263D0>"
      ]
     },
     "metadata": {},
     "output_type": "display_data"
    },
    {
     "name": "stdout",
     "output_type": "stream",
     "text": [
      "Player's position (0, 2)\n",
      "Player's possible moves:  [(-1, 2), (0, 1), (1, 2), (0, 3)]\n",
      "Player's chosen move (1, 2)\n",
      "Player's new position (1, 2)\n",
      "Player's reward for this move -1.0\n",
      "Number of moves made to perform task:  20\n"
     ]
    },
    {
     "data": {
      "image/png": "[encoded data removed]",
      "text/plain": [
       "<PIL.Image.Image image mode=RGB size=501x501 at 0x7FBB47366790>"
      ]
     },
     "metadata": {},
     "output_type": "display_data"
    },
    {
     "name": "stdout",
     "output_type": "stream",
     "text": [
      "Player's position (1, 2)\n",
      "Player's possible moves:  [(0, 2), (1, 1), (2, 2), (1, 3)]\n",
      "Player's chosen move (1, 3)\n",
      "Player's new position (1, 2)\n",
      "Player's reward for this move -10000\n",
      "Number of moves made to perform task:  21\n"
     ]
    },
    {
     "data": {
      "image/png": "[encoded data removed]",
      "text/plain": [
       "<PIL.Image.Image image mode=RGB size=501x501 at 0x7FBB4713D820>"
      ]
     },
     "metadata": {},
     "output_type": "display_data"
    },
    {
     "name": "stdout",
     "output_type": "stream",
     "text": [
      "Player's position (1, 2)\n",
      "Player's possible moves:  [(0, 2), (1, 1), (2, 2), (1, 3)]\n",
      "Player's chosen move (0, 2)\n",
      "Player's new position (0, 2)\n",
      "Player's reward for this move -1.0\n",
      "Number of moves made to perform task:  22\n"
     ]
    },
    {
     "data": {
      "image/png": "[encoded data removed]",
      "text/plain": [
       "<PIL.Image.Image image mode=RGB size=501x501 at 0x7FBB473664C0>"
      ]
     },
     "metadata": {},
     "output_type": "display_data"
    },
    {
     "name": "stdout",
     "output_type": "stream",
     "text": [
      "Player's position (0, 2)\n",
      "Player's possible moves:  [(-1, 2), (0, 1), (1, 2), (0, 3)]\n",
      "Player's chosen move (-1, 2)\n",
      "Player's new position (0, 2)\n",
      "Player's reward for this move -10000\n",
      "Number of moves made to perform task:  23\n"
     ]
    },
    {
     "data": {
      "image/png": "[encoded data removed]",
      "text/plain": [
       "<PIL.Image.Image image mode=RGB size=501x501 at 0x7FBB47326F40>"
      ]
     },
     "metadata": {},
     "output_type": "display_data"
    },
    {
     "name": "stdout",
     "output_type": "stream",
     "text": [
      "Player's position (0, 2)\n",
      "Player's possible moves:  [(-1, 2), (0, 1), (1, 2), (0, 3)]\n",
      "Player's chosen move (0, 3)\n",
      "Player's new position (0, 2)\n",
      "Player's reward for this move -10000\n",
      "Number of moves made to perform task:  24\n"
     ]
    },
    {
     "data": {
      "image/png": "[encoded data removed]",
      "text/plain": [
       "<PIL.Image.Image image mode=RGB size=501x501 at 0x7FBB47366220>"
      ]
     },
     "metadata": {},
     "output_type": "display_data"
    },
    {
     "name": "stdout",
     "output_type": "stream",
     "text": [
      "Player's position (0, 2)\n",
      "Player's possible moves:  [(-1, 2), (0, 1), (1, 2), (0, 3)]\n",
      "Player's chosen move (0, 1)\n",
      "Player's new position (0, 1)\n",
      "Player's reward for this move -1.0\n",
      "Number of moves made to perform task:  25\n"
     ]
    },
    {
     "data": {
      "image/png": "[encoded data removed]",
      "text/plain": [
       "<PIL.Image.Image image mode=RGB size=501x501 at 0x7FBB471B68B0>"
      ]
     },
     "metadata": {},
     "output_type": "display_data"
    },
    {
     "name": "stdout",
     "output_type": "stream",
     "text": [
      "Player's position (0, 1)\n",
      "Player's possible moves:  [(-1, 1), (0, 0), (1, 1), (0, 2)]\n",
      "Player's chosen move (0, 2)\n",
      "Player's new position (0, 2)\n",
      "Player's reward for this move -1.0\n",
      "Number of moves made to perform task:  26\n"
     ]
    },
    {
     "data": {
      "image/png": "[encoded data removed]",
      "text/plain": [
       "<PIL.Image.Image image mode=RGB size=501x501 at 0x7FBB473669A0>"
      ]
     },
     "metadata": {},
     "output_type": "display_data"
    },
    {
     "name": "stdout",
     "output_type": "stream",
     "text": [
      "Player's position (0, 2)\n",
      "Player's possible moves:  [(-1, 2), (0, 1), (1, 2), (0, 3)]\n",
      "Player's chosen move (1, 2)\n",
      "Player's new position (1, 2)\n",
      "Player's reward for this move -1.0\n",
      "Number of moves made to perform task:  27\n"
     ]
    },
    {
     "data": {
      "image/png": "[encoded data removed]",
      "text/plain": [
       "<PIL.Image.Image image mode=RGB size=501x501 at 0x7FBB47326E50>"
      ]
     },
     "metadata": {},
     "output_type": "display_data"
    },
    {
     "name": "stdout",
     "output_type": "stream",
     "text": [
      "Player's position (1, 2)\n",
      "Player's possible moves:  [(0, 2), (1, 1), (2, 2), (1, 3)]\n",
      "Player's chosen move (0, 2)\n",
      "Player's new position (0, 2)\n",
      "Player's reward for this move -1.0\n",
      "Number of moves made to perform task:  28\n"
     ]
    },
    {
     "data": {
      "image/png": "[encoded data removed]",
      "text/plain": [
       "<PIL.Image.Image image mode=RGB size=501x501 at 0x7FBB47366B80>"
      ]
     },
     "metadata": {},
     "output_type": "display_data"
    },
    {
     "name": "stdout",
     "output_type": "stream",
     "text": [
      "Player's position (0, 2)\n",
      "Player's possible moves:  [(-1, 2), (0, 1), (1, 2), (0, 3)]\n",
      "Player's chosen move (1, 2)\n",
      "Player's new position (1, 2)\n",
      "Player's reward for this move -1.0\n",
      "Number of moves made to perform task:  29\n"
     ]
    },
    {
     "data": {
      "image/png": "[encoded data removed]",
      "text/plain": [
       "<PIL.Image.Image image mode=RGB size=501x501 at 0x7FBB47326D60>"
      ]
     },
     "metadata": {},
     "output_type": "display_data"
    },
    {
     "name": "stdout",
     "output_type": "stream",
     "text": [
      "Player's position (1, 2)\n",
      "Player's possible moves:  [(0, 2), (1, 1), (2, 2), (1, 3)]\n",
      "Player's chosen move (1, 3)\n",
      "Player's new position (1, 2)\n",
      "Player's reward for this move -10000\n",
      "Number of moves made to perform task:  30\n"
     ]
    },
    {
     "data": {
      "image/png": "[encoded data removed]",
      "text/plain": [
       "<PIL.Image.Image image mode=RGB size=501x501 at 0x7FBB47366F70>"
      ]
     },
     "metadata": {},
     "output_type": "display_data"
    },
    {
     "name": "stdout",
     "output_type": "stream",
     "text": [
      "Player's position (1, 2)\n",
      "Player's possible moves:  [(0, 2), (1, 1), (2, 2), (1, 3)]\n",
      "Player's chosen move (0, 2)\n",
      "Player's new position (0, 2)\n",
      "Player's reward for this move -1.0\n",
      "Number of moves made to perform task:  31\n"
     ]
    },
    {
     "data": {
      "image/png": "[encoded data removed]",
      "text/plain": [
       "<PIL.Image.Image image mode=RGB size=501x501 at 0x7FBB47326D30>"
      ]
     },
     "metadata": {},
     "output_type": "display_data"
    },
    {
     "name": "stdout",
     "output_type": "stream",
     "text": [
      "Player's position (0, 2)\n",
      "Player's possible moves:  [(-1, 2), (0, 1), (1, 2), (0, 3)]\n",
      "Player's chosen move (1, 2)\n",
      "Player's new position (1, 2)\n",
      "Player's reward for this move -1.0\n",
      "Number of moves made to perform task:  32\n"
     ]
    },
    {
     "data": {
      "image/png": "[encoded data removed]",
      "text/plain": [
       "<PIL.Image.Image image mode=RGB size=501x501 at 0x7FBB473669A0>"
      ]
     },
     "metadata": {},
     "output_type": "display_data"
    },
    {
     "name": "stdout",
     "output_type": "stream",
     "text": [
      "Player's position (1, 2)\n",
      "Player's possible moves:  [(0, 2), (1, 1), (2, 2), (1, 3)]\n",
      "Player's chosen move (1, 1)\n",
      "Player's new position (1, 1)\n",
      "Player's reward for this move -1.0\n",
      "Number of moves made to perform task:  33\n"
     ]
    },
    {
     "data": {
      "image/png": "[encoded data removed]",
      "text/plain": [
       "<PIL.Image.Image image mode=RGB size=501x501 at 0x7FBB4688FEB0>"
      ]
     },
     "metadata": {},
     "output_type": "display_data"
    },
    {
     "name": "stdout",
     "output_type": "stream",
     "text": [
      "Player's position (1, 1)\n",
      "Player's possible moves:  [(0, 1), (1, 0), (2, 1), (1, 2)]\n",
      "Player's chosen move (1, 0)\n",
      "Player's new position (1, 0)\n",
      "Player's reward for this move -1.0\n",
      "Number of moves made to perform task:  34\n"
     ]
    },
    {
     "data": {
      "image/png": "[encoded data removed]",
      "text/plain": [
       "<PIL.Image.Image image mode=RGB size=501x501 at 0x7FBB47366790>"
      ]
     },
     "metadata": {},
     "output_type": "display_data"
    },
    {
     "name": "stdout",
     "output_type": "stream",
     "text": [
      "Player's position (1, 0)\n",
      "Player's possible moves:  [(0, 0), (1, -1), (2, 0), (1, 1)]\n",
      "Player's chosen move (1, -1)\n",
      "Player's new position (1, 0)\n",
      "Player's reward for this move -10000\n",
      "Number of moves made to perform task:  35\n"
     ]
    },
    {
     "data": {
      "image/png": "[encoded data removed]",
      "text/plain": [
       "<PIL.Image.Image image mode=RGB size=501x501 at 0x7FBB47326B20>"
      ]
     },
     "metadata": {},
     "output_type": "display_data"
    },
    {
     "name": "stdout",
     "output_type": "stream",
     "text": [
      "Player's position (1, 0)\n",
      "Player's possible moves:  [(0, 0), (1, -1), (2, 0), (1, 1)]\n",
      "Player's chosen move (2, 0)\n",
      "Player's new position (2, 0)\n",
      "Player's reward for this move -1.0\n",
      "Number of moves made to perform task:  36\n"
     ]
    },
    {
     "data": {
      "image/png": "[encoded data removed]",
      "text/plain": [
       "<PIL.Image.Image image mode=RGB size=501x501 at 0x7FBB4688FEB0>"
      ]
     },
     "metadata": {},
     "output_type": "display_data"
    },
    {
     "name": "stdout",
     "output_type": "stream",
     "text": [
      "Player's position (2, 0)\n",
      "Player's possible moves:  [(1, 0), (2, -1), (3, 0), (2, 1)]\n",
      "Player's chosen move (2, -1)\n",
      "Player's new position (2, 0)\n",
      "Player's reward for this move -10000\n",
      "Number of moves made to perform task:  37\n"
     ]
    },
    {
     "data": {
      "image/png": "[encoded data removed]",
      "text/plain": [
       "<PIL.Image.Image image mode=RGB size=501x501 at 0x7FBB471B6940>"
      ]
     },
     "metadata": {},
     "output_type": "display_data"
    },
    {
     "name": "stdout",
     "output_type": "stream",
     "text": [
      "Player's position (2, 0)\n",
      "Player's possible moves:  [(1, 0), (2, -1), (3, 0), (2, 1)]\n",
      "Player's chosen move (1, 0)\n",
      "Player's new position (1, 0)\n",
      "Player's reward for this move -1.0\n",
      "Number of moves made to perform task:  38\n"
     ]
    },
    {
     "data": {
      "image/png": "[encoded data removed]",
      "text/plain": [
       "<PIL.Image.Image image mode=RGB size=501x501 at 0x7FBB47366BE0>"
      ]
     },
     "metadata": {},
     "output_type": "display_data"
    },
    {
     "name": "stdout",
     "output_type": "stream",
     "text": [
      "Player's position (1, 0)\n",
      "Player's possible moves:  [(0, 0), (1, -1), (2, 0), (1, 1)]\n",
      "Player's chosen move (1, 1)\n",
      "Player's new position (1, 1)\n",
      "Player's reward for this move -1.0\n",
      "Number of moves made to perform task:  39\n"
     ]
    },
    {
     "data": {
      "image/png": "[encoded data removed]",
      "text/plain": [
       "<PIL.Image.Image image mode=RGB size=501x501 at 0x7FBB47326D30>"
      ]
     },
     "metadata": {},
     "output_type": "display_data"
    },
    {
     "name": "stdout",
     "output_type": "stream",
     "text": [
      "Player's position (1, 1)\n",
      "Player's possible moves:  [(0, 1), (1, 0), (2, 1), (1, 2)]\n",
      "Player's chosen move (0, 1)\n",
      "Player's new position (0, 1)\n",
      "Player's reward for this move -1.0\n",
      "Number of moves made to perform task:  40\n"
     ]
    },
    {
     "data": {
      "image/png": "[encoded data removed]",
      "text/plain": [
       "<PIL.Image.Image image mode=RGB size=501x501 at 0x7FBB4688FEB0>"
      ]
     },
     "metadata": {},
     "output_type": "display_data"
    },
    {
     "name": "stdout",
     "output_type": "stream",
     "text": [
      "Player's position (0, 1)\n",
      "Player's possible moves:  [(-1, 1), (0, 0), (1, 1), (0, 2)]\n",
      "Player's chosen move (0, 0)\n",
      "Player's new position (0, 0)\n",
      "Player's reward for this move -1.0\n",
      "Number of moves made to perform task:  41\n"
     ]
    },
    {
     "data": {
      "image/png": "[encoded data removed]",
      "text/plain": [
       "<PIL.Image.Image image mode=RGB size=501x501 at 0x7FBB471B6B20>"
      ]
     },
     "metadata": {},
     "output_type": "display_data"
    },
    {
     "name": "stdout",
     "output_type": "stream",
     "text": [
      "Player's position (0, 0)\n",
      "Player's possible moves:  [(-1, 0), (0, -1), (1, 0), (0, 1)]\n",
      "Player's chosen move (0, -1)\n",
      "Player's new position (0, 0)\n",
      "Player's reward for this move -10000\n",
      "Number of moves made to perform task:  42\n"
     ]
    },
    {
     "data": {
      "image/png": "[encoded data removed]",
      "text/plain": [
       "<PIL.Image.Image image mode=RGB size=501x501 at 0x7FBB47366F70>"
      ]
     },
     "metadata": {},
     "output_type": "display_data"
    },
    {
     "name": "stdout",
     "output_type": "stream",
     "text": [
      "Player's position (0, 0)\n",
      "Player's possible moves:  [(-1, 0), (0, -1), (1, 0), (0, 1)]\n",
      "Player's chosen move (-1, 0)\n",
      "Player's new position (0, 0)\n",
      "Player's reward for this move -10000\n",
      "Number of moves made to perform task:  43\n"
     ]
    },
    {
     "data": {
      "image/png": "[encoded data removed]",
      "text/plain": [
       "<PIL.Image.Image image mode=RGB size=501x501 at 0x7FBB47326B20>"
      ]
     },
     "metadata": {},
     "output_type": "display_data"
    },
    {
     "name": "stdout",
     "output_type": "stream",
     "text": [
      "Player's position (0, 0)\n",
      "Player's possible moves:  [(-1, 0), (0, -1), (1, 0), (0, 1)]\n",
      "Player's chosen move (0, 1)\n",
      "Player's new position (0, 1)\n",
      "Player's reward for this move -1.0\n",
      "Number of moves made to perform task:  44\n"
     ]
    },
    {
     "data": {
      "image/png": "[encoded data removed]",
      "text/plain": [
       "<PIL.Image.Image image mode=RGB size=501x501 at 0x7FBB47366EE0>"
      ]
     },
     "metadata": {},
     "output_type": "display_data"
    },
    {
     "name": "stdout",
     "output_type": "stream",
     "text": [
      "Player's position (0, 1)\n",
      "Player's possible moves:  [(-1, 1), (0, 0), (1, 1), (0, 2)]\n",
      "Player's chosen move (0, 0)\n",
      "Player's new position (0, 0)\n",
      "Player's reward for this move -1.0\n",
      "Number of moves made to perform task:  45\n"
     ]
    },
    {
     "data": {
      "image/png": "[encoded data removed]",
      "text/plain": [
       "<PIL.Image.Image image mode=RGB size=501x501 at 0x7FBB471B6AC0>"
      ]
     },
     "metadata": {},
     "output_type": "display_data"
    },
    {
     "name": "stdout",
     "output_type": "stream",
     "text": [
      "Player's position (0, 0)\n",
      "Player's possible moves:  [(-1, 0), (0, -1), (1, 0), (0, 1)]\n",
      "Player's chosen move (0, 1)\n",
      "Player's new position (0, 1)\n",
      "Player's reward for this move -1.0\n",
      "Number of moves made to perform task:  46\n"
     ]
    },
    {
     "data": {
      "image/png": "[encoded data removed]",
      "text/plain": [
       "<PIL.Image.Image image mode=RGB size=501x501 at 0x7FBB47366F70>"
      ]
     },
     "metadata": {},
     "output_type": "display_data"
    },
    {
     "name": "stdout",
     "output_type": "stream",
     "text": [
      "Player's position (0, 1)\n",
      "Player's possible moves:  [(-1, 1), (0, 0), (1, 1), (0, 2)]\n",
      "Player's chosen move (0, 0)\n",
      "Player's new position (0, 0)\n",
      "Player's reward for this move -1.0\n",
      "Number of moves made to perform task:  47\n"
     ]
    },
    {
     "data": {
      "image/png": "[encoded data removed]",
      "text/plain": [
       "<PIL.Image.Image image mode=RGB size=501x501 at 0x7FBB47326D30>"
      ]
     },
     "metadata": {},
     "output_type": "display_data"
    },
    {
     "name": "stdout",
     "output_type": "stream",
     "text": [
      "Player's position (0, 0)\n",
      "Player's possible moves:  [(-1, 0), (0, -1), (1, 0), (0, 1)]\n",
      "Player's chosen move (0, 1)\n",
      "Player's new position (0, 1)\n",
      "Player's reward for this move -1.0\n",
      "Number of moves made to perform task:  48\n"
     ]
    },
    {
     "data": {
      "image/png": "[encoded data removed]",
      "text/plain": [
       "<PIL.Image.Image image mode=RGB size=501x501 at 0x7FBB47366EE0>"
      ]
     },
     "metadata": {},
     "output_type": "display_data"
    },
    {
     "name": "stdout",
     "output_type": "stream",
     "text": [
      "Player's position (0, 1)\n",
      "Player's possible moves:  [(-1, 1), (0, 0), (1, 1), (0, 2)]\n",
      "Player's chosen move (0, 2)\n",
      "Player's new position (0, 2)\n",
      "Player's reward for this move -1.0\n",
      "Number of moves made to perform task:  49\n"
     ]
    },
    {
     "data": {
      "image/png": "[encoded data removed]",
      "text/plain": [
       "<PIL.Image.Image image mode=RGB size=501x501 at 0x7FBB47326E50>"
      ]
     },
     "metadata": {},
     "output_type": "display_data"
    },
    {
     "name": "stdout",
     "output_type": "stream",
     "text": [
      "Player's position (0, 2)\n",
      "Player's possible moves:  [(-1, 2), (0, 1), (1, 2), (0, 3)]\n",
      "Player's chosen move (0, 1)\n",
      "Player's new position (0, 1)\n",
      "Player's reward for this move -1.0\n",
      "Number of moves made to perform task:  50\n"
     ]
    },
    {
     "data": {
      "image/png": "[encoded data removed]",
      "text/plain": [
       "<PIL.Image.Image image mode=RGB size=501x501 at 0x7FBB473664F0>"
      ]
     },
     "metadata": {},
     "output_type": "display_data"
    },
    {
     "name": "stdout",
     "output_type": "stream",
     "text": [
      "Player's position (0, 1)\n",
      "Player's possible moves:  [(-1, 1), (0, 0), (1, 1), (0, 2)]\n",
      "Player's chosen move (1, 1)\n",
      "Player's new position (1, 1)\n",
      "Player's reward for this move -1.0\n",
      "Number of moves made to perform task:  51\n"
     ]
    },
    {
     "data": {
      "image/png": "[encoded data removed]",
      "text/plain": [
       "<PIL.Image.Image image mode=RGB size=501x501 at 0x7FBB47326C40>"
      ]
     },
     "metadata": {},
     "output_type": "display_data"
    },
    {
     "name": "stdout",
     "output_type": "stream",
     "text": [
      "Player's position (1, 1)\n",
      "Player's possible moves:  [(0, 1), (1, 0), (2, 1), (1, 2)]\n",
      "Player's chosen move (1, 2)\n",
      "Player's new position (1, 2)\n",
      "Player's reward for this move -1.0\n",
      "Number of moves made to perform task:  52\n"
     ]
    },
    {
     "data": {
      "image/png": "[encoded data removed]",
      "text/plain": [
       "<PIL.Image.Image image mode=RGB size=501x501 at 0x7FBB47366C40>"
      ]
     },
     "metadata": {},
     "output_type": "display_data"
    },
    {
     "name": "stdout",
     "output_type": "stream",
     "text": [
      "Player's position (1, 2)\n",
      "Player's possible moves:  [(0, 2), (1, 1), (2, 2), (1, 3)]\n",
      "Player's chosen move (0, 2)\n",
      "Player's new position (0, 2)\n",
      "Player's reward for this move -1.0\n",
      "Number of moves made to perform task:  53\n"
     ]
    },
    {
     "data": {
      "image/png": "[encoded data removed]",
      "text/plain": [
       "<PIL.Image.Image image mode=RGB size=501x501 at 0x7FBB473263D0>"
      ]
     },
     "metadata": {},
     "output_type": "display_data"
    },
    {
     "name": "stdout",
     "output_type": "stream",
     "text": [
      "Player's position (0, 2)\n",
      "Player's possible moves:  [(-1, 2), (0, 1), (1, 2), (0, 3)]\n",
      "Player's chosen move (1, 2)\n",
      "Player's new position (1, 2)\n",
      "Player's reward for this move -1.0\n",
      "Number of moves made to perform task:  54\n"
     ]
    },
    {
     "data": {
      "image/png": "[encoded data removed]",
      "text/plain": [
       "<PIL.Image.Image image mode=RGB size=501x501 at 0x7FBB47366B80>"
      ]
     },
     "metadata": {},
     "output_type": "display_data"
    },
    {
     "name": "stdout",
     "output_type": "stream",
     "text": [
      "Player's position (1, 2)\n",
      "Player's possible moves:  [(0, 2), (1, 1), (2, 2), (1, 3)]\n",
      "Player's chosen move (0, 2)\n",
      "Player's new position (0, 2)\n",
      "Player's reward for this move -1.0\n",
      "Number of moves made to perform task:  55\n"
     ]
    },
    {
     "data": {
      "image/png": "[encoded data removed]",
      "text/plain": [
       "<PIL.Image.Image image mode=RGB size=501x501 at 0x7FBB47326B20>"
      ]
     },
     "metadata": {},
     "output_type": "display_data"
    },
    {
     "name": "stdout",
     "output_type": "stream",
     "text": [
      "Player's position (0, 2)\n",
      "Player's possible moves:  [(-1, 2), (0, 1), (1, 2), (0, 3)]\n",
      "Player's chosen move (1, 2)\n",
      "Player's new position (1, 2)\n",
      "Player's reward for this move -1.0\n",
      "Number of moves made to perform task:  56\n"
     ]
    },
    {
     "data": {
      "image/png": "[encoded data removed]",
      "text/plain": [
       "<PIL.Image.Image image mode=RGB size=501x501 at 0x7FBB473664C0>"
      ]
     },
     "metadata": {},
     "output_type": "display_data"
    },
    {
     "name": "stdout",
     "output_type": "stream",
     "text": [
      "Player's position (1, 2)\n",
      "Player's possible moves:  [(0, 2), (1, 1), (2, 2), (1, 3)]\n",
      "Player's chosen move (1, 1)\n",
      "Player's new position (1, 1)\n",
      "Player's reward for this move -1.0\n",
      "Number of moves made to perform task:  57\n"
     ]
    },
    {
     "data": {
      "image/png": "[encoded data removed]",
      "text/plain": [
       "<PIL.Image.Image image mode=RGB size=501x501 at 0x7FBB471B6AC0>"
      ]
     },
     "metadata": {},
     "output_type": "display_data"
    },
    {
     "name": "stdout",
     "output_type": "stream",
     "text": [
      "Player's position (1, 1)\n",
      "Player's possible moves:  [(0, 1), (1, 0), (2, 1), (1, 2)]\n",
      "Player's chosen move (1, 0)\n",
      "Player's new position (1, 0)\n",
      "Player's reward for this move -1.0\n",
      "Number of moves made to perform task:  58\n"
     ]
    },
    {
     "data": {
      "image/png": "[encoded data removed]",
      "text/plain": [
       "<PIL.Image.Image image mode=RGB size=501x501 at 0x7FBB47366760>"
      ]
     },
     "metadata": {},
     "output_type": "display_data"
    },
    {
     "name": "stdout",
     "output_type": "stream",
     "text": [
      "Player's position (1, 0)\n",
      "Player's possible moves:  [(0, 0), (1, -1), (2, 0), (1, 1)]\n",
      "Player's chosen move (1, 1)\n",
      "Player's new position (1, 1)\n",
      "Player's reward for this move -1.0\n",
      "Number of moves made to perform task:  59\n"
     ]
    },
    {
     "data": {
      "image/png": "[encoded data removed]",
      "text/plain": [
       "<PIL.Image.Image image mode=RGB size=501x501 at 0x7FBB47326B20>"
      ]
     },
     "metadata": {},
     "output_type": "display_data"
    },
    {
     "name": "stdout",
     "output_type": "stream",
     "text": [
      "Player's position (1, 1)\n",
      "Player's possible moves:  [(0, 1), (1, 0), (2, 1), (1, 2)]\n",
      "Player's chosen move (0, 1)\n",
      "Player's new position (0, 1)\n",
      "Player's reward for this move -1.0\n",
      "Number of moves made to perform task:  60\n"
     ]
    },
    {
     "data": {
      "image/png": "[encoded data removed]",
      "text/plain": [
       "<PIL.Image.Image image mode=RGB size=501x501 at 0x7FBB473669D0>"
      ]
     },
     "metadata": {},
     "output_type": "display_data"
    },
    {
     "name": "stdout",
     "output_type": "stream",
     "text": [
      "Player's position (0, 1)\n",
      "Player's possible moves:  [(-1, 1), (0, 0), (1, 1), (0, 2)]\n",
      "Player's chosen move (-1, 1)\n",
      "Player's new position (0, 1)\n",
      "Player's reward for this move -10000\n",
      "Number of moves made to perform task:  61\n"
     ]
    },
    {
     "data": {
      "image/png": "[encoded data removed]",
      "text/plain": [
       "<PIL.Image.Image image mode=RGB size=501x501 at 0x7FBB471B6940>"
      ]
     },
     "metadata": {},
     "output_type": "display_data"
    },
    {
     "name": "stdout",
     "output_type": "stream",
     "text": [
      "Player's position (0, 1)\n",
      "Player's possible moves:  [(-1, 1), (0, 0), (1, 1), (0, 2)]\n",
      "Player's chosen move (1, 1)\n",
      "Player's new position (1, 1)\n",
      "Player's reward for this move -1.0\n",
      "Number of moves made to perform task:  62\n"
     ]
    },
    {
     "data": {
      "image/png": "[encoded data removed]",
      "text/plain": [
       "<PIL.Image.Image image mode=RGB size=501x501 at 0x7FBB47326E50>"
      ]
     },
     "metadata": {},
     "output_type": "display_data"
    },
    {
     "name": "stdout",
     "output_type": "stream",
     "text": [
      "Player's position (1, 1)\n",
      "Player's possible moves:  [(0, 1), (1, 0), (2, 1), (1, 2)]\n",
      "Player's chosen move (1, 2)\n",
      "Player's new position (1, 2)\n",
      "Player's reward for this move -1.0\n",
      "Number of moves made to perform task:  63\n"
     ]
    },
    {
     "data": {
      "image/png": "[encoded data removed]",
      "text/plain": [
       "<PIL.Image.Image image mode=RGB size=501x501 at 0x7FBB47366FD0>"
      ]
     },
     "metadata": {},
     "output_type": "display_data"
    },
    {
     "name": "stdout",
     "output_type": "stream",
     "text": [
      "Player's position (1, 2)\n",
      "Player's possible moves:  [(0, 2), (1, 1), (2, 2), (1, 3)]\n",
      "Player's chosen move (1, 1)\n",
      "Player's new position (1, 1)\n",
      "Player's reward for this move -1.0\n",
      "Number of moves made to perform task:  64\n"
     ]
    },
    {
     "data": {
      "image/png": "[encoded data removed]",
      "text/plain": [
       "<PIL.Image.Image image mode=RGB size=501x501 at 0x7FBB47326C40>"
      ]
     },
     "metadata": {},
     "output_type": "display_data"
    },
    {
     "name": "stdout",
     "output_type": "stream",
     "text": [
      "Player's position (1, 1)\n",
      "Player's possible moves:  [(0, 1), (1, 0), (2, 1), (1, 2)]\n",
      "Player's chosen move (0, 1)\n",
      "Player's new position (0, 1)\n",
      "Player's reward for this move -1.0\n",
      "Number of moves made to perform task:  65\n"
     ]
    },
    {
     "data": {
      "image/png": "[encoded data removed]",
      "text/plain": [
       "<PIL.Image.Image image mode=RGB size=501x501 at 0x7FBB47366EE0>"
      ]
     },
     "metadata": {},
     "output_type": "display_data"
    },
    {
     "name": "stdout",
     "output_type": "stream",
     "text": [
      "Player's position (0, 1)\n",
      "Player's possible moves:  [(-1, 1), (0, 0), (1, 1), (0, 2)]\n",
      "Player's chosen move (1, 1)\n",
      "Player's new position (1, 1)\n",
      "Player's reward for this move -1.0\n",
      "Number of moves made to perform task:  66\n"
     ]
    },
    {
     "data": {
      "image/png": "[encoded data removed]",
      "text/plain": [
       "<PIL.Image.Image image mode=RGB size=501x501 at 0x7FBB47326D30>"
      ]
     },
     "metadata": {},
     "output_type": "display_data"
    },
    {
     "name": "stdout",
     "output_type": "stream",
     "text": [
      "Player's position (1, 1)\n",
      "Player's possible moves:  [(0, 1), (1, 0), (2, 1), (1, 2)]\n",
      "Player's chosen move (2, 1)\n",
      "Player's new position (2, 1)\n",
      "Player's reward for this move -1.0\n",
      "Number of moves made to perform task:  67\n"
     ]
    },
    {
     "data": {
      "image/png": "[encoded data removed]",
      "text/plain": [
       "<PIL.Image.Image image mode=RGB size=501x501 at 0x7FBB4688FEB0>"
      ]
     },
     "metadata": {},
     "output_type": "display_data"
    },
    {
     "name": "stdout",
     "output_type": "stream",
     "text": [
      "Player's position (2, 1)\n",
      "Player's possible moves:  [(1, 1), (2, 0), (3, 1), (2, 2)]\n",
      "Player's chosen move (1, 1)\n",
      "Player's new position (1, 1)\n",
      "Player's reward for this move -1.0\n",
      "Number of moves made to perform task:  68\n"
     ]
    },
    {
     "data": {
      "image/png": "[encoded data removed]",
      "text/plain": [
       "<PIL.Image.Image image mode=RGB size=501x501 at 0x7FBB47326C40>"
      ]
     },
     "metadata": {},
     "output_type": "display_data"
    },
    {
     "name": "stdout",
     "output_type": "stream",
     "text": [
      "Player's position (1, 1)\n",
      "Player's possible moves:  [(0, 1), (1, 0), (2, 1), (1, 2)]\n",
      "Player's chosen move (0, 1)\n",
      "Player's new position (0, 1)\n",
      "Player's reward for this move -1.0\n",
      "Number of moves made to perform task:  69\n"
     ]
    },
    {
     "data": {
      "image/png": "[encoded data removed]",
      "text/plain": [
       "<PIL.Image.Image image mode=RGB size=501x501 at 0x7FBB47366BE0>"
      ]
     },
     "metadata": {},
     "output_type": "display_data"
    },
    {
     "name": "stdout",
     "output_type": "stream",
     "text": [
      "Player's position (0, 1)\n",
      "Player's possible moves:  [(-1, 1), (0, 0), (1, 1), (0, 2)]\n",
      "Player's chosen move (1, 1)\n",
      "Player's new position (1, 1)\n",
      "Player's reward for this move -1.0\n",
      "Number of moves made to perform task:  70\n"
     ]
    },
    {
     "data": {
      "image/png": "[encoded data removed]",
      "text/plain": [
       "<PIL.Image.Image image mode=RGB size=501x501 at 0x7FBB473107C0>"
      ]
     },
     "metadata": {},
     "output_type": "display_data"
    },
    {
     "name": "stdout",
     "output_type": "stream",
     "text": [
      "Player's position (1, 1)\n",
      "Player's possible moves:  [(0, 1), (1, 0), (2, 1), (1, 2)]\n",
      "Player's chosen move (1, 0)\n",
      "Player's new position (1, 0)\n",
      "Player's reward for this move -1.0\n",
      "Number of moves made to perform task:  71\n"
     ]
    },
    {
     "data": {
      "image/png": "[encoded data removed]",
      "text/plain": [
       "<PIL.Image.Image image mode=RGB size=501x501 at 0x7FBB47366FD0>"
      ]
     },
     "metadata": {},
     "output_type": "display_data"
    },
    {
     "name": "stdout",
     "output_type": "stream",
     "text": [
      "Player's position (1, 0)\n",
      "Player's possible moves:  [(0, 0), (1, -1), (2, 0), (1, 1)]\n",
      "Player's chosen move (1, -1)\n",
      "Player's new position (1, 0)\n",
      "Player's reward for this move -10000\n",
      "Number of moves made to perform task:  72\n"
     ]
    },
    {
     "data": {
      "image/png": "[encoded data removed]",
      "text/plain": [
       "<PIL.Image.Image image mode=RGB size=501x501 at 0x7FBB4688FEB0>"
      ]
     },
     "metadata": {},
     "output_type": "display_data"
    },
    {
     "name": "stdout",
     "output_type": "stream",
     "text": [
      "Player's position (1, 0)\n",
      "Player's possible moves:  [(0, 0), (1, -1), (2, 0), (1, 1)]\n",
      "Player's chosen move (1, -1)\n",
      "Player's new position (1, 0)\n",
      "Player's reward for this move -10000\n",
      "Number of moves made to perform task:  73\n"
     ]
    },
    {
     "data": {
      "image/png": "[encoded data removed]",
      "text/plain": [
       "<PIL.Image.Image image mode=RGB size=501x501 at 0x7FBB4713D820>"
      ]
     },
     "metadata": {},
     "output_type": "display_data"
    },
    {
     "name": "stdout",
     "output_type": "stream",
     "text": [
      "Player's position (1, 0)\n",
      "Player's possible moves:  [(0, 0), (1, -1), (2, 0), (1, 1)]\n",
      "Player's chosen move (1, 1)\n",
      "Player's new position (1, 1)\n",
      "Player's reward for this move -1.0\n",
      "Number of moves made to perform task:  74\n"
     ]
    },
    {
     "data": {
      "image/png": "[encoded data removed]",
      "text/plain": [
       "<PIL.Image.Image image mode=RGB size=501x501 at 0x7FBB47326C40>"
      ]
     },
     "metadata": {},
     "output_type": "display_data"
    },
    {
     "name": "stdout",
     "output_type": "stream",
     "text": [
      "Player's position (1, 1)\n",
      "Player's possible moves:  [(0, 1), (1, 0), (2, 1), (1, 2)]\n",
      "Player's chosen move (1, 2)\n",
      "Player's new position (1, 2)\n",
      "Player's reward for this move -1.0\n",
      "Number of moves made to perform task:  75\n"
     ]
    },
    {
     "data": {
      "image/png": "[encoded data removed]",
      "text/plain": [
       "<PIL.Image.Image image mode=RGB size=501x501 at 0x7FBB47366490>"
      ]
     },
     "metadata": {},
     "output_type": "display_data"
    },
    {
     "name": "stdout",
     "output_type": "stream",
     "text": [
      "Player's position (1, 2)\n",
      "Player's possible moves:  [(0, 2), (1, 1), (2, 2), (1, 3)]\n",
      "Player's chosen move (1, 1)\n",
      "Player's new position (1, 1)\n",
      "Player's reward for this move -1.0\n",
      "Number of moves made to perform task:  76\n"
     ]
    },
    {
     "data": {
      "image/png": "[encoded data removed]",
      "text/plain": [
       "<PIL.Image.Image image mode=RGB size=501x501 at 0x7FBB471B68B0>"
      ]
     },
     "metadata": {},
     "output_type": "display_data"
    },
    {
     "name": "stdout",
     "output_type": "stream",
     "text": [
      "Player's position (1, 1)\n",
      "Player's possible moves:  [(0, 1), (1, 0), (2, 1), (1, 2)]\n",
      "Player's chosen move (1, 0)\n",
      "Player's new position (1, 0)\n",
      "Player's reward for this move -1.0\n",
      "Number of moves made to perform task:  77\n"
     ]
    },
    {
     "data": {
      "image/png": "[encoded data removed]",
      "text/plain": [
       "<PIL.Image.Image image mode=RGB size=501x501 at 0x7FBB4688FEB0>"
      ]
     },
     "metadata": {},
     "output_type": "display_data"
    },
    {
     "name": "stdout",
     "output_type": "stream",
     "text": [
      "Player's position (1, 0)\n",
      "Player's possible moves:  [(0, 0), (1, -1), (2, 0), (1, 1)]\n",
      "Player's chosen move (0, 0)\n",
      "Player's new position (0, 0)\n",
      "Player's reward for this move -1.0\n",
      "Number of moves made to perform task:  78\n"
     ]
    },
    {
     "data": {
      "image/png": "[encoded data removed]",
      "text/plain": [
       "<PIL.Image.Image image mode=RGB size=501x501 at 0x7FBB471B6940>"
      ]
     },
     "metadata": {},
     "output_type": "display_data"
    },
    {
     "name": "stdout",
     "output_type": "stream",
     "text": [
      "Player's position (0, 0)\n",
      "Player's possible moves:  [(-1, 0), (0, -1), (1, 0), (0, 1)]\n",
      "Player's chosen move (0, -1)\n",
      "Player's new position (0, 0)\n",
      "Player's reward for this move -10000\n",
      "Number of moves made to perform task:  79\n"
     ]
    },
    {
     "data": {
      "image/png": "[encoded data removed]",
      "text/plain": [
       "<PIL.Image.Image image mode=RGB size=501x501 at 0x7FBB47366760>"
      ]
     },
     "metadata": {},
     "output_type": "display_data"
    },
    {
     "name": "stdout",
     "output_type": "stream",
     "text": [
      "Player's position (0, 0)\n",
      "Player's possible moves:  [(-1, 0), (0, -1), (1, 0), (0, 1)]\n",
      "Player's chosen move (1, 0)\n",
      "Player's new position (1, 0)\n",
      "Player's reward for this move -1.0\n",
      "Number of moves made to perform task:  80\n"
     ]
    },
    {
     "data": {
      "image/png": "[encoded data removed]",
      "text/plain": [
       "<PIL.Image.Image image mode=RGB size=501x501 at 0x7FBB473107C0>"
      ]
     },
     "metadata": {},
     "output_type": "display_data"
    },
    {
     "name": "stdout",
     "output_type": "stream",
     "text": [
      "Player's position (1, 0)\n",
      "Player's possible moves:  [(0, 0), (1, -1), (2, 0), (1, 1)]\n",
      "Player's chosen move (1, 1)\n",
      "Player's new position (1, 1)\n",
      "Player's reward for this move -1.0\n",
      "Number of moves made to perform task:  81\n"
     ]
    },
    {
     "data": {
      "image/png": "[encoded data removed]",
      "text/plain": [
       "<PIL.Image.Image image mode=RGB size=501x501 at 0x7FBB4713D820>"
      ]
     },
     "metadata": {},
     "output_type": "display_data"
    },
    {
     "name": "stdout",
     "output_type": "stream",
     "text": [
      "Player's position (1, 1)\n",
      "Player's possible moves:  [(0, 1), (1, 0), (2, 1), (1, 2)]\n",
      "Player's chosen move (2, 1)\n",
      "Player's new position (2, 1)\n",
      "Player's reward for this move -1.0\n",
      "Number of moves made to perform task:  82\n"
     ]
    },
    {
     "data": {
      "image/png": "[encoded data removed]",
      "text/plain": [
       "<PIL.Image.Image image mode=RGB size=501x501 at 0x7FBB47326E50>"
      ]
     },
     "metadata": {},
     "output_type": "display_data"
    },
    {
     "name": "stdout",
     "output_type": "stream",
     "text": [
      "Player's position (2, 1)\n",
      "Player's possible moves:  [(1, 1), (2, 0), (3, 1), (2, 2)]\n",
      "Player's chosen move (1, 1)\n",
      "Player's new position (1, 1)\n",
      "Player's reward for this move -1.0\n",
      "Number of moves made to perform task:  83\n"
     ]
    },
    {
     "data": {
      "image/png": "[encoded data removed]",
      "text/plain": [
       "<PIL.Image.Image image mode=RGB size=501x501 at 0x7FBB473664C0>"
      ]
     },
     "metadata": {},
     "output_type": "display_data"
    },
    {
     "name": "stdout",
     "output_type": "stream",
     "text": [
      "Player's position (1, 1)\n",
      "Player's possible moves:  [(0, 1), (1, 0), (2, 1), (1, 2)]\n",
      "Player's chosen move (2, 1)\n",
      "Player's new position (2, 1)\n",
      "Player's reward for this move -1.0\n",
      "Number of moves made to perform task:  84\n"
     ]
    },
    {
     "data": {
      "image/png": "[encoded data removed]",
      "text/plain": [
       "<PIL.Image.Image image mode=RGB size=501x501 at 0x7FBB47326B20>"
      ]
     },
     "metadata": {},
     "output_type": "display_data"
    },
    {
     "name": "stdout",
     "output_type": "stream",
     "text": [
      "Player's position (2, 1)\n",
      "Player's possible moves:  [(1, 1), (2, 0), (3, 1), (2, 2)]\n",
      "Player's chosen move (2, 2)\n",
      "Player's new position (2, 2)\n",
      "Player's reward for this move 0.0\n",
      "Number of moves made to perform task:  85\n"
     ]
    },
    {
     "data": {
      "image/png": "[encoded data removed]",
      "text/plain": [
       "<PIL.Image.Image image mode=RGB size=501x501 at 0x7FBB47366A00>"
      ]
     },
     "metadata": {},
     "output_type": "display_data"
    },
    {
     "name": "stdout",
     "output_type": "stream",
     "text": [
      "Player finished task in : 85  moves\n"
     ]
    },
    {
     "data": {
      "image/png": "[encoded data removed]",
      "text/plain": [
       "<PIL.Image.Image image mode=RGB size=501x501 at 0x7FBB47366AC0>"
      ]
     },
     "metadata": {},
     "output_type": "display_data"
    },
    {
     "name": "stdout",
     "output_type": "stream",
     "text": [
      "Player's position (0, 0)\n",
      "Player's possible moves:  [(-1, 0), (0, -1), (1, 0), (0, 1)]\n",
      "Player's chosen move (-1, 0)\n",
      "Player's new position (0, 0)\n",
      "Player's reward for this move -10000\n",
      "Number of moves made to perform task:  1\n"
     ]
    },
    {
     "data": {
      "image/png": "[encoded data removed]",
      "text/plain": [
       "<PIL.Image.Image image mode=RGB size=501x501 at 0x7FBB47326D30>"
      ]
     },
     "metadata": {},
     "output_type": "display_data"
    },
    {
     "name": "stdout",
     "output_type": "stream",
     "text": [
      "Player's position (0, 0)\n",
      "Player's possible moves:  [(-1, 0), (0, -1), (1, 0), (0, 1)]\n",
      "Player's chosen move (0, 1)\n",
      "Player's new position (0, 1)\n",
      "Player's reward for this move -1.0\n",
      "Number of moves made to perform task:  2\n"
     ]
    },
    {
     "data": {
      "image/png": "[encoded data removed]",
      "text/plain": [
       "<PIL.Image.Image image mode=RGB size=501x501 at 0x7FBB47366490>"
      ]
     },
     "metadata": {},
     "output_type": "display_data"
    },
    {
     "name": "stdout",
     "output_type": "stream",
     "text": [
      "Player's position (0, 1)\n",
      "Player's possible moves:  [(-1, 1), (0, 0), (1, 1), (0, 2)]\n",
      "Player's chosen move (-1, 1)\n",
      "Player's new position (0, 1)\n",
      "Player's reward for this move -10000\n",
      "Number of moves made to perform task:  3\n"
     ]
    },
    {
     "data": {
      "image/png": "[encoded data removed]",
      "text/plain": [
       "<PIL.Image.Image image mode=RGB size=501x501 at 0x7FBB47326D60>"
      ]
     },
     "metadata": {},
     "output_type": "display_data"
    },
    {
     "name": "stdout",
     "output_type": "stream",
     "text": [
      "Player's position (0, 1)\n",
      "Player's possible moves:  [(-1, 1), (0, 0), (1, 1), (0, 2)]\n",
      "Player's chosen move (1, 1)\n",
      "Player's new position (1, 1)\n",
      "Player's reward for this move 0.0\n",
      "Number of moves made to perform task:  4\n"
     ]
    },
    {
     "data": {
      "image/png": "[encoded data removed]",
      "text/plain": [
       "<PIL.Image.Image image mode=RGB size=501x501 at 0x7FBB47366B80>"
      ]
     },
     "metadata": {},
     "output_type": "display_data"
    },
    {
     "name": "stdout",
     "output_type": "stream",
     "text": [
      "Player's position (1, 1)\n",
      "Player's possible moves:  [(0, 1), (1, 0), (2, 1), (1, 2)]\n",
      "Player's chosen move (2, 1)\n",
      "Player's new position (2, 1)\n",
      "Player's reward for this move -1.0\n",
      "Number of moves made to perform task:  5\n"
     ]
    },
    {
     "data": {
      "image/png": "[encoded data removed]",
      "text/plain": [
       "<PIL.Image.Image image mode=RGB size=501x501 at 0x7FBB473263D0>"
      ]
     },
     "metadata": {},
     "output_type": "display_data"
    },
    {
     "name": "stdout",
     "output_type": "stream",
     "text": [
      "Player's position (2, 1)\n",
      "Player's possible moves:  [(1, 1), (2, 0), (3, 1), (2, 2)]\n",
      "Player's chosen move (1, 1)\n",
      "Player's new position (1, 1)\n",
      "Player's reward for this move -1.0\n",
      "Number of moves made to perform task:  6\n"
     ]
    },
    {
     "data": {
      "image/png": "[encoded data removed]",
      "text/plain": [
       "<PIL.Image.Image image mode=RGB size=501x501 at 0x7FBB4688FEB0>"
      ]
     },
     "metadata": {},
     "output_type": "display_data"
    },
    {
     "name": "stdout",
     "output_type": "stream",
     "text": [
      "Player's position (1, 1)\n",
      "Player's possible moves:  [(0, 1), (1, 0), (2, 1), (1, 2)]\n",
      "Player's chosen move (2, 1)\n",
      "Player's new position (2, 1)\n",
      "Player's reward for this move -1.0\n",
      "Number of moves made to perform task:  7\n"
     ]
    },
    {
     "data": {
      "image/png": "[encoded data removed]",
      "text/plain": [
       "<PIL.Image.Image image mode=RGB size=501x501 at 0x7FBB473107C0>"
      ]
     },
     "metadata": {},
     "output_type": "display_data"
    },
    {
     "name": "stdout",
     "output_type": "stream",
     "text": [
      "Player's position (2, 1)\n",
      "Player's possible moves:  [(1, 1), (2, 0), (3, 1), (2, 2)]\n",
      "Player's chosen move (2, 2)\n",
      "Player's new position (2, 2)\n",
      "Player's reward for this move 0.0\n",
      "Number of moves made to perform task:  8\n"
     ]
    },
    {
     "data": {
      "image/png": "[encoded data removed]",
      "text/plain": [
       "<PIL.Image.Image image mode=RGB size=501x501 at 0x7FBB4688FEB0>"
      ]
     },
     "metadata": {},
     "output_type": "display_data"
    },
    {
     "name": "stdout",
     "output_type": "stream",
     "text": [
      "Player finished task in : 8  moves\n",
      "Player scores for every episode:  [-190064.0, -20004.0]\n"
     ]
    }
   ],
   "source": [
    "reward_matrix = np.ones((3,3))*-1\n",
    "reward_matrix[(1,1)] = 0\n",
    "reward_matrix[(2,2)] = 0\n",
    "\n",
    "collection_game = Collection_Game( (3,3), (0,0), [(1,1),(2,2)],reward_matrix)\n",
    "play_game(collection_game, 2, output=True)"
   ]
  },
  {
   "cell_type": "code",
   "execution_count": 12,
   "id": "d1f249c1",
   "metadata": {
    "scrolled": true
   },
   "outputs": [
    {
     "name": "stdout",
     "output_type": "stream",
     "text": [
      "[[-1. -1. -1.]\n",
      " [-1.  0. -1.]\n",
      " [-1. -1.  0.]]\n"
     ]
    }
   ],
   "source": [
    "collection_game.print_board()"
   ]
  },
  {
   "cell_type": "code",
   "execution_count": 13,
   "id": "b3ff0e1e",
   "metadata": {},
   "outputs": [
    {
     "data": {
      "text/plain": [
       "4"
      ]
     },
     "execution_count": 13,
     "metadata": {},
     "output_type": "execute_result"
    }
   ],
   "source": [
    "x = [(-1,0),(0,-1),(1,0),(0,1)]\n",
    "len(x)"
   ]
  },
  {
   "cell_type": "code",
   "execution_count": null,
   "id": "3c6d8926",
   "metadata": {},
   "outputs": [],
   "source": []
  }
 ],
 "metadata": {
  "kernelspec": {
   "display_name": "Python 3 (ipykernel)",
   "language": "python",
   "name": "python3"
  },
  "language_info": {
   "codemirror_mode": {
    "name": "ipython",
    "version": 3
   },
   "file_extension": ".py",
   "mimetype": "text/x-python",
   "name": "python",
   "nbconvert_exporter": "python",
   "pygments_lexer": "ipython3",
   "version": "3.8.5"
  }
 },
 "nbformat": 4,
 "nbformat_minor": 5
}
