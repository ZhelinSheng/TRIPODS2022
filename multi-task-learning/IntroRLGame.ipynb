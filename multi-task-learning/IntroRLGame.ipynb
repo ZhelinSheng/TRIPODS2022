{
 "cells": [
  {
   "cell_type": "code",
   "execution_count": 1,
   "id": "adcd0079",
   "metadata": {},
   "outputs": [],
   "source": [
    "import numpy as np\n",
    "from PIL import Image, ImageDraw\n",
    "import time\n",
    "from random import sample\n",
    "import numpy.random as random"
   ]
  },
  {
   "cell_type": "code",
   "execution_count": 2,
   "id": "fe932e82",
   "metadata": {},
   "outputs": [],
   "source": [
    "class GridWorld:\n",
    "    def __init__(self, board_dims, start_state, terminal_state, non_terminal_value, terminal_value=0):\n",
    "        self.board_dims = board_dims\n",
    "        self.height, self.width = board_dims\n",
    "        self.start_state = start_state\n",
    "        self.agent_pos = start_state\n",
    "        self.terminal_state = terminal_state\n",
    "        self.matrix = np.ones([self.height, self.width])*non_terminal_value\n",
    "        \n",
    "    def get_moves(self, point):\n",
    "        \"\"\"\n",
    "        point - the point our agent is in\n",
    "        This function obtains the points of possible moves you can potentially make from the point provided\n",
    "        \"\"\"\n",
    "        moves = [(-1,0),(0,-1),(1,0),(0,1)] #up,left,down,right\n",
    "        return [tuple(np.array(point)+np.array(x)) for x in moves]\n",
    "\n",
    "    def point_to_index(self, point):\n",
    "        \"\"\"\n",
    "        point - the point we want to convert to index (for list of lists e.g.)\n",
    "        This function obtains the index when you iterate across each column over each row of our game board\n",
    "        \"\"\"\n",
    "        return point[0]*self.width + point[1]\n",
    "\n",
    "    def index_to_point(self, index):\n",
    "        \"\"\"\n",
    "        index - the index we want to convert to game square point\n",
    "        This function obtains the index when you iterate across each column over each row of our game board\n",
    "        \"\"\"\n",
    "        #(divisions, remainder)\n",
    "        return (index // self.width, index % self.width)\n",
    "\n",
    "    def get_reward(self,point):\n",
    "        \"\"\"\n",
    "        point - a point in our grid\n",
    "        This function returns the reward for our agent going to the state represented by point\n",
    "        \"\"\"\n",
    "        return self.matrix[point]\n",
    "    \n",
    "    def illegal_move(self,point):\n",
    "        \"\"\"\n",
    "        point - a point that may or may not be in our grid\n",
    "        This function returns true if the move we make takes us off the board and false if the move is legal\n",
    "        \"\"\"\n",
    "        return True if ((point[0] < 0 or point[0] == self.height) or (point[1] < 0 or point[1] == self.width)) else False\n",
    "        \n",
    "    def print_board(self):\n",
    "        print(self.matrix)"
   ]
  },
  {
   "cell_type": "code",
   "execution_count": 3,
   "id": "971ba666",
   "metadata": {},
   "outputs": [],
   "source": [
    "class Targeting_Game(GridWorld):\n",
    "    def __init__(self, board_dims, start_state, terminal_state, non_terminal_value, terminal_value=0):\n",
    "        GridWorld.__init__(self,board_dims, start_state, terminal_state, non_terminal_value, terminal_value=0)\n",
    "        self.matrix[terminal_state] = terminal_value\n",
    "        \n",
    "    def draw(self):\n",
    "        \"\"\"\n",
    "        agent_pos - tuple point representing agent's current position on game board \n",
    "        remaining_prizes - list of tuples representing remaining prizes and their positions on game board\n",
    "        This function draws our environment\n",
    "        \"\"\"\n",
    "\n",
    "        image = Image.new(\"RGB\", (501, 501), \"black\")\n",
    "        draw = ImageDraw.Draw(image)\n",
    "\n",
    "        w = 500/(self.width)\n",
    "        h = 500/(self.height)\n",
    "        color = \"white\"\n",
    "\n",
    "        #Draw Grid and Start/Stop Squares\n",
    "        for i in range(self.height):\n",
    "            for j in range(self.width):\n",
    "                if(i == self.start_state[0] and j == self.start_state[1]):\n",
    "                    color = \"blue\"\n",
    "                elif(i == self.terminal_state[0] and j == self.terminal_state[1]):\n",
    "                    color = \"red\"\n",
    "                draw.rectangle(((0+j*w, 0+i*h),(w+j*w, h+i*h)), outline = \"black\", fill = color)\n",
    "                color =\"white\"\n",
    "\n",
    "        #Draw Agent\n",
    "        draw.ellipse((self.agent_pos[1]*w + w/4, self.agent_pos[0]*h + h/4, 3*w/4 + self.agent_pos[1]*w, 3*h/4 + self.agent_pos[0]*h), fill=\"black\")\n",
    "\n",
    "        display(image)\n",
    "\n",
    "    def update_state(self,new_pos):\n",
    "      \"\"\"\n",
    "      new_pos - a point in the game grid that the agent has moved to\n",
    "      This function updates the agent position for the GameGrid class variable.\n",
    "      \"\"\"\n",
    "      self.agent_pos = new_pos\n",
    "\n",
    "    def refresh_game(self):\n",
    "        self.agent_pos = self.start_state\n",
    "        #self.remaining_prizes = list(self.prizes)"
   ]
  },
  {
   "cell_type": "code",
   "execution_count": 4,
   "id": "d4834f9c",
   "metadata": {},
   "outputs": [],
   "source": [
    "class Collection_Game(GridWorld):\n",
    "    def __init__(self, board_dims, start_state, prize_states, non_terminal_value, prize_value=0):\n",
    "        GridWorld.__init__(self,board_dims, start_state, None, non_terminal_value, terminal_value=0)\n",
    "        self.prize_states = prize_states\n",
    "        self.remaining_prize_states = list(prize_states)\n",
    "        for prize_state in prize_states:\n",
    "            self.matrix[prize_state] = prize_value\n",
    "    \n",
    "    def draw(self):\n",
    "        \"\"\"\n",
    "        agent_pos - tuple point representing agent's current position on game board \n",
    "        remaining_prizes - list of tuples representing remaining prizes and their positions on game board\n",
    "        This function draws our environment\n",
    "        \"\"\"\n",
    "\n",
    "        image = Image.new(\"RGB\", (501, 501), \"black\")\n",
    "        draw = ImageDraw.Draw(image)\n",
    "\n",
    "        w = 500/(self.width)\n",
    "        h = 500/(self.height)\n",
    "        color = \"white\"\n",
    "\n",
    "        #Draw Grid and Start/Stop Squares\n",
    "        for i in range(self.height):\n",
    "            for j in range(self.width):\n",
    "                if(i == self.start_state[0] and j == self.start_state[1]):\n",
    "                    color = \"blue\"\n",
    "                draw.rectangle(((0+j*w, 0+i*h),(w+j*w, h+i*h)), outline = \"black\", fill = color)\n",
    "                color =\"white\"\n",
    "\n",
    "        #Draw Agent\n",
    "        draw.ellipse((self.agent_pos[1]*w + w/4, self.agent_pos[0]*h + h/4, 3*w/4 + self.agent_pos[1]*w, 3*h/4 + self.agent_pos[0]*h), fill=\"black\")\n",
    "\n",
    "        #Draw Prizes\n",
    "        if len(self.remaining_prize_states) > 1:\n",
    "            for x in self.remaining_prize_states:\n",
    "                draw.rectangle(((x[1]*w + w/4, x[0]*h + h/4), (3*w/4+x[1]*w, 3*h/4+x[0]*h)), outline = \"black\", fill = \"yellow\")\n",
    "        elif len(self.remaining_prize_states) == 1:\n",
    "            remaining_prize = self.remaining_prize_states[0]\n",
    "            draw.rectangle(((remaining_prize[1]*w + w/4, remaining_prize[0]*h + h/4), (3*w/4+remaining_prize[1]*w, 3*h/4+remaining_prize[0]*h)), outline = \"black\", fill = \"yellow\")\n",
    "      \n",
    "        display(image)\n",
    "\n",
    "    def update_state(self,new_pos):\n",
    "        \"\"\"\n",
    "        new_pos - a point in the game grid that the agent has moved to\n",
    "        This function updates the agent position for the GameGrid class variable.\n",
    "        \"\"\"\n",
    "        self.agent_pos = new_pos\n",
    "        if self.agent_pos in self.remaining_prize_states:\n",
    "            self.remove_prize(self.agent_pos)\n",
    "\n",
    "    def remove_prize(self, prize_point):\n",
    "        self.remaining_prize_states.remove(prize_point)\n",
    "        print(\"Remaining prizes\",self.remaining_prize_states)\n",
    "        if len(self.remaining_prize_states) == 1:\n",
    "            print(\"one left\")\n",
    "            self.terminal_state = self.remaining_prize_states[0]\n",
    "        \n",
    "    def refresh_game(self):\n",
    "        self.agent_pos = self.start_state\n",
    "        self.remaining_prize_states = list(self.prize_states)\n",
    "        self.terminal_state = None"
   ]
  },
  {
   "cell_type": "code",
   "execution_count": 5,
   "id": "d8bb1d89",
   "metadata": {},
   "outputs": [],
   "source": [
    "def play_game(Game, episodes, output=False):\n",
    "    #player = random, person, or agent\n",
    "\n",
    "    player_scores = []\n",
    "\n",
    "    #number of times player plays the game is episodes.\n",
    "\n",
    "    for i in range(episodes):\n",
    "\n",
    "        #in each episode, the player needs to complete the task in T steps (t = 0,1,...,t-2,t-1,T)\n",
    "\n",
    "        t = 0\n",
    "        Game.draw()\n",
    "        \n",
    "        #while agent is not in a terminal state\n",
    "        while Game.agent_pos != Game.terminal_state:\n",
    "            if output:\n",
    "                print(\"Player's position\",Game.agent_pos)\n",
    "\n",
    "            t += 1\n",
    "            \n",
    "            #get possible moves going up, left, down, and right\n",
    "            possible_moves = Game.get_moves(Game.agent_pos)\n",
    "            #randomly select move\n",
    "            r = random.randint(0,len(possible_moves))\n",
    "            new_move = possible_moves[r]\n",
    "            \n",
    "            #if move is illegal (going off the board), set reward to very bad\n",
    "            if Game.illegal_move(new_move):\n",
    "                reward = -10000\n",
    "            else:\n",
    "            #else the selected move is legal and we should get reward r for agent going to state s'\n",
    "                reward = Game.get_reward(new_move)\n",
    "                Game.update_state(new_move)\n",
    "\n",
    "            if output:\n",
    "                print(\"Player's possible moves: \",possible_moves)\n",
    "                print(\"Player's chosen move\",new_move)\n",
    "                print(\"Player's new position\",Game.agent_pos)\n",
    "                print(\"Player's reward for this move\",reward)\n",
    "                print(\"Number of moves made to perform task: \",t)\n",
    "                \n",
    "                if Game.terminal_state is not None and Game.agent_pos in Game.terminal_state:\n",
    "                    print(\"Player found the target square: \",Game.terminal_state)\n",
    "\n",
    "                Game.draw()\n",
    "            \n",
    "        player_scores.append(t)\n",
    "\n",
    "        print(\"Player finished task in :\",t, \" moves\")\n",
    "        Game.refresh_game()\n",
    "\n",
    "    Game.refresh_game()"
   ]
  },
  {
   "cell_type": "code",
   "execution_count": 6,
   "id": "ab971a96",
   "metadata": {},
   "outputs": [
    {
     "data": {
      "image/png": "[encoded data removed]",
      "text/plain": [
       "<PIL.Image.Image image mode=RGB size=501x501 at 0x7FAFC409ABE0>"
      ]
     },
     "metadata": {},
     "output_type": "display_data"
    },
    {
     "name": "stdout",
     "output_type": "stream",
     "text": [
      "Player's position (0, 0)\n",
      "Player's possible moves:  [(-1, 0), (0, -1), (1, 0), (0, 1)]\n",
      "Player's chosen move (0, -1)\n",
      "Player's new position (0, 0)\n",
      "Player's reward for this move -10000\n",
      "Number of moves made to perform task:  1\n"
     ]
    },
    {
     "data": {
      "image/png": "[encoded data removed]",
      "text/plain": [
       "<PIL.Image.Image image mode=RGB size=501x501 at 0x7FAFC470EAC0>"
      ]
     },
     "metadata": {},
     "output_type": "display_data"
    },
    {
     "name": "stdout",
     "output_type": "stream",
     "text": [
      "Player's position (0, 0)\n",
      "Player's possible moves:  [(-1, 0), (0, -1), (1, 0), (0, 1)]\n",
      "Player's chosen move (0, 1)\n",
      "Player's new position (0, 1)\n",
      "Player's reward for this move -1.0\n",
      "Number of moves made to perform task:  2\n"
     ]
    },
    {
     "data": {
      "image/png": "[encoded data removed]",
      "text/plain": [
       "<PIL.Image.Image image mode=RGB size=501x501 at 0x7FAFC409AC70>"
      ]
     },
     "metadata": {},
     "output_type": "display_data"
    },
    {
     "name": "stdout",
     "output_type": "stream",
     "text": [
      "Player's position (0, 1)\n",
      "Player's possible moves:  [(-1, 1), (0, 0), (1, 1), (0, 2)]\n",
      "Player's chosen move (-1, 1)\n",
      "Player's new position (0, 1)\n",
      "Player's reward for this move -10000\n",
      "Number of moves made to perform task:  3\n"
     ]
    },
    {
     "data": {
      "image/png": "[encoded data removed]",
      "text/plain": [
       "<PIL.Image.Image image mode=RGB size=501x501 at 0x7FAFC45A19D0>"
      ]
     },
     "metadata": {},
     "output_type": "display_data"
    },
    {
     "name": "stdout",
     "output_type": "stream",
     "text": [
      "Player's position (0, 1)\n",
      "Player's possible moves:  [(-1, 1), (0, 0), (1, 1), (0, 2)]\n",
      "Player's chosen move (1, 1)\n",
      "Player's new position (1, 1)\n",
      "Player's reward for this move -1.0\n",
      "Number of moves made to perform task:  4\n"
     ]
    },
    {
     "data": {
      "image/png": "[encoded data removed]",
      "text/plain": [
       "<PIL.Image.Image image mode=RGB size=501x501 at 0x7FAFC4596820>"
      ]
     },
     "metadata": {},
     "output_type": "display_data"
    },
    {
     "name": "stdout",
     "output_type": "stream",
     "text": [
      "Player's position (1, 1)\n",
      "Player's possible moves:  [(0, 1), (1, 0), (2, 1), (1, 2)]\n",
      "Player's chosen move (2, 1)\n",
      "Player's new position (2, 1)\n",
      "Player's reward for this move -1.0\n",
      "Number of moves made to perform task:  5\n"
     ]
    },
    {
     "data": {
      "image/png": "[encoded data removed]",
      "text/plain": [
       "<PIL.Image.Image image mode=RGB size=501x501 at 0x7FAFC4596820>"
      ]
     },
     "metadata": {},
     "output_type": "display_data"
    },
    {
     "name": "stdout",
     "output_type": "stream",
     "text": [
      "Player's position (2, 1)\n",
      "Player's possible moves:  [(1, 1), (2, 0), (3, 1), (2, 2)]\n",
      "Player's chosen move (2, 0)\n",
      "Player's new position (2, 0)\n",
      "Player's reward for this move -1.0\n",
      "Number of moves made to perform task:  6\n"
     ]
    },
    {
     "data": {
      "image/png": "[encoded data removed]",
      "text/plain": [
       "<PIL.Image.Image image mode=RGB size=501x501 at 0x7FAFC409ABE0>"
      ]
     },
     "metadata": {},
     "output_type": "display_data"
    },
    {
     "name": "stdout",
     "output_type": "stream",
     "text": [
      "Player's position (2, 0)\n",
      "Player's possible moves:  [(1, 0), (2, -1), (3, 0), (2, 1)]\n",
      "Player's chosen move (3, 0)\n",
      "Player's new position (2, 0)\n",
      "Player's reward for this move -10000\n",
      "Number of moves made to perform task:  7\n"
     ]
    },
    {
     "data": {
      "image/png": "[encoded data removed]",
      "text/plain": [
       "<PIL.Image.Image image mode=RGB size=501x501 at 0x7FAFC45A17F0>"
      ]
     },
     "metadata": {},
     "output_type": "display_data"
    },
    {
     "name": "stdout",
     "output_type": "stream",
     "text": [
      "Player's position (2, 0)\n",
      "Player's possible moves:  [(1, 0), (2, -1), (3, 0), (2, 1)]\n",
      "Player's chosen move (3, 0)\n",
      "Player's new position (2, 0)\n",
      "Player's reward for this move -10000\n",
      "Number of moves made to perform task:  8\n"
     ]
    },
    {
     "data": {
      "image/png": "[encoded data removed]",
      "text/plain": [
       "<PIL.Image.Image image mode=RGB size=501x501 at 0x7FAFC4596820>"
      ]
     },
     "metadata": {},
     "output_type": "display_data"
    },
    {
     "name": "stdout",
     "output_type": "stream",
     "text": [
      "Player's position (2, 0)\n",
      "Player's possible moves:  [(1, 0), (2, -1), (3, 0), (2, 1)]\n",
      "Player's chosen move (3, 0)\n",
      "Player's new position (2, 0)\n",
      "Player's reward for this move -10000\n",
      "Number of moves made to perform task:  9\n"
     ]
    },
    {
     "data": {
      "image/png": "[encoded data removed]",
      "text/plain": [
       "<PIL.Image.Image image mode=RGB size=501x501 at 0x7FAFC4596820>"
      ]
     },
     "metadata": {},
     "output_type": "display_data"
    },
    {
     "name": "stdout",
     "output_type": "stream",
     "text": [
      "Player's position (2, 0)\n",
      "Player's possible moves:  [(1, 0), (2, -1), (3, 0), (2, 1)]\n",
      "Player's chosen move (2, 1)\n",
      "Player's new position (2, 1)\n",
      "Player's reward for this move -1.0\n",
      "Number of moves made to perform task:  10\n"
     ]
    },
    {
     "data": {
      "image/png": "[encoded data removed]",
      "text/plain": [
       "<PIL.Image.Image image mode=RGB size=501x501 at 0x7FAFC46FFE20>"
      ]
     },
     "metadata": {},
     "output_type": "display_data"
    },
    {
     "name": "stdout",
     "output_type": "stream",
     "text": [
      "Player's position (2, 1)\n",
      "Player's possible moves:  [(1, 1), (2, 0), (3, 1), (2, 2)]\n",
      "Player's chosen move (3, 1)\n",
      "Player's new position (2, 1)\n",
      "Player's reward for this move -10000\n",
      "Number of moves made to perform task:  11\n"
     ]
    },
    {
     "data": {
      "image/png": "[encoded data removed]",
      "text/plain": [
       "<PIL.Image.Image image mode=RGB size=501x501 at 0x7FAFC4596610>"
      ]
     },
     "metadata": {},
     "output_type": "display_data"
    },
    {
     "name": "stdout",
     "output_type": "stream",
     "text": [
      "Player's position (2, 1)\n",
      "Player's possible moves:  [(1, 1), (2, 0), (3, 1), (2, 2)]\n",
      "Player's chosen move (2, 0)\n",
      "Player's new position (2, 0)\n",
      "Player's reward for this move -1.0\n",
      "Number of moves made to perform task:  12\n"
     ]
    },
    {
     "data": {
      "image/png": "[encoded data removed]",
      "text/plain": [
       "<PIL.Image.Image image mode=RGB size=501x501 at 0x7FAFC46FFE20>"
      ]
     },
     "metadata": {},
     "output_type": "display_data"
    },
    {
     "name": "stdout",
     "output_type": "stream",
     "text": [
      "Player's position (2, 0)\n",
      "Player's possible moves:  [(1, 0), (2, -1), (3, 0), (2, 1)]\n",
      "Player's chosen move (1, 0)\n",
      "Player's new position (1, 0)\n",
      "Player's reward for this move -1.0\n",
      "Number of moves made to perform task:  13\n"
     ]
    },
    {
     "data": {
      "image/png": "[encoded data removed]",
      "text/plain": [
       "<PIL.Image.Image image mode=RGB size=501x501 at 0x7FAFC470E130>"
      ]
     },
     "metadata": {},
     "output_type": "display_data"
    },
    {
     "name": "stdout",
     "output_type": "stream",
     "text": [
      "Player's position (1, 0)\n",
      "Player's possible moves:  [(0, 0), (1, -1), (2, 0), (1, 1)]\n",
      "Player's chosen move (2, 0)\n",
      "Player's new position (2, 0)\n",
      "Player's reward for this move -1.0\n",
      "Number of moves made to perform task:  14\n"
     ]
    },
    {
     "data": {
      "image/png": "[encoded data removed]",
      "text/plain": [
       "<PIL.Image.Image image mode=RGB size=501x501 at 0x7FAFC45A1790>"
      ]
     },
     "metadata": {},
     "output_type": "display_data"
    },
    {
     "name": "stdout",
     "output_type": "stream",
     "text": [
      "Player's position (2, 0)\n",
      "Player's possible moves:  [(1, 0), (2, -1), (3, 0), (2, 1)]\n",
      "Player's chosen move (2, 1)\n",
      "Player's new position (2, 1)\n",
      "Player's reward for this move -1.0\n",
      "Number of moves made to perform task:  15\n"
     ]
    },
    {
     "data": {
      "image/png": "[encoded data removed]",
      "text/plain": [
       "<PIL.Image.Image image mode=RGB size=501x501 at 0x7FAFC4596820>"
      ]
     },
     "metadata": {},
     "output_type": "display_data"
    },
    {
     "name": "stdout",
     "output_type": "stream",
     "text": [
      "Player's position (2, 1)\n",
      "Player's possible moves:  [(1, 1), (2, 0), (3, 1), (2, 2)]\n",
      "Player's chosen move (2, 2)\n",
      "Player's new position (2, 2)\n",
      "Player's reward for this move 0.0\n",
      "Number of moves made to perform task:  16\n"
     ]
    },
    {
     "data": {
      "image/png": "[encoded data removed]",
      "text/plain": [
       "<PIL.Image.Image image mode=RGB size=501x501 at 0x7FAFC46FFE20>"
      ]
     },
     "metadata": {},
     "output_type": "display_data"
    },
    {
     "name": "stdout",
     "output_type": "stream",
     "text": [
      "Player finished task in : 16  moves\n"
     ]
    }
   ],
   "source": [
    "target_game = Targeting_Game( (3,3), (0,0), (2,2), -1, 0)\n",
    "play_game(target_game, 1, output=True)"
   ]
  },
  {
   "cell_type": "code",
   "execution_count": 7,
   "id": "b446d418",
   "metadata": {},
   "outputs": [
    {
     "data": {
      "image/png": "[encoded data removed]",
      "text/plain": [
       "<PIL.Image.Image image mode=RGB size=501x501 at 0x7FAFC46FFE20>"
      ]
     },
     "metadata": {},
     "output_type": "display_data"
    },
    {
     "name": "stdout",
     "output_type": "stream",
     "text": [
      "Player's position (0, 0)\n",
      "Player's possible moves:  [(-1, 0), (0, -1), (1, 0), (0, 1)]\n",
      "Player's chosen move (0, 1)\n",
      "Player's new position (0, 1)\n",
      "Player's reward for this move -1.0\n",
      "Number of moves made to perform task:  1\n"
     ]
    },
    {
     "data": {
      "image/png": "[encoded data removed]",
      "text/plain": [
       "<PIL.Image.Image image mode=RGB size=501x501 at 0x7FAFC45A1FD0>"
      ]
     },
     "metadata": {},
     "output_type": "display_data"
    },
    {
     "name": "stdout",
     "output_type": "stream",
     "text": [
      "Player's position (0, 1)\n",
      "Player's possible moves:  [(-1, 1), (0, 0), (1, 1), (0, 2)]\n",
      "Player's chosen move (-1, 1)\n",
      "Player's new position (0, 1)\n",
      "Player's reward for this move -10000\n",
      "Number of moves made to perform task:  2\n"
     ]
    },
    {
     "data": {
      "image/png": "[encoded data removed]",
      "text/plain": [
       "<PIL.Image.Image image mode=RGB size=501x501 at 0x7FAFC471BF10>"
      ]
     },
     "metadata": {},
     "output_type": "display_data"
    },
    {
     "name": "stdout",
     "output_type": "stream",
     "text": [
      "Player's position (0, 1)\n",
      "Player's possible moves:  [(-1, 1), (0, 0), (1, 1), (0, 2)]\n",
      "Player's chosen move (-1, 1)\n",
      "Player's new position (0, 1)\n",
      "Player's reward for this move -10000\n",
      "Number of moves made to perform task:  3\n"
     ]
    },
    {
     "data": {
      "image/png": "[encoded data removed]",
      "text/plain": [
       "<PIL.Image.Image image mode=RGB size=501x501 at 0x7FAFC408FFA0>"
      ]
     },
     "metadata": {},
     "output_type": "display_data"
    },
    {
     "name": "stdout",
     "output_type": "stream",
     "text": [
      "Player's position (0, 1)\n",
      "Player's possible moves:  [(-1, 1), (0, 0), (1, 1), (0, 2)]\n",
      "Player's chosen move (0, 2)\n",
      "Player's new position (0, 2)\n",
      "Player's reward for this move -1.0\n",
      "Number of moves made to perform task:  4\n"
     ]
    },
    {
     "data": {
      "image/png": "[encoded data removed]",
      "text/plain": [
       "<PIL.Image.Image image mode=RGB size=501x501 at 0x7FAFC471BDF0>"
      ]
     },
     "metadata": {},
     "output_type": "display_data"
    },
    {
     "name": "stdout",
     "output_type": "stream",
     "text": [
      "Player's position (0, 2)\n",
      "Player's possible moves:  [(-1, 2), (0, 1), (1, 2), (0, 3)]\n",
      "Player's chosen move (-1, 2)\n",
      "Player's new position (0, 2)\n",
      "Player's reward for this move -10000\n",
      "Number of moves made to perform task:  5\n"
     ]
    },
    {
     "data": {
      "image/png": "[encoded data removed]",
      "text/plain": [
       "<PIL.Image.Image image mode=RGB size=501x501 at 0x7FAFC45A1BB0>"
      ]
     },
     "metadata": {},
     "output_type": "display_data"
    },
    {
     "name": "stdout",
     "output_type": "stream",
     "text": [
      "Player's position (0, 2)\n",
      "Player's possible moves:  [(-1, 2), (0, 1), (1, 2), (0, 3)]\n",
      "Player's chosen move (-1, 2)\n",
      "Player's new position (0, 2)\n",
      "Player's reward for this move -10000\n",
      "Number of moves made to perform task:  6\n"
     ]
    },
    {
     "data": {
      "image/png": "[encoded data removed]",
      "text/plain": [
       "<PIL.Image.Image image mode=RGB size=501x501 at 0x7FAFC408FFA0>"
      ]
     },
     "metadata": {},
     "output_type": "display_data"
    },
    {
     "name": "stdout",
     "output_type": "stream",
     "text": [
      "Player's position (0, 2)\n",
      "Player's possible moves:  [(-1, 2), (0, 1), (1, 2), (0, 3)]\n",
      "Player's chosen move (-1, 2)\n",
      "Player's new position (0, 2)\n",
      "Player's reward for this move -10000\n",
      "Number of moves made to perform task:  7\n"
     ]
    },
    {
     "data": {
      "image/png": "[encoded data removed]",
      "text/plain": [
       "<PIL.Image.Image image mode=RGB size=501x501 at 0x7FAFC471BFA0>"
      ]
     },
     "metadata": {},
     "output_type": "display_data"
    },
    {
     "name": "stdout",
     "output_type": "stream",
     "text": [
      "Player's position (0, 2)\n",
      "Player's possible moves:  [(-1, 2), (0, 1), (1, 2), (0, 3)]\n",
      "Player's chosen move (0, 3)\n",
      "Player's new position (0, 2)\n",
      "Player's reward for this move -10000\n",
      "Number of moves made to perform task:  8\n"
     ]
    },
    {
     "data": {
      "image/png": "[encoded data removed]",
      "text/plain": [
       "<PIL.Image.Image image mode=RGB size=501x501 at 0x7FAFC45A16D0>"
      ]
     },
     "metadata": {},
     "output_type": "display_data"
    },
    {
     "name": "stdout",
     "output_type": "stream",
     "text": [
      "Player's position (0, 2)\n",
      "Player's possible moves:  [(-1, 2), (0, 1), (1, 2), (0, 3)]\n",
      "Player's chosen move (1, 2)\n",
      "Player's new position (1, 2)\n",
      "Player's reward for this move -1.0\n",
      "Number of moves made to perform task:  9\n"
     ]
    },
    {
     "data": {
      "image/png": "[encoded data removed]",
      "text/plain": [
       "<PIL.Image.Image image mode=RGB size=501x501 at 0x7FAFC471BE80>"
      ]
     },
     "metadata": {},
     "output_type": "display_data"
    },
    {
     "name": "stdout",
     "output_type": "stream",
     "text": [
      "Player's position (1, 2)\n",
      "Player's possible moves:  [(0, 2), (1, 1), (2, 2), (1, 3)]\n",
      "Player's chosen move (1, 3)\n",
      "Player's new position (1, 2)\n",
      "Player's reward for this move -10000\n",
      "Number of moves made to perform task:  10\n"
     ]
    },
    {
     "data": {
      "image/png": "[encoded data removed]",
      "text/plain": [
       "<PIL.Image.Image image mode=RGB size=501x501 at 0x7FAFC45A1AF0>"
      ]
     },
     "metadata": {},
     "output_type": "display_data"
    },
    {
     "name": "stdout",
     "output_type": "stream",
     "text": [
      "Player's position (1, 2)\n",
      "Remaining prizes [(2, 2)]\n",
      "one left\n",
      "Player's possible moves:  [(0, 2), (1, 1), (2, 2), (1, 3)]\n",
      "Player's chosen move (1, 1)\n",
      "Player's new position (1, 1)\n",
      "Player's reward for this move 0.0\n",
      "Number of moves made to perform task:  11\n"
     ]
    },
    {
     "data": {
      "image/png": "[encoded data removed]",
      "text/plain": [
       "<PIL.Image.Image image mode=RGB size=501x501 at 0x7FAFC45A1580>"
      ]
     },
     "metadata": {},
     "output_type": "display_data"
    },
    {
     "name": "stdout",
     "output_type": "stream",
     "text": [
      "Player's position (1, 1)\n",
      "Player's possible moves:  [(0, 1), (1, 0), (2, 1), (1, 2)]\n",
      "Player's chosen move (1, 2)\n",
      "Player's new position (1, 2)\n",
      "Player's reward for this move -1.0\n",
      "Number of moves made to perform task:  12\n"
     ]
    },
    {
     "data": {
      "image/png": "[encoded data removed]",
      "text/plain": [
       "<PIL.Image.Image image mode=RGB size=501x501 at 0x7FAFC471BF70>"
      ]
     },
     "metadata": {},
     "output_type": "display_data"
    },
    {
     "name": "stdout",
     "output_type": "stream",
     "text": [
      "Player's position (1, 2)\n",
      "Player's possible moves:  [(0, 2), (1, 1), (2, 2), (1, 3)]\n",
      "Player's chosen move (1, 1)\n",
      "Player's new position (1, 1)\n",
      "Player's reward for this move 0.0\n",
      "Number of moves made to perform task:  13\n"
     ]
    },
    {
     "data": {
      "image/png": "[encoded data removed]",
      "text/plain": [
       "<PIL.Image.Image image mode=RGB size=501x501 at 0x7FAFC408FFA0>"
      ]
     },
     "metadata": {},
     "output_type": "display_data"
    },
    {
     "name": "stdout",
     "output_type": "stream",
     "text": [
      "Player's position (1, 1)\n",
      "Player's possible moves:  [(0, 1), (1, 0), (2, 1), (1, 2)]\n",
      "Player's chosen move (1, 2)\n",
      "Player's new position (1, 2)\n",
      "Player's reward for this move -1.0\n",
      "Number of moves made to perform task:  14\n"
     ]
    },
    {
     "data": {
      "image/png": "[encoded data removed]",
      "text/plain": [
       "<PIL.Image.Image image mode=RGB size=501x501 at 0x7FAFC471BBE0>"
      ]
     },
     "metadata": {},
     "output_type": "display_data"
    },
    {
     "name": "stdout",
     "output_type": "stream",
     "text": [
      "Player's position (1, 2)\n",
      "Player's possible moves:  [(0, 2), (1, 1), (2, 2), (1, 3)]\n",
      "Player's chosen move (1, 1)\n",
      "Player's new position (1, 1)\n",
      "Player's reward for this move 0.0\n",
      "Number of moves made to perform task:  15\n"
     ]
    },
    {
     "data": {
      "image/png": "[encoded data removed]",
      "text/plain": [
       "<PIL.Image.Image image mode=RGB size=501x501 at 0x7FAFC45A1580>"
      ]
     },
     "metadata": {},
     "output_type": "display_data"
    },
    {
     "name": "stdout",
     "output_type": "stream",
     "text": [
      "Player's position (1, 1)\n",
      "Player's possible moves:  [(0, 1), (1, 0), (2, 1), (1, 2)]\n",
      "Player's chosen move (0, 1)\n",
      "Player's new position (0, 1)\n",
      "Player's reward for this move -1.0\n",
      "Number of moves made to perform task:  16\n"
     ]
    },
    {
     "data": {
      "image/png": "[encoded data removed]",
      "text/plain": [
       "<PIL.Image.Image image mode=RGB size=501x501 at 0x7FAFC471BBE0>"
      ]
     },
     "metadata": {},
     "output_type": "display_data"
    },
    {
     "name": "stdout",
     "output_type": "stream",
     "text": [
      "Player's position (0, 1)\n",
      "Player's possible moves:  [(-1, 1), (0, 0), (1, 1), (0, 2)]\n",
      "Player's chosen move (0, 0)\n",
      "Player's new position (0, 0)\n",
      "Player's reward for this move -1.0\n",
      "Number of moves made to perform task:  17\n"
     ]
    },
    {
     "data": {
      "image/png": "[encoded data removed]",
      "text/plain": [
       "<PIL.Image.Image image mode=RGB size=501x501 at 0x7FAFC46FFE20>"
      ]
     },
     "metadata": {},
     "output_type": "display_data"
    },
    {
     "name": "stdout",
     "output_type": "stream",
     "text": [
      "Player's position (0, 0)\n",
      "Player's possible moves:  [(-1, 0), (0, -1), (1, 0), (0, 1)]\n",
      "Player's chosen move (0, -1)\n",
      "Player's new position (0, 0)\n",
      "Player's reward for this move -10000\n",
      "Number of moves made to perform task:  18\n"
     ]
    },
    {
     "data": {
      "image/png": "[encoded data removed]",
      "text/plain": [
       "<PIL.Image.Image image mode=RGB size=501x501 at 0x7FAFC471BEB0>"
      ]
     },
     "metadata": {},
     "output_type": "display_data"
    },
    {
     "name": "stdout",
     "output_type": "stream",
     "text": [
      "Player's position (0, 0)\n",
      "Player's possible moves:  [(-1, 0), (0, -1), (1, 0), (0, 1)]\n",
      "Player's chosen move (0, 1)\n",
      "Player's new position (0, 1)\n",
      "Player's reward for this move -1.0\n",
      "Number of moves made to perform task:  19\n"
     ]
    },
    {
     "data": {
      "image/png": "[encoded data removed]",
      "text/plain": [
       "<PIL.Image.Image image mode=RGB size=501x501 at 0x7FAFC45A1520>"
      ]
     },
     "metadata": {},
     "output_type": "display_data"
    },
    {
     "name": "stdout",
     "output_type": "stream",
     "text": [
      "Player's position (0, 1)\n",
      "Player's possible moves:  [(-1, 1), (0, 0), (1, 1), (0, 2)]\n",
      "Player's chosen move (0, 2)\n",
      "Player's new position (0, 2)\n",
      "Player's reward for this move -1.0\n",
      "Number of moves made to perform task:  20\n"
     ]
    },
    {
     "data": {
      "image/png": "[encoded data removed]",
      "text/plain": [
       "<PIL.Image.Image image mode=RGB size=501x501 at 0x7FAFC470EAC0>"
      ]
     },
     "metadata": {},
     "output_type": "display_data"
    },
    {
     "name": "stdout",
     "output_type": "stream",
     "text": [
      "Player's position (0, 2)\n",
      "Player's possible moves:  [(-1, 2), (0, 1), (1, 2), (0, 3)]\n",
      "Player's chosen move (1, 2)\n",
      "Player's new position (1, 2)\n",
      "Player's reward for this move -1.0\n",
      "Number of moves made to perform task:  21\n"
     ]
    },
    {
     "data": {
      "image/png": "[encoded data removed]",
      "text/plain": [
       "<PIL.Image.Image image mode=RGB size=501x501 at 0x7FAFC45A1670>"
      ]
     },
     "metadata": {},
     "output_type": "display_data"
    },
    {
     "name": "stdout",
     "output_type": "stream",
     "text": [
      "Player's position (1, 2)\n",
      "Remaining prizes []\n",
      "Player's possible moves:  [(0, 2), (1, 1), (2, 2), (1, 3)]\n",
      "Player's chosen move (2, 2)\n",
      "Player's new position (2, 2)\n",
      "Player's reward for this move 0.0\n",
      "Number of moves made to perform task:  22\n"
     ]
    },
    {
     "data": {
      "image/png": "[encoded data removed]",
      "text/plain": [
       "<PIL.Image.Image image mode=RGB size=501x501 at 0x7FAFC471B7C0>"
      ]
     },
     "metadata": {},
     "output_type": "display_data"
    },
    {
     "name": "stdout",
     "output_type": "stream",
     "text": [
      "Player finished task in : 22  moves\n"
     ]
    }
   ],
   "source": [
    "collection_game = Collection_Game( (3,3), (0,0), [(1,1),(2,2)], -1, 0)\n",
    "play_game(collection_game, 1, output=True)"
   ]
  },
  {
   "cell_type": "code",
   "execution_count": 8,
   "id": "237a841f",
   "metadata": {
    "scrolled": true
   },
   "outputs": [
    {
     "name": "stdout",
     "output_type": "stream",
     "text": [
      "[[-1. -1. -1.]\n",
      " [-1.  0. -1.]\n",
      " [-1. -1.  0.]]\n"
     ]
    }
   ],
   "source": [
    "collection_game.print_board()"
   ]
  },
  {
   "cell_type": "code",
   "execution_count": null,
   "id": "8495261d",
   "metadata": {},
   "outputs": [],
   "source": []
  }
 ],
 "metadata": {
  "kernelspec": {
   "display_name": "Python 3 (ipykernel)",
   "language": "python",
   "name": "python3"
  },
  "language_info": {
   "codemirror_mode": {
    "name": "ipython",
    "version": 3
   },
   "file_extension": ".py",
   "mimetype": "text/x-python",
   "name": "python",
   "nbconvert_exporter": "python",
   "pygments_lexer": "ipython3",
   "version": "3.8.5"
  }
 },
 "nbformat": 4,
 "nbformat_minor": 5
}
