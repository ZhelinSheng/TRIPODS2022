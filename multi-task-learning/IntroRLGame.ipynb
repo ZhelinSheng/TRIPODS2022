{
 "cells": [
  {
   "cell_type": "code",
   "execution_count": 1,
   "id": "6a58b138",
   "metadata": {},
   "outputs": [],
   "source": [
    "import numpy as np\n",
    "from PIL import Image, ImageDraw\n",
    "import time\n",
    "from random import sample\n",
    "import numpy.random as random"
   ]
  },
  {
   "cell_type": "code",
   "execution_count": 21,
   "id": "5fa36994",
   "metadata": {},
   "outputs": [],
   "source": [
    "class GridWorld:\n",
    "    def __init__(self, board_dims, start_state, terminal_state, reward_matrix):\n",
    "        self.board_dims = board_dims\n",
    "        self.height, self.width = board_dims\n",
    "        self.start_state = start_state\n",
    "        self.agent_pos = start_state\n",
    "        self.terminal_state = terminal_state\n",
    "        self.reward_matrix = reward_matrix\n",
    "        self.moves = [(-1,0),(0,-1),(1,0),(0,1)] #up,left,down,right\n",
    "        \n",
    "    def get_moves(self, point):\n",
    "        \"\"\"\n",
    "        point - the point our agent is in\n",
    "        This function obtains the points of possible moves you can potentially make from the point provided\n",
    "        \"\"\"\n",
    "        \n",
    "        return [tuple(np.array(point)+np.array(x)) for x in self.moves]\n",
    "\n",
    "    def point_to_index(self, point):\n",
    "        \"\"\"\n",
    "        point - the point we want to convert to index (for list of lists e.g.)\n",
    "        This function obtains the index when you iterate across each column over each row of our game board\n",
    "        \"\"\"\n",
    "        return point[0]*self.width + point[1]\n",
    "\n",
    "    def index_to_point(self, index):\n",
    "        \"\"\"\n",
    "        index - the index we want to convert to game square point\n",
    "        This function obtains the index when you iterate across each column over each row of our game board\n",
    "        \"\"\"\n",
    "        #(divisions, remainder)\n",
    "        return (index // self.width, index % self.width)\n",
    "\n",
    "    def get_reward(self,point):\n",
    "        \"\"\"\n",
    "        point - a point in our grid\n",
    "        This function returns the reward for our agent going to the state represented by point\n",
    "        \"\"\"\n",
    "        return self.reward_matrix[point]\n",
    "    \n",
    "    def illegal_move(self,point):\n",
    "        \"\"\"\n",
    "        point - a point that may or may not be in our grid\n",
    "        This function returns true if the move we make takes us off the board and false if the move is legal\n",
    "        \"\"\"\n",
    "        return True if ((point[0] < 0 or point[0] == self.height) or (point[1] < 0 or point[1] == self.width)) else False\n",
    "        \n",
    "    def print_board(self):\n",
    "        print(self.reward_matrix)"
   ]
  },
  {
   "cell_type": "code",
   "execution_count": 22,
   "id": "8652982c",
   "metadata": {},
   "outputs": [],
   "source": [
    "class Targeting_Game(GridWorld):\n",
    "    def __init__(self, board_dims, start_state, terminal_state, reward_matrix):\n",
    "        GridWorld.__init__(self,board_dims, start_state, terminal_state, reward_matrix)\n",
    "        \n",
    "    def draw(self):\n",
    "        \"\"\"\n",
    "        agent_pos - tuple point representing agent's current position on game board \n",
    "        remaining_prizes - list of tuples representing remaining prizes and their positions on game board\n",
    "        This function draws our environment\n",
    "        \"\"\"\n",
    "\n",
    "        image = Image.new(\"RGB\", (501, 501), \"black\")\n",
    "        draw = ImageDraw.Draw(image)\n",
    "\n",
    "        w = 500/(self.width)\n",
    "        h = 500/(self.height)\n",
    "        color = \"white\"\n",
    "\n",
    "        #Draw Grid and Start/Stop Squares\n",
    "        for i in range(self.height):\n",
    "            for j in range(self.width):\n",
    "                if(i == self.start_state[0] and j == self.start_state[1]):\n",
    "                    color = \"blue\"\n",
    "                elif(i == self.terminal_state[0] and j == self.terminal_state[1]):\n",
    "                    color = \"red\"\n",
    "                draw.rectangle(((0+j*w, 0+i*h),(w+j*w, h+i*h)), outline = \"black\", fill = color)\n",
    "                color =\"white\"\n",
    "\n",
    "        #Draw Agent\n",
    "        draw.ellipse((self.agent_pos[1]*w + w/4, self.agent_pos[0]*h + h/4, 3*w/4 + self.agent_pos[1]*w, 3*h/4 + self.agent_pos[0]*h), fill=\"black\")\n",
    "\n",
    "        display(image)\n",
    "\n",
    "    def update_state(self,new_pos):\n",
    "      \"\"\"\n",
    "      new_pos - a point in the game grid that the agent has moved to\n",
    "      This function updates the agent position for the GameGrid class variable.\n",
    "      \"\"\"\n",
    "      self.agent_pos = new_pos\n",
    "\n",
    "    def refresh_game(self):\n",
    "        self.agent_pos = self.start_state"
   ]
  },
  {
   "cell_type": "code",
   "execution_count": 23,
   "id": "554cd61b",
   "metadata": {},
   "outputs": [],
   "source": [
    "class Collection_Game(GridWorld):\n",
    "    def __init__(self, board_dims, start_state, prize_states, reward_matrix, prize_value=0):\n",
    "        GridWorld.__init__(self,board_dims, start_state, None, reward_matrix)\n",
    "        self.prize_states = prize_states\n",
    "        self.remaining_prize_states = list(prize_states)\n",
    "        self.prize_value = prize_value\n",
    "        for prize_state in prize_states:\n",
    "            self.reward_matrix[prize_state] = prize_value\n",
    "    \n",
    "    def draw(self):\n",
    "        \"\"\"\n",
    "        agent_pos - tuple point representing agent's current position on game board \n",
    "        remaining_prizes - list of tuples representing remaining prizes and their positions on game board\n",
    "        This function draws our environment\n",
    "        \"\"\"\n",
    "\n",
    "        image = Image.new(\"RGB\", (501, 501), \"black\")\n",
    "        draw = ImageDraw.Draw(image)\n",
    "\n",
    "        w = 500/(self.width)\n",
    "        h = 500/(self.height)\n",
    "        color = \"white\"\n",
    "\n",
    "        #Draw Grid and Start/Stop Squares\n",
    "        for i in range(self.height):\n",
    "            for j in range(self.width):\n",
    "                if(i == self.start_state[0] and j == self.start_state[1]):\n",
    "                    color = \"blue\"\n",
    "                draw.rectangle(((0+j*w, 0+i*h),(w+j*w, h+i*h)), outline = \"black\", fill = color)\n",
    "                color =\"white\"\n",
    "\n",
    "        #Draw Agent\n",
    "        draw.ellipse((self.agent_pos[1]*w + w/4, self.agent_pos[0]*h + h/4, 3*w/4 + self.agent_pos[1]*w, 3*h/4 + self.agent_pos[0]*h), fill=\"black\")\n",
    "\n",
    "        #Draw Prizes\n",
    "        if len(self.remaining_prize_states) > 1:\n",
    "            for x in self.remaining_prize_states:\n",
    "                draw.rectangle(((x[1]*w + w/4, x[0]*h + h/4), (3*w/4+x[1]*w, 3*h/4+x[0]*h)), outline = \"black\", fill = \"yellow\")\n",
    "        elif len(self.remaining_prize_states) == 1:\n",
    "            remaining_prize = self.remaining_prize_states[0]\n",
    "            draw.rectangle(((remaining_prize[1]*w + w/4, remaining_prize[0]*h + h/4), (3*w/4+remaining_prize[1]*w, 3*h/4+remaining_prize[0]*h)), outline = \"black\", fill = \"yellow\")\n",
    "      \n",
    "        display(image)\n",
    "\n",
    "    def update_state(self,new_pos):\n",
    "        \"\"\"\n",
    "        new_pos - a point in the game grid that the agent has moved to\n",
    "        This function updates the agent position for the GameGrid class variable.\n",
    "        \"\"\"\n",
    "        self.agent_pos = new_pos\n",
    "        if self.agent_pos in self.remaining_prize_states:\n",
    "            self.remove_prize(self.agent_pos)\n",
    "\n",
    "    def remove_prize(self, prize_point):\n",
    "        \"\"\"\n",
    "        prize_point - a point in the game grid that contained a prize\n",
    "        This function removes the prize at the prize_point supplied from the remaining prizes. This function also\n",
    "            updates the reward matrix accordingly.\n",
    "        \"\"\"\n",
    "        #remove prize from remaining prizes\n",
    "        self.remaining_prize_states.remove(prize_point)\n",
    "        #adjust reward matrix to account for no prize at this prize_point for the rest of the episode\n",
    "        self.reward_matrix[prize_point] = self.reward_matrix[self.start_state]\n",
    "        #if there remains one prize, set that to be the terminal state for the episode\n",
    "        if len(self.remaining_prize_states) == 1:\n",
    "            self.terminal_state = self.remaining_prize_states[0]\n",
    "        \n",
    "    def refresh_game(self):\n",
    "        \"\"\"\n",
    "        This function refreshes the game's agent position, the remaining prizes, the reward matrix, and terminal \n",
    "            state. This is used between each episode\n",
    "        \"\"\"\n",
    "        self.agent_pos = self.start_state\n",
    "        self.remaining_prize_states = list(self.prize_states)\n",
    "        self.terminal_state = None\n",
    "        \n",
    "        for prize_state in self.prize_states:\n",
    "            self.reward_matrix[prize_state] = self.prize_value"
   ]
  },
  {
   "cell_type": "code",
   "execution_count": null,
   "id": "0febbd34",
   "metadata": {},
   "outputs": [],
   "source": [
    "class QTable:\n",
    "    \"\"\"\n",
    "    STILL IN PROGRESS\n",
    "    \"\"\"\n",
    "    def __init__(self, Game, alpha, epsilon):\n",
    "        self.Game = Game\n",
    "        self.matrix = np.zeros([Game.height*Game.width, len(Game.moves)])\n",
    "        self.alpha = alpha\n",
    "        self.epsilon = epsilon\n",
    "        self.policy = np.ones(Game.board_dims) / len(Game.moves)\n",
    "        \n",
    "        \n",
    "    def returnQTableActionFromState(self,state, moves, possible_moves):\n",
    "        possible_moves_idx = [moves.index(possible_move) for possible_move in possible_moves]\n",
    "        possible_move_idx = np.argmax(self.matrix[state,possible_moves_idx])\n",
    "\n",
    "        return possible_moves[possible_move_idx]\n",
    "\n",
    "    def updateQTable(self, epoch, listOfStatesAndActionsUsed):\n",
    "        new_reward = 1/len(listOfStatesAndActionsUsed)\n",
    "        for sa_pair in list(set(listOfStatesAndActionsUsed)):\n",
    "            self.incidences[sa_pair[0],sa_pair[1]] += 1\n",
    "            current_reward = self.matrix[sa_pair[0], sa_pair[1]]\n",
    "            self.matrix[sa_pair[0], sa_pair[1]] = current_reward + (1 / self.incidences[sa_pair[0],sa_pair[1]]) * (new_reward - current_reward)\n",
    "  \n",
    "  "
   ]
  },
  {
   "cell_type": "code",
   "execution_count": null,
   "id": "f2bfd134",
   "metadata": {},
   "outputs": [],
   "source": [
    "class Agent:\n",
    "    \"\"\"\n",
    "    STILL IN PROGRESS\n",
    "    \"\"\"\n",
    "    def __init__(self, Game, model, policy):\n",
    "        self.Game = Game\n",
    "        self.model = model\n",
    "        self.policy = policy #should be a matrix of probabilities\n",
    "       \n",
    "    def update_policy(self):\n",
    "        model.update_policy\n",
    "    \n",
    "    def update_model(self):\n",
    "        return None\n",
    "    \n",
    "    def observe_sprime(self):\n",
    "        return None\n",
    "    \n",
    "    def get_action(self, state):\n",
    "        \n",
    "    \n",
    "    def play_game(self, episodes):\n",
    "        player_scores = []\n",
    "        #number of times player plays the game is episodes.\n",
    "\n",
    "        for i in range(episodes):\n",
    "            #in each episode, the player needs to complete the task in T steps (t = 0,1,...,t-2,t-1,T)\n",
    "\n",
    "            t = 0\n",
    "            episode_reward = 0\n",
    "            Game.draw()\n",
    "\n",
    "            #while agent is not in a terminal state\n",
    "            while Game.agent_pos != Game.terminal_state:\n",
    "                if output:\n",
    "                    print(\"Player's position\",Game.agent_pos)\n",
    "\n",
    "                t += 1\n",
    "\n",
    "                #get possible moves going up, left, down, and right\n",
    "                possible_moves = Game.get_moves(Game.agent_pos)\n",
    "                #randomly select move\n",
    "                r = random.randint(0,len(possible_moves))\n",
    "                new_move = possible_moves[r]\n",
    "\n",
    "                #if move is illegal (going off the board), set reward to very bad\n",
    "                if Game.illegal_move(new_move):\n",
    "                    reward = -10000\n",
    "                else:\n",
    "                #else the selected move is legal and we should get reward r for agent going to state s'\n",
    "                    reward = Game.get_reward(new_move)\n",
    "                    Game.update_state(new_move)\n",
    "\n",
    "                episode_reward += reward\n",
    "\n",
    "                \n",
    "                print(\"Player's possible moves: \",possible_moves)\n",
    "                print(\"Player's chosen move\",new_move)\n",
    "                print(\"Player's new position\",Game.agent_pos)\n",
    "                print(\"Player's reward for this move\",reward)\n",
    "                print(\"Number of moves made to perform task: \",t)\n",
    "\n",
    "                if Game.terminal_state is not None and Game.agent_pos in Game.terminal_state:\n",
    "                    print(\"Player found the target square: \",Game.terminal_state)\n",
    "\n",
    "                Game.draw()\n",
    "                \n",
    "\n",
    "            player_scores.append(episode_reward)\n",
    "\n",
    "            print(\"Player finished task in :\",t, \" moves\")\n",
    "            Game.refresh_game()\n",
    "\n",
    "        print(\"Player scores for every episode: \",player_scores)\n",
    "        Game.refresh_game()"
   ]
  },
  {
   "cell_type": "code",
   "execution_count": 24,
   "id": "4e23fab0",
   "metadata": {},
   "outputs": [],
   "source": [
    "def play_game(Game, episodes, output=False):\n",
    "    #player = random, person, or agent\n",
    "\n",
    "    player_scores = []\n",
    "    #number of times player plays the game is episodes.\n",
    "\n",
    "    for i in range(episodes):\n",
    "\n",
    "        #in each episode, the player needs to complete the task in T steps (t = 0,1,...,t-2,t-1,T)\n",
    "\n",
    "        t = 0\n",
    "        episode_reward = 0\n",
    "        Game.draw()\n",
    "        \n",
    "        #while agent is not in a terminal state\n",
    "        while Game.agent_pos != Game.terminal_state:\n",
    "            if output:\n",
    "                print(\"Player's position\",Game.agent_pos)\n",
    "\n",
    "            t += 1\n",
    "            \n",
    "            #get possible moves going up, left, down, and right\n",
    "            possible_moves = Game.get_moves(Game.agent_pos)\n",
    "            #randomly select move\n",
    "            r = random.randint(0,len(possible_moves))\n",
    "            new_move = possible_moves[r]\n",
    "            \n",
    "            #if move is illegal (going off the board), set reward to very bad\n",
    "            if Game.illegal_move(new_move):\n",
    "                reward = -10000\n",
    "            else:\n",
    "            #else the selected move is legal and we should get reward r for agent going to state s'\n",
    "                reward = Game.get_reward(new_move)\n",
    "                Game.update_state(new_move)\n",
    "\n",
    "            episode_reward += reward\n",
    "            \n",
    "            if output:\n",
    "                print(\"Player's possible moves: \",possible_moves)\n",
    "                print(\"Player's chosen move\",new_move)\n",
    "                print(\"Player's new position\",Game.agent_pos)\n",
    "                print(\"Player's reward for this move\",reward)\n",
    "                print(\"Number of moves made to perform task: \",t)\n",
    "                \n",
    "                if Game.terminal_state is not None and Game.agent_pos in Game.terminal_state:\n",
    "                    print(\"Player found the target square: \",Game.terminal_state)\n",
    "\n",
    "                Game.draw()\n",
    "            \n",
    "        player_scores.append(episode_reward)\n",
    "\n",
    "        print(\"Player finished task in :\",t, \" moves\")\n",
    "        Game.refresh_game()\n",
    "\n",
    "    print(\"Player scores for every episode: \",player_scores)\n",
    "    Game.refresh_game()"
   ]
  },
  {
   "cell_type": "code",
   "execution_count": 25,
   "id": "2272f29d",
   "metadata": {},
   "outputs": [
    {
     "name": "stdout",
     "output_type": "stream",
     "text": [
      "[[-1. -1. -1.]\n",
      " [-1. -1. -1.]\n",
      " [-1. -1.  0.]]\n"
     ]
    },
    {
     "data": {
      "image/png": "[encoded data removed]",
      "text/plain": [
       "<PIL.Image.Image image mode=RGB size=501x501 at 0x7FA95DA110A0>"
      ]
     },
     "metadata": {},
     "output_type": "display_data"
    },
    {
     "name": "stdout",
     "output_type": "stream",
     "text": [
      "Player's position (0, 0)\n",
      "Player's possible moves:  [(-1, 0), (0, -1), (1, 0), (0, 1)]\n",
      "Player's chosen move (0, 1)\n",
      "Player's new position (0, 1)\n",
      "Player's reward for this move -1.0\n",
      "Number of moves made to perform task:  1\n"
     ]
    },
    {
     "data": {
      "image/png": "[encoded data removed]",
      "text/plain": [
       "<PIL.Image.Image image mode=RGB size=501x501 at 0x7FA95D869AC0>"
      ]
     },
     "metadata": {},
     "output_type": "display_data"
    },
    {
     "name": "stdout",
     "output_type": "stream",
     "text": [
      "Player's position (0, 1)\n",
      "Player's possible moves:  [(-1, 1), (0, 0), (1, 1), (0, 2)]\n",
      "Player's chosen move (0, 0)\n",
      "Player's new position (0, 0)\n",
      "Player's reward for this move -1.0\n",
      "Number of moves made to perform task:  2\n"
     ]
    },
    {
     "data": {
      "image/png": "[encoded data removed]",
      "text/plain": [
       "<PIL.Image.Image image mode=RGB size=501x501 at 0x7FA95C79A790>"
      ]
     },
     "metadata": {},
     "output_type": "display_data"
    },
    {
     "name": "stdout",
     "output_type": "stream",
     "text": [
      "Player's position (0, 0)\n",
      "Player's possible moves:  [(-1, 0), (0, -1), (1, 0), (0, 1)]\n",
      "Player's chosen move (-1, 0)\n",
      "Player's new position (0, 0)\n",
      "Player's reward for this move -10000\n",
      "Number of moves made to perform task:  3\n"
     ]
    },
    {
     "data": {
      "image/png": "[encoded data removed]",
      "text/plain": [
       "<PIL.Image.Image image mode=RGB size=501x501 at 0x7FA95DAC83A0>"
      ]
     },
     "metadata": {},
     "output_type": "display_data"
    },
    {
     "name": "stdout",
     "output_type": "stream",
     "text": [
      "Player's position (0, 0)\n",
      "Player's possible moves:  [(-1, 0), (0, -1), (1, 0), (0, 1)]\n",
      "Player's chosen move (0, 1)\n",
      "Player's new position (0, 1)\n",
      "Player's reward for this move -1.0\n",
      "Number of moves made to perform task:  4\n"
     ]
    },
    {
     "data": {
      "image/png": "[encoded data removed]",
      "text/plain": [
       "<PIL.Image.Image image mode=RGB size=501x501 at 0x7FA95DA00D90>"
      ]
     },
     "metadata": {},
     "output_type": "display_data"
    },
    {
     "name": "stdout",
     "output_type": "stream",
     "text": [
      "Player's position (0, 1)\n",
      "Player's possible moves:  [(-1, 1), (0, 0), (1, 1), (0, 2)]\n",
      "Player's chosen move (-1, 1)\n",
      "Player's new position (0, 1)\n",
      "Player's reward for this move -10000\n",
      "Number of moves made to perform task:  5\n"
     ]
    },
    {
     "data": {
      "image/png": "[encoded data removed]",
      "text/plain": [
       "<PIL.Image.Image image mode=RGB size=501x501 at 0x7FA95C78FE50>"
      ]
     },
     "metadata": {},
     "output_type": "display_data"
    },
    {
     "name": "stdout",
     "output_type": "stream",
     "text": [
      "Player's position (0, 1)\n",
      "Player's possible moves:  [(-1, 1), (0, 0), (1, 1), (0, 2)]\n",
      "Player's chosen move (1, 1)\n",
      "Player's new position (1, 1)\n",
      "Player's reward for this move -1.0\n",
      "Number of moves made to perform task:  6\n"
     ]
    },
    {
     "data": {
      "image/png": "[encoded data removed]",
      "text/plain": [
       "<PIL.Image.Image image mode=RGB size=501x501 at 0x7FA95C79A790>"
      ]
     },
     "metadata": {},
     "output_type": "display_data"
    },
    {
     "name": "stdout",
     "output_type": "stream",
     "text": [
      "Player's position (1, 1)\n",
      "Player's possible moves:  [(0, 1), (1, 0), (2, 1), (1, 2)]\n",
      "Player's chosen move (0, 1)\n",
      "Player's new position (0, 1)\n",
      "Player's reward for this move -1.0\n",
      "Number of moves made to perform task:  7\n"
     ]
    },
    {
     "data": {
      "image/png": "[encoded data removed]",
      "text/plain": [
       "<PIL.Image.Image image mode=RGB size=501x501 at 0x7FA95DA00D90>"
      ]
     },
     "metadata": {},
     "output_type": "display_data"
    },
    {
     "name": "stdout",
     "output_type": "stream",
     "text": [
      "Player's position (0, 1)\n",
      "Player's possible moves:  [(-1, 1), (0, 0), (1, 1), (0, 2)]\n",
      "Player's chosen move (1, 1)\n",
      "Player's new position (1, 1)\n",
      "Player's reward for this move -1.0\n",
      "Number of moves made to perform task:  8\n"
     ]
    },
    {
     "data": {
      "image/png": "[encoded data removed]",
      "text/plain": [
       "<PIL.Image.Image image mode=RGB size=501x501 at 0x7FA95DA110A0>"
      ]
     },
     "metadata": {},
     "output_type": "display_data"
    },
    {
     "name": "stdout",
     "output_type": "stream",
     "text": [
      "Player's position (1, 1)\n",
      "Player's possible moves:  [(0, 1), (1, 0), (2, 1), (1, 2)]\n",
      "Player's chosen move (0, 1)\n",
      "Player's new position (0, 1)\n",
      "Player's reward for this move -1.0\n",
      "Number of moves made to perform task:  9\n"
     ]
    },
    {
     "data": {
      "image/png": "[encoded data removed]",
      "text/plain": [
       "<PIL.Image.Image image mode=RGB size=501x501 at 0x7FA95DA1D2B0>"
      ]
     },
     "metadata": {},
     "output_type": "display_data"
    },
    {
     "name": "stdout",
     "output_type": "stream",
     "text": [
      "Player's position (0, 1)\n",
      "Player's possible moves:  [(-1, 1), (0, 0), (1, 1), (0, 2)]\n",
      "Player's chosen move (1, 1)\n",
      "Player's new position (1, 1)\n",
      "Player's reward for this move -1.0\n",
      "Number of moves made to perform task:  10\n"
     ]
    },
    {
     "data": {
      "image/png": "[encoded data removed]",
      "text/plain": [
       "<PIL.Image.Image image mode=RGB size=501x501 at 0x7FA95DAC8340>"
      ]
     },
     "metadata": {},
     "output_type": "display_data"
    },
    {
     "name": "stdout",
     "output_type": "stream",
     "text": [
      "Player's position (1, 1)\n",
      "Player's possible moves:  [(0, 1), (1, 0), (2, 1), (1, 2)]\n",
      "Player's chosen move (1, 2)\n",
      "Player's new position (1, 2)\n",
      "Player's reward for this move -1.0\n",
      "Number of moves made to perform task:  11\n"
     ]
    },
    {
     "data": {
      "image/png": "[encoded data removed]",
      "text/plain": [
       "<PIL.Image.Image image mode=RGB size=501x501 at 0x7FA95DA00D90>"
      ]
     },
     "metadata": {},
     "output_type": "display_data"
    },
    {
     "name": "stdout",
     "output_type": "stream",
     "text": [
      "Player's position (1, 2)\n",
      "Player's possible moves:  [(0, 2), (1, 1), (2, 2), (1, 3)]\n",
      "Player's chosen move (1, 3)\n",
      "Player's new position (1, 2)\n",
      "Player's reward for this move -10000\n",
      "Number of moves made to perform task:  12\n"
     ]
    },
    {
     "data": {
      "image/png": "[encoded data removed]",
      "text/plain": [
       "<PIL.Image.Image image mode=RGB size=501x501 at 0x7FA95DAC89D0>"
      ]
     },
     "metadata": {},
     "output_type": "display_data"
    },
    {
     "name": "stdout",
     "output_type": "stream",
     "text": [
      "Player's position (1, 2)\n",
      "Player's possible moves:  [(0, 2), (1, 1), (2, 2), (1, 3)]\n",
      "Player's chosen move (1, 3)\n",
      "Player's new position (1, 2)\n",
      "Player's reward for this move -10000\n",
      "Number of moves made to perform task:  13\n"
     ]
    },
    {
     "data": {
      "image/png": "[encoded data removed]",
      "text/plain": [
       "<PIL.Image.Image image mode=RGB size=501x501 at 0x7FA95DA1D760>"
      ]
     },
     "metadata": {},
     "output_type": "display_data"
    },
    {
     "name": "stdout",
     "output_type": "stream",
     "text": [
      "Player's position (1, 2)\n",
      "Player's possible moves:  [(0, 2), (1, 1), (2, 2), (1, 3)]\n",
      "Player's chosen move (1, 1)\n",
      "Player's new position (1, 1)\n",
      "Player's reward for this move -1.0\n",
      "Number of moves made to perform task:  14\n"
     ]
    },
    {
     "data": {
      "image/png": "[encoded data removed]",
      "text/plain": [
       "<PIL.Image.Image image mode=RGB size=501x501 at 0x7FA95DAC8A60>"
      ]
     },
     "metadata": {},
     "output_type": "display_data"
    },
    {
     "name": "stdout",
     "output_type": "stream",
     "text": [
      "Player's position (1, 1)\n",
      "Player's possible moves:  [(0, 1), (1, 0), (2, 1), (1, 2)]\n",
      "Player's chosen move (2, 1)\n",
      "Player's new position (2, 1)\n",
      "Player's reward for this move -1.0\n",
      "Number of moves made to perform task:  15\n"
     ]
    },
    {
     "data": {
      "image/png": "[encoded data removed]",
      "text/plain": [
       "<PIL.Image.Image image mode=RGB size=501x501 at 0x7FA95DA1D2B0>"
      ]
     },
     "metadata": {},
     "output_type": "display_data"
    },
    {
     "name": "stdout",
     "output_type": "stream",
     "text": [
      "Player's position (2, 1)\n",
      "Player's possible moves:  [(1, 1), (2, 0), (3, 1), (2, 2)]\n",
      "Player's chosen move (3, 1)\n",
      "Player's new position (2, 1)\n",
      "Player's reward for this move -10000\n",
      "Number of moves made to perform task:  16\n"
     ]
    },
    {
     "data": {
      "image/png": "[encoded data removed]",
      "text/plain": [
       "<PIL.Image.Image image mode=RGB size=501x501 at 0x7FA95D869C40>"
      ]
     },
     "metadata": {},
     "output_type": "display_data"
    },
    {
     "name": "stdout",
     "output_type": "stream",
     "text": [
      "Player's position (2, 1)\n",
      "Player's possible moves:  [(1, 1), (2, 0), (3, 1), (2, 2)]\n",
      "Player's chosen move (2, 2)\n",
      "Player's new position (2, 2)\n",
      "Player's reward for this move 0.0\n",
      "Number of moves made to perform task:  17\n"
     ]
    },
    {
     "data": {
      "image/png": "[encoded data removed]",
      "text/plain": [
       "<PIL.Image.Image image mode=RGB size=501x501 at 0x7FA95DAC8430>"
      ]
     },
     "metadata": {},
     "output_type": "display_data"
    },
    {
     "name": "stdout",
     "output_type": "stream",
     "text": [
      "Player finished task in : 17  moves\n",
      "Player scores for every episode:  [-50011.0]\n"
     ]
    }
   ],
   "source": [
    "reward_matrix = np.ones((3,3))*-1\n",
    "reward_matrix[(2,2)] = 0\n",
    "print(reward_matrix)\n",
    "target_game = Targeting_Game( (3,3), (0,0), (2,2), reward_matrix)\n",
    "play_game(target_game, 1, output=True)"
   ]
  },
  {
   "cell_type": "code",
   "execution_count": 7,
   "id": "4a02dc20",
   "metadata": {},
   "outputs": [
    {
     "data": {
      "image/png": "[encoded data removed]",
      "text/plain": [
       "<PIL.Image.Image image mode=RGB size=501x501 at 0x7FA95C733550>"
      ]
     },
     "metadata": {},
     "output_type": "display_data"
    },
    {
     "name": "stdout",
     "output_type": "stream",
     "text": [
      "Player's position (0, 0)\n",
      "Player's possible moves:  [(-1, 0), (0, -1), (1, 0), (0, 1)]\n",
      "Player's chosen move (1, 0)\n",
      "Player's new position (1, 0)\n",
      "Player's reward for this move -1.0\n",
      "Number of moves made to perform task:  1\n"
     ]
    },
    {
     "data": {
      "image/png": "[encoded data removed]",
      "text/plain": [
       "<PIL.Image.Image image mode=RGB size=501x501 at 0x7FA95DA1DDF0>"
      ]
     },
     "metadata": {},
     "output_type": "display_data"
    },
    {
     "name": "stdout",
     "output_type": "stream",
     "text": [
      "Player's position (1, 0)\n",
      "Player's possible moves:  [(0, 0), (1, -1), (2, 0), (1, 1)]\n",
      "Player's chosen move (0, 0)\n",
      "Player's new position (0, 0)\n",
      "Player's reward for this move -1.0\n",
      "Number of moves made to perform task:  2\n"
     ]
    },
    {
     "data": {
      "image/png": "[encoded data removed]",
      "text/plain": [
       "<PIL.Image.Image image mode=RGB size=501x501 at 0x7FA95D8A54F0>"
      ]
     },
     "metadata": {},
     "output_type": "display_data"
    },
    {
     "name": "stdout",
     "output_type": "stream",
     "text": [
      "Player's position (0, 0)\n",
      "Player's possible moves:  [(-1, 0), (0, -1), (1, 0), (0, 1)]\n",
      "Player's chosen move (1, 0)\n",
      "Player's new position (1, 0)\n",
      "Player's reward for this move -1.0\n",
      "Number of moves made to perform task:  3\n"
     ]
    },
    {
     "data": {
      "image/png": "[encoded data removed]",
      "text/plain": [
       "<PIL.Image.Image image mode=RGB size=501x501 at 0x7FA95DA1DDC0>"
      ]
     },
     "metadata": {},
     "output_type": "display_data"
    },
    {
     "name": "stdout",
     "output_type": "stream",
     "text": [
      "Player's position (1, 0)\n",
      "Player's possible moves:  [(0, 0), (1, -1), (2, 0), (1, 1)]\n",
      "Player's chosen move (2, 0)\n",
      "Player's new position (2, 0)\n",
      "Player's reward for this move -1.0\n",
      "Number of moves made to perform task:  4\n"
     ]
    },
    {
     "data": {
      "image/png": "[encoded data removed]",
      "text/plain": [
       "<PIL.Image.Image image mode=RGB size=501x501 at 0x7FA95D8A52E0>"
      ]
     },
     "metadata": {},
     "output_type": "display_data"
    },
    {
     "name": "stdout",
     "output_type": "stream",
     "text": [
      "Player's position (2, 0)\n",
      "Player's possible moves:  [(1, 0), (2, -1), (3, 0), (2, 1)]\n",
      "Player's chosen move (3, 0)\n",
      "Player's new position (2, 0)\n",
      "Player's reward for this move -10000\n",
      "Number of moves made to perform task:  5\n"
     ]
    },
    {
     "data": {
      "image/png": "[encoded data removed]",
      "text/plain": [
       "<PIL.Image.Image image mode=RGB size=501x501 at 0x7FA95DA1DF10>"
      ]
     },
     "metadata": {},
     "output_type": "display_data"
    },
    {
     "name": "stdout",
     "output_type": "stream",
     "text": [
      "Player's position (2, 0)\n",
      "Player's possible moves:  [(1, 0), (2, -1), (3, 0), (2, 1)]\n",
      "Player's chosen move (2, 1)\n",
      "Player's new position (2, 1)\n",
      "Player's reward for this move -1.0\n",
      "Number of moves made to perform task:  6\n"
     ]
    },
    {
     "data": {
      "image/png": "[encoded data removed]",
      "text/plain": [
       "<PIL.Image.Image image mode=RGB size=501x501 at 0x7FA95D8A5340>"
      ]
     },
     "metadata": {},
     "output_type": "display_data"
    },
    {
     "name": "stdout",
     "output_type": "stream",
     "text": [
      "Player's position (2, 1)\n",
      "Player's possible moves:  [(1, 1), (2, 0), (3, 1), (2, 2)]\n",
      "Player's chosen move (2, 0)\n",
      "Player's new position (2, 0)\n",
      "Player's reward for this move -1.0\n",
      "Number of moves made to perform task:  7\n"
     ]
    },
    {
     "data": {
      "image/png": "[encoded data removed]",
      "text/plain": [
       "<PIL.Image.Image image mode=RGB size=501x501 at 0x7FA95DA1D940>"
      ]
     },
     "metadata": {},
     "output_type": "display_data"
    },
    {
     "name": "stdout",
     "output_type": "stream",
     "text": [
      "Player's position (2, 0)\n",
      "Player's possible moves:  [(1, 0), (2, -1), (3, 0), (2, 1)]\n",
      "Player's chosen move (3, 0)\n",
      "Player's new position (2, 0)\n",
      "Player's reward for this move -10000\n",
      "Number of moves made to perform task:  8\n"
     ]
    },
    {
     "data": {
      "image/png": "[encoded data removed]",
      "text/plain": [
       "<PIL.Image.Image image mode=RGB size=501x501 at 0x7FA95DA1D310>"
      ]
     },
     "metadata": {},
     "output_type": "display_data"
    },
    {
     "name": "stdout",
     "output_type": "stream",
     "text": [
      "Player's position (2, 0)\n",
      "Player's possible moves:  [(1, 0), (2, -1), (3, 0), (2, 1)]\n",
      "Player's chosen move (1, 0)\n",
      "Player's new position (1, 0)\n",
      "Player's reward for this move -1.0\n",
      "Number of moves made to perform task:  9\n"
     ]
    },
    {
     "data": {
      "image/png": "[encoded data removed]",
      "text/plain": [
       "<PIL.Image.Image image mode=RGB size=501x501 at 0x7FA95DA1D6D0>"
      ]
     },
     "metadata": {},
     "output_type": "display_data"
    },
    {
     "name": "stdout",
     "output_type": "stream",
     "text": [
      "Player's position (1, 0)\n",
      "Player's possible moves:  [(0, 0), (1, -1), (2, 0), (1, 1)]\n",
      "Player's chosen move (0, 0)\n",
      "Player's new position (0, 0)\n",
      "Player's reward for this move -1.0\n",
      "Number of moves made to perform task:  10\n"
     ]
    },
    {
     "data": {
      "image/png": "[encoded data removed]",
      "text/plain": [
       "<PIL.Image.Image image mode=RGB size=501x501 at 0x7FA95D8A5340>"
      ]
     },
     "metadata": {},
     "output_type": "display_data"
    },
    {
     "name": "stdout",
     "output_type": "stream",
     "text": [
      "Player's position (0, 0)\n",
      "Player's possible moves:  [(-1, 0), (0, -1), (1, 0), (0, 1)]\n",
      "Player's chosen move (1, 0)\n",
      "Player's new position (1, 0)\n",
      "Player's reward for this move -1.0\n",
      "Number of moves made to perform task:  11\n"
     ]
    },
    {
     "data": {
      "image/png": "[encoded data removed]",
      "text/plain": [
       "<PIL.Image.Image image mode=RGB size=501x501 at 0x7FA95DA1DDF0>"
      ]
     },
     "metadata": {},
     "output_type": "display_data"
    },
    {
     "name": "stdout",
     "output_type": "stream",
     "text": [
      "Player's position (1, 0)\n",
      "Player's possible moves:  [(0, 0), (1, -1), (2, 0), (1, 1)]\n",
      "Player's chosen move (0, 0)\n",
      "Player's new position (0, 0)\n",
      "Player's reward for this move -1.0\n",
      "Number of moves made to perform task:  12\n"
     ]
    },
    {
     "data": {
      "image/png": "[encoded data removed]",
      "text/plain": [
       "<PIL.Image.Image image mode=RGB size=501x501 at 0x7FA95D8A58B0>"
      ]
     },
     "metadata": {},
     "output_type": "display_data"
    },
    {
     "name": "stdout",
     "output_type": "stream",
     "text": [
      "Player's position (0, 0)\n",
      "Player's possible moves:  [(-1, 0), (0, -1), (1, 0), (0, 1)]\n",
      "Player's chosen move (-1, 0)\n",
      "Player's new position (0, 0)\n",
      "Player's reward for this move -10000\n",
      "Number of moves made to perform task:  13\n"
     ]
    },
    {
     "data": {
      "image/png": "[encoded data removed]",
      "text/plain": [
       "<PIL.Image.Image image mode=RGB size=501x501 at 0x7FA95DA1DD30>"
      ]
     },
     "metadata": {},
     "output_type": "display_data"
    },
    {
     "name": "stdout",
     "output_type": "stream",
     "text": [
      "Player's position (0, 0)\n",
      "Player's possible moves:  [(-1, 0), (0, -1), (1, 0), (0, 1)]\n",
      "Player's chosen move (0, 1)\n",
      "Player's new position (0, 1)\n",
      "Player's reward for this move -1.0\n",
      "Number of moves made to perform task:  14\n"
     ]
    },
    {
     "data": {
      "image/png": "[encoded data removed]",
      "text/plain": [
       "<PIL.Image.Image image mode=RGB size=501x501 at 0x7FA95D8A5340>"
      ]
     },
     "metadata": {},
     "output_type": "display_data"
    },
    {
     "name": "stdout",
     "output_type": "stream",
     "text": [
      "Player's position (0, 1)\n",
      "Player's possible moves:  [(-1, 1), (0, 0), (1, 1), (0, 2)]\n",
      "Player's chosen move (-1, 1)\n",
      "Player's new position (0, 1)\n",
      "Player's reward for this move -10000\n",
      "Number of moves made to perform task:  15\n"
     ]
    },
    {
     "data": {
      "image/png": "[encoded data removed]",
      "text/plain": [
       "<PIL.Image.Image image mode=RGB size=501x501 at 0x7FA95DA1D640>"
      ]
     },
     "metadata": {},
     "output_type": "display_data"
    },
    {
     "name": "stdout",
     "output_type": "stream",
     "text": [
      "Player's position (0, 1)\n",
      "Player's possible moves:  [(-1, 1), (0, 0), (1, 1), (0, 2)]\n",
      "Player's chosen move (0, 2)\n",
      "Player's new position (0, 2)\n",
      "Player's reward for this move -1.0\n",
      "Number of moves made to perform task:  16\n"
     ]
    },
    {
     "data": {
      "image/png": "[encoded data removed]",
      "text/plain": [
       "<PIL.Image.Image image mode=RGB size=501x501 at 0x7FA95D8A50A0>"
      ]
     },
     "metadata": {},
     "output_type": "display_data"
    },
    {
     "name": "stdout",
     "output_type": "stream",
     "text": [
      "Player's position (0, 2)\n",
      "Player's possible moves:  [(-1, 2), (0, 1), (1, 2), (0, 3)]\n",
      "Player's chosen move (0, 3)\n",
      "Player's new position (0, 2)\n",
      "Player's reward for this move -10000\n",
      "Number of moves made to perform task:  17\n"
     ]
    },
    {
     "data": {
      "image/png": "[encoded data removed]",
      "text/plain": [
       "<PIL.Image.Image image mode=RGB size=501x501 at 0x7FA95DA1D2B0>"
      ]
     },
     "metadata": {},
     "output_type": "display_data"
    },
    {
     "name": "stdout",
     "output_type": "stream",
     "text": [
      "Player's position (0, 2)\n",
      "Player's possible moves:  [(-1, 2), (0, 1), (1, 2), (0, 3)]\n",
      "Player's chosen move (0, 3)\n",
      "Player's new position (0, 2)\n",
      "Player's reward for this move -10000\n",
      "Number of moves made to perform task:  18\n"
     ]
    },
    {
     "data": {
      "image/png": "[encoded data removed]",
      "text/plain": [
       "<PIL.Image.Image image mode=RGB size=501x501 at 0x7FA95D8A50A0>"
      ]
     },
     "metadata": {},
     "output_type": "display_data"
    },
    {
     "name": "stdout",
     "output_type": "stream",
     "text": [
      "Player's position (0, 2)\n",
      "Player's possible moves:  [(-1, 2), (0, 1), (1, 2), (0, 3)]\n",
      "Player's chosen move (0, 3)\n",
      "Player's new position (0, 2)\n",
      "Player's reward for this move -10000\n",
      "Number of moves made to perform task:  19\n"
     ]
    },
    {
     "data": {
      "image/png": "[encoded data removed]",
      "text/plain": [
       "<PIL.Image.Image image mode=RGB size=501x501 at 0x7FA95DA1D640>"
      ]
     },
     "metadata": {},
     "output_type": "display_data"
    },
    {
     "name": "stdout",
     "output_type": "stream",
     "text": [
      "Player's position (0, 2)\n",
      "Player's possible moves:  [(-1, 2), (0, 1), (1, 2), (0, 3)]\n",
      "Player's chosen move (0, 1)\n",
      "Player's new position (0, 1)\n",
      "Player's reward for this move -1.0\n",
      "Number of moves made to perform task:  20\n"
     ]
    },
    {
     "data": {
      "image/png": "[encoded data removed]",
      "text/plain": [
       "<PIL.Image.Image image mode=RGB size=501x501 at 0x7FA95D8A54F0>"
      ]
     },
     "metadata": {},
     "output_type": "display_data"
    },
    {
     "name": "stdout",
     "output_type": "stream",
     "text": [
      "Player's position (0, 1)\n",
      "Player's possible moves:  [(-1, 1), (0, 0), (1, 1), (0, 2)]\n",
      "Player's chosen move (-1, 1)\n",
      "Player's new position (0, 1)\n",
      "Player's reward for this move -10000\n",
      "Number of moves made to perform task:  21\n"
     ]
    },
    {
     "data": {
      "image/png": "[encoded data removed]",
      "text/plain": [
       "<PIL.Image.Image image mode=RGB size=501x501 at 0x7FA95DA1D2B0>"
      ]
     },
     "metadata": {},
     "output_type": "display_data"
    },
    {
     "name": "stdout",
     "output_type": "stream",
     "text": [
      "Player's position (0, 1)\n",
      "Player's possible moves:  [(-1, 1), (0, 0), (1, 1), (0, 2)]\n",
      "Player's chosen move (0, 0)\n",
      "Player's new position (0, 0)\n",
      "Player's reward for this move -1.0\n",
      "Number of moves made to perform task:  22\n"
     ]
    },
    {
     "data": {
      "image/png": "[encoded data removed]",
      "text/plain": [
       "<PIL.Image.Image image mode=RGB size=501x501 at 0x7FA95D8A54F0>"
      ]
     },
     "metadata": {},
     "output_type": "display_data"
    },
    {
     "name": "stdout",
     "output_type": "stream",
     "text": [
      "Player's position (0, 0)\n",
      "Player's possible moves:  [(-1, 0), (0, -1), (1, 0), (0, 1)]\n",
      "Player's chosen move (-1, 0)\n",
      "Player's new position (0, 0)\n",
      "Player's reward for this move -10000\n",
      "Number of moves made to perform task:  23\n"
     ]
    },
    {
     "data": {
      "image/png": "[encoded data removed]",
      "text/plain": [
       "<PIL.Image.Image image mode=RGB size=501x501 at 0x7FA95DA1DDF0>"
      ]
     },
     "metadata": {},
     "output_type": "display_data"
    },
    {
     "name": "stdout",
     "output_type": "stream",
     "text": [
      "Player's position (0, 0)\n",
      "Player's possible moves:  [(-1, 0), (0, -1), (1, 0), (0, 1)]\n",
      "Player's chosen move (0, 1)\n",
      "Player's new position (0, 1)\n",
      "Player's reward for this move -1.0\n",
      "Number of moves made to perform task:  24\n"
     ]
    },
    {
     "data": {
      "image/png": "[encoded data removed]",
      "text/plain": [
       "<PIL.Image.Image image mode=RGB size=501x501 at 0x7FA95D8A58B0>"
      ]
     },
     "metadata": {},
     "output_type": "display_data"
    },
    {
     "name": "stdout",
     "output_type": "stream",
     "text": [
      "Player's position (0, 1)\n",
      "Player's possible moves:  [(-1, 1), (0, 0), (1, 1), (0, 2)]\n",
      "Player's chosen move (1, 1)\n",
      "Player's new position (1, 1)\n",
      "Player's reward for this move 0.0\n",
      "Number of moves made to perform task:  25\n"
     ]
    },
    {
     "data": {
      "image/png": "[encoded data removed]",
      "text/plain": [
       "<PIL.Image.Image image mode=RGB size=501x501 at 0x7FA95DA1D850>"
      ]
     },
     "metadata": {},
     "output_type": "display_data"
    },
    {
     "name": "stdout",
     "output_type": "stream",
     "text": [
      "Player's position (1, 1)\n",
      "Player's possible moves:  [(0, 1), (1, 0), (2, 1), (1, 2)]\n",
      "Player's chosen move (0, 1)\n",
      "Player's new position (0, 1)\n",
      "Player's reward for this move -1.0\n",
      "Number of moves made to perform task:  26\n"
     ]
    },
    {
     "data": {
      "image/png": "[encoded data removed]",
      "text/plain": [
       "<PIL.Image.Image image mode=RGB size=501x501 at 0x7FA95D8A5700>"
      ]
     },
     "metadata": {},
     "output_type": "display_data"
    },
    {
     "name": "stdout",
     "output_type": "stream",
     "text": [
      "Player's position (0, 1)\n",
      "Player's possible moves:  [(-1, 1), (0, 0), (1, 1), (0, 2)]\n",
      "Player's chosen move (-1, 1)\n",
      "Player's new position (0, 1)\n",
      "Player's reward for this move -10000\n",
      "Number of moves made to perform task:  27\n"
     ]
    },
    {
     "data": {
      "image/png": "[encoded data removed]",
      "text/plain": [
       "<PIL.Image.Image image mode=RGB size=501x501 at 0x7FA95DA1D4C0>"
      ]
     },
     "metadata": {},
     "output_type": "display_data"
    },
    {
     "name": "stdout",
     "output_type": "stream",
     "text": [
      "Player's position (0, 1)\n",
      "Player's possible moves:  [(-1, 1), (0, 0), (1, 1), (0, 2)]\n",
      "Player's chosen move (-1, 1)\n",
      "Player's new position (0, 1)\n",
      "Player's reward for this move -10000\n",
      "Number of moves made to perform task:  28\n"
     ]
    },
    {
     "data": {
      "image/png": "[encoded data removed]",
      "text/plain": [
       "<PIL.Image.Image image mode=RGB size=501x501 at 0x7FA95D8A5A30>"
      ]
     },
     "metadata": {},
     "output_type": "display_data"
    },
    {
     "name": "stdout",
     "output_type": "stream",
     "text": [
      "Player's position (0, 1)\n",
      "Player's possible moves:  [(-1, 1), (0, 0), (1, 1), (0, 2)]\n",
      "Player's chosen move (0, 0)\n",
      "Player's new position (0, 0)\n",
      "Player's reward for this move -1.0\n",
      "Number of moves made to perform task:  29\n"
     ]
    },
    {
     "data": {
      "image/png": "[encoded data removed]",
      "text/plain": [
       "<PIL.Image.Image image mode=RGB size=501x501 at 0x7FA95DA1DF10>"
      ]
     },
     "metadata": {},
     "output_type": "display_data"
    },
    {
     "name": "stdout",
     "output_type": "stream",
     "text": [
      "Player's position (0, 0)\n",
      "Player's possible moves:  [(-1, 0), (0, -1), (1, 0), (0, 1)]\n",
      "Player's chosen move (-1, 0)\n",
      "Player's new position (0, 0)\n",
      "Player's reward for this move -10000\n",
      "Number of moves made to perform task:  30\n"
     ]
    },
    {
     "data": {
      "image/png": "[encoded data removed]",
      "text/plain": [
       "<PIL.Image.Image image mode=RGB size=501x501 at 0x7FA95D8A5700>"
      ]
     },
     "metadata": {},
     "output_type": "display_data"
    },
    {
     "name": "stdout",
     "output_type": "stream",
     "text": [
      "Player's position (0, 0)\n",
      "Player's possible moves:  [(-1, 0), (0, -1), (1, 0), (0, 1)]\n",
      "Player's chosen move (-1, 0)\n",
      "Player's new position (0, 0)\n",
      "Player's reward for this move -10000\n",
      "Number of moves made to perform task:  31\n"
     ]
    },
    {
     "data": {
      "image/png": "[encoded data removed]",
      "text/plain": [
       "<PIL.Image.Image image mode=RGB size=501x501 at 0x7FA95DA1DD30>"
      ]
     },
     "metadata": {},
     "output_type": "display_data"
    },
    {
     "name": "stdout",
     "output_type": "stream",
     "text": [
      "Player's position (0, 0)\n",
      "Player's possible moves:  [(-1, 0), (0, -1), (1, 0), (0, 1)]\n",
      "Player's chosen move (0, -1)\n",
      "Player's new position (0, 0)\n",
      "Player's reward for this move -10000\n",
      "Number of moves made to perform task:  32\n"
     ]
    },
    {
     "data": {
      "image/png": "[encoded data removed]",
      "text/plain": [
       "<PIL.Image.Image image mode=RGB size=501x501 at 0x7FA95D8A5460>"
      ]
     },
     "metadata": {},
     "output_type": "display_data"
    },
    {
     "name": "stdout",
     "output_type": "stream",
     "text": [
      "Player's position (0, 0)\n",
      "Player's possible moves:  [(-1, 0), (0, -1), (1, 0), (0, 1)]\n",
      "Player's chosen move (0, 1)\n",
      "Player's new position (0, 1)\n",
      "Player's reward for this move -1.0\n",
      "Number of moves made to perform task:  33\n"
     ]
    },
    {
     "data": {
      "image/png": "[encoded data removed]",
      "text/plain": [
       "<PIL.Image.Image image mode=RGB size=501x501 at 0x7FA95DA1D730>"
      ]
     },
     "metadata": {},
     "output_type": "display_data"
    },
    {
     "name": "stdout",
     "output_type": "stream",
     "text": [
      "Player's position (0, 1)\n",
      "Player's possible moves:  [(-1, 1), (0, 0), (1, 1), (0, 2)]\n",
      "Player's chosen move (-1, 1)\n",
      "Player's new position (0, 1)\n",
      "Player's reward for this move -10000\n",
      "Number of moves made to perform task:  34\n"
     ]
    },
    {
     "data": {
      "image/png": "[encoded data removed]",
      "text/plain": [
       "<PIL.Image.Image image mode=RGB size=501x501 at 0x7FA95D8A5340>"
      ]
     },
     "metadata": {},
     "output_type": "display_data"
    },
    {
     "name": "stdout",
     "output_type": "stream",
     "text": [
      "Player's position (0, 1)\n",
      "Player's possible moves:  [(-1, 1), (0, 0), (1, 1), (0, 2)]\n",
      "Player's chosen move (1, 1)\n",
      "Player's new position (1, 1)\n",
      "Player's reward for this move -1.0\n",
      "Number of moves made to perform task:  35\n"
     ]
    },
    {
     "data": {
      "image/png": "[encoded data removed]",
      "text/plain": [
       "<PIL.Image.Image image mode=RGB size=501x501 at 0x7FA95DA1D700>"
      ]
     },
     "metadata": {},
     "output_type": "display_data"
    },
    {
     "name": "stdout",
     "output_type": "stream",
     "text": [
      "Player's position (1, 1)\n",
      "Player's possible moves:  [(0, 1), (1, 0), (2, 1), (1, 2)]\n",
      "Player's chosen move (2, 1)\n",
      "Player's new position (2, 1)\n",
      "Player's reward for this move -1.0\n",
      "Number of moves made to perform task:  36\n"
     ]
    },
    {
     "data": {
      "image/png": "[encoded data removed]",
      "text/plain": [
       "<PIL.Image.Image image mode=RGB size=501x501 at 0x7FA95D84CF70>"
      ]
     },
     "metadata": {},
     "output_type": "display_data"
    },
    {
     "name": "stdout",
     "output_type": "stream",
     "text": [
      "Player's position (2, 1)\n",
      "Player's possible moves:  [(1, 1), (2, 0), (3, 1), (2, 2)]\n",
      "Player's chosen move (3, 1)\n",
      "Player's new position (2, 1)\n",
      "Player's reward for this move -10000\n",
      "Number of moves made to perform task:  37\n"
     ]
    },
    {
     "data": {
      "image/png": "[encoded data removed]",
      "text/plain": [
       "<PIL.Image.Image image mode=RGB size=501x501 at 0x7FA95DA1D2B0>"
      ]
     },
     "metadata": {},
     "output_type": "display_data"
    },
    {
     "name": "stdout",
     "output_type": "stream",
     "text": [
      "Player's position (2, 1)\n",
      "Player's possible moves:  [(1, 1), (2, 0), (3, 1), (2, 2)]\n",
      "Player's chosen move (2, 2)\n",
      "Player's new position (2, 2)\n",
      "Player's reward for this move 0.0\n",
      "Number of moves made to perform task:  38\n"
     ]
    },
    {
     "data": {
      "image/png": "[encoded data removed]",
      "text/plain": [
       "<PIL.Image.Image image mode=RGB size=501x501 at 0x7FA95D8A5340>"
      ]
     },
     "metadata": {},
     "output_type": "display_data"
    },
    {
     "name": "stdout",
     "output_type": "stream",
     "text": [
      "Player finished task in : 38  moves\n"
     ]
    },
    {
     "data": {
      "image/png": "[encoded data removed]",
      "text/plain": [
       "<PIL.Image.Image image mode=RGB size=501x501 at 0x7FA95C733730>"
      ]
     },
     "metadata": {},
     "output_type": "display_data"
    },
    {
     "name": "stdout",
     "output_type": "stream",
     "text": [
      "Player's position (0, 0)\n",
      "Player's possible moves:  [(-1, 0), (0, -1), (1, 0), (0, 1)]\n",
      "Player's chosen move (1, 0)\n",
      "Player's new position (1, 0)\n",
      "Player's reward for this move -1.0\n",
      "Number of moves made to perform task:  1\n"
     ]
    },
    {
     "data": {
      "image/png": "[encoded data removed]",
      "text/plain": [
       "<PIL.Image.Image image mode=RGB size=501x501 at 0x7FA95DA1D700>"
      ]
     },
     "metadata": {},
     "output_type": "display_data"
    },
    {
     "name": "stdout",
     "output_type": "stream",
     "text": [
      "Player's position (1, 0)\n",
      "Player's possible moves:  [(0, 0), (1, -1), (2, 0), (1, 1)]\n",
      "Player's chosen move (0, 0)\n",
      "Player's new position (0, 0)\n",
      "Player's reward for this move -1.0\n",
      "Number of moves made to perform task:  2\n"
     ]
    },
    {
     "data": {
      "image/png": "[encoded data removed]",
      "text/plain": [
       "<PIL.Image.Image image mode=RGB size=501x501 at 0x7FA95D8A54F0>"
      ]
     },
     "metadata": {},
     "output_type": "display_data"
    },
    {
     "name": "stdout",
     "output_type": "stream",
     "text": [
      "Player's position (0, 0)\n",
      "Player's possible moves:  [(-1, 0), (0, -1), (1, 0), (0, 1)]\n",
      "Player's chosen move (0, -1)\n",
      "Player's new position (0, 0)\n",
      "Player's reward for this move -10000\n",
      "Number of moves made to perform task:  3\n"
     ]
    },
    {
     "data": {
      "image/png": "[encoded data removed]",
      "text/plain": [
       "<PIL.Image.Image image mode=RGB size=501x501 at 0x7FA95DA1D730>"
      ]
     },
     "metadata": {},
     "output_type": "display_data"
    },
    {
     "name": "stdout",
     "output_type": "stream",
     "text": [
      "Player's position (0, 0)\n",
      "Player's possible moves:  [(-1, 0), (0, -1), (1, 0), (0, 1)]\n",
      "Player's chosen move (1, 0)\n",
      "Player's new position (1, 0)\n",
      "Player's reward for this move -1.0\n",
      "Number of moves made to perform task:  4\n"
     ]
    },
    {
     "data": {
      "image/png": "[encoded data removed]",
      "text/plain": [
       "<PIL.Image.Image image mode=RGB size=501x501 at 0x7FA95D8A58B0>"
      ]
     },
     "metadata": {},
     "output_type": "display_data"
    },
    {
     "name": "stdout",
     "output_type": "stream",
     "text": [
      "Player's position (1, 0)\n",
      "Player's possible moves:  [(0, 0), (1, -1), (2, 0), (1, 1)]\n",
      "Player's chosen move (1, -1)\n",
      "Player's new position (1, 0)\n",
      "Player's reward for this move -10000\n",
      "Number of moves made to perform task:  5\n"
     ]
    },
    {
     "data": {
      "image/png": "[encoded data removed]",
      "text/plain": [
       "<PIL.Image.Image image mode=RGB size=501x501 at 0x7FA95D8A5A30>"
      ]
     },
     "metadata": {},
     "output_type": "display_data"
    },
    {
     "name": "stdout",
     "output_type": "stream",
     "text": [
      "Player's position (1, 0)\n",
      "Player's possible moves:  [(0, 0), (1, -1), (2, 0), (1, 1)]\n",
      "Player's chosen move (0, 0)\n",
      "Player's new position (0, 0)\n",
      "Player's reward for this move -1.0\n",
      "Number of moves made to perform task:  6\n"
     ]
    },
    {
     "data": {
      "image/png": "[encoded data removed]",
      "text/plain": [
       "<PIL.Image.Image image mode=RGB size=501x501 at 0x7FA95DA1D310>"
      ]
     },
     "metadata": {},
     "output_type": "display_data"
    },
    {
     "name": "stdout",
     "output_type": "stream",
     "text": [
      "Player's position (0, 0)\n",
      "Player's possible moves:  [(-1, 0), (0, -1), (1, 0), (0, 1)]\n",
      "Player's chosen move (1, 0)\n",
      "Player's new position (1, 0)\n",
      "Player's reward for this move -1.0\n",
      "Number of moves made to perform task:  7\n"
     ]
    },
    {
     "data": {
      "image/png": "[encoded data removed]",
      "text/plain": [
       "<PIL.Image.Image image mode=RGB size=501x501 at 0x7FA95C733730>"
      ]
     },
     "metadata": {},
     "output_type": "display_data"
    },
    {
     "name": "stdout",
     "output_type": "stream",
     "text": [
      "Player's position (1, 0)\n",
      "Player's possible moves:  [(0, 0), (1, -1), (2, 0), (1, 1)]\n",
      "Player's chosen move (1, -1)\n",
      "Player's new position (1, 0)\n",
      "Player's reward for this move -10000\n",
      "Number of moves made to perform task:  8\n"
     ]
    },
    {
     "data": {
      "image/png": "[encoded data removed]",
      "text/plain": [
       "<PIL.Image.Image image mode=RGB size=501x501 at 0x7FA95DA1D6D0>"
      ]
     },
     "metadata": {},
     "output_type": "display_data"
    },
    {
     "name": "stdout",
     "output_type": "stream",
     "text": [
      "Player's position (1, 0)\n",
      "Player's possible moves:  [(0, 0), (1, -1), (2, 0), (1, 1)]\n",
      "Player's chosen move (1, 1)\n",
      "Player's new position (1, 1)\n",
      "Player's reward for this move 0.0\n",
      "Number of moves made to perform task:  9\n"
     ]
    },
    {
     "data": {
      "image/png": "[encoded data removed]",
      "text/plain": [
       "<PIL.Image.Image image mode=RGB size=501x501 at 0x7FA95D8A5A30>"
      ]
     },
     "metadata": {},
     "output_type": "display_data"
    },
    {
     "name": "stdout",
     "output_type": "stream",
     "text": [
      "Player's position (1, 1)\n",
      "Player's possible moves:  [(0, 1), (1, 0), (2, 1), (1, 2)]\n",
      "Player's chosen move (1, 0)\n",
      "Player's new position (1, 0)\n",
      "Player's reward for this move -1.0\n",
      "Number of moves made to perform task:  10\n"
     ]
    },
    {
     "data": {
      "image/png": "[encoded data removed]",
      "text/plain": [
       "<PIL.Image.Image image mode=RGB size=501x501 at 0x7FA95DA1D310>"
      ]
     },
     "metadata": {},
     "output_type": "display_data"
    },
    {
     "name": "stdout",
     "output_type": "stream",
     "text": [
      "Player's position (1, 0)\n",
      "Player's possible moves:  [(0, 0), (1, -1), (2, 0), (1, 1)]\n",
      "Player's chosen move (1, -1)\n",
      "Player's new position (1, 0)\n",
      "Player's reward for this move -10000\n",
      "Number of moves made to perform task:  11\n"
     ]
    },
    {
     "data": {
      "image/png": "[encoded data removed]",
      "text/plain": [
       "<PIL.Image.Image image mode=RGB size=501x501 at 0x7FA95C733190>"
      ]
     },
     "metadata": {},
     "output_type": "display_data"
    },
    {
     "name": "stdout",
     "output_type": "stream",
     "text": [
      "Player's position (1, 0)\n",
      "Player's possible moves:  [(0, 0), (1, -1), (2, 0), (1, 1)]\n",
      "Player's chosen move (1, -1)\n",
      "Player's new position (1, 0)\n",
      "Player's reward for this move -10000\n",
      "Number of moves made to perform task:  12\n"
     ]
    },
    {
     "data": {
      "image/png": "[encoded data removed]",
      "text/plain": [
       "<PIL.Image.Image image mode=RGB size=501x501 at 0x7FA95DA1D6D0>"
      ]
     },
     "metadata": {},
     "output_type": "display_data"
    },
    {
     "name": "stdout",
     "output_type": "stream",
     "text": [
      "Player's position (1, 0)\n",
      "Player's possible moves:  [(0, 0), (1, -1), (2, 0), (1, 1)]\n",
      "Player's chosen move (1, -1)\n",
      "Player's new position (1, 0)\n",
      "Player's reward for this move -10000\n",
      "Number of moves made to perform task:  13\n"
     ]
    },
    {
     "data": {
      "image/png": "[encoded data removed]",
      "text/plain": [
       "<PIL.Image.Image image mode=RGB size=501x501 at 0x7FA95D8A5340>"
      ]
     },
     "metadata": {},
     "output_type": "display_data"
    },
    {
     "name": "stdout",
     "output_type": "stream",
     "text": [
      "Player's position (1, 0)\n",
      "Player's possible moves:  [(0, 0), (1, -1), (2, 0), (1, 1)]\n",
      "Player's chosen move (0, 0)\n",
      "Player's new position (0, 0)\n",
      "Player's reward for this move -1.0\n",
      "Number of moves made to perform task:  14\n"
     ]
    },
    {
     "data": {
      "image/png": "[encoded data removed]",
      "text/plain": [
       "<PIL.Image.Image image mode=RGB size=501x501 at 0x7FA95DA1D4C0>"
      ]
     },
     "metadata": {},
     "output_type": "display_data"
    },
    {
     "name": "stdout",
     "output_type": "stream",
     "text": [
      "Player's position (0, 0)\n",
      "Player's possible moves:  [(-1, 0), (0, -1), (1, 0), (0, 1)]\n",
      "Player's chosen move (1, 0)\n",
      "Player's new position (1, 0)\n",
      "Player's reward for this move -1.0\n",
      "Number of moves made to perform task:  15\n"
     ]
    },
    {
     "data": {
      "image/png": "[encoded data removed]",
      "text/plain": [
       "<PIL.Image.Image image mode=RGB size=501x501 at 0x7FA95D8A5460>"
      ]
     },
     "metadata": {},
     "output_type": "display_data"
    },
    {
     "name": "stdout",
     "output_type": "stream",
     "text": [
      "Player's position (1, 0)\n",
      "Player's possible moves:  [(0, 0), (1, -1), (2, 0), (1, 1)]\n",
      "Player's chosen move (1, -1)\n",
      "Player's new position (1, 0)\n",
      "Player's reward for this move -10000\n",
      "Number of moves made to perform task:  16\n"
     ]
    },
    {
     "data": {
      "image/png": "[encoded data removed]",
      "text/plain": [
       "<PIL.Image.Image image mode=RGB size=501x501 at 0x7FA95DA1D6D0>"
      ]
     },
     "metadata": {},
     "output_type": "display_data"
    },
    {
     "name": "stdout",
     "output_type": "stream",
     "text": [
      "Player's position (1, 0)\n",
      "Player's possible moves:  [(0, 0), (1, -1), (2, 0), (1, 1)]\n",
      "Player's chosen move (1, -1)\n",
      "Player's new position (1, 0)\n",
      "Player's reward for this move -10000\n",
      "Number of moves made to perform task:  17\n"
     ]
    },
    {
     "data": {
      "image/png": "[encoded data removed]",
      "text/plain": [
       "<PIL.Image.Image image mode=RGB size=501x501 at 0x7FA95D8A5A30>"
      ]
     },
     "metadata": {},
     "output_type": "display_data"
    },
    {
     "name": "stdout",
     "output_type": "stream",
     "text": [
      "Player's position (1, 0)\n",
      "Player's possible moves:  [(0, 0), (1, -1), (2, 0), (1, 1)]\n",
      "Player's chosen move (1, 1)\n",
      "Player's new position (1, 1)\n",
      "Player's reward for this move -1.0\n",
      "Number of moves made to perform task:  18\n"
     ]
    },
    {
     "data": {
      "image/png": "[encoded data removed]",
      "text/plain": [
       "<PIL.Image.Image image mode=RGB size=501x501 at 0x7FA95DA1D4C0>"
      ]
     },
     "metadata": {},
     "output_type": "display_data"
    },
    {
     "name": "stdout",
     "output_type": "stream",
     "text": [
      "Player's position (1, 1)\n",
      "Player's possible moves:  [(0, 1), (1, 0), (2, 1), (1, 2)]\n",
      "Player's chosen move (1, 0)\n",
      "Player's new position (1, 0)\n",
      "Player's reward for this move -1.0\n",
      "Number of moves made to perform task:  19\n"
     ]
    },
    {
     "data": {
      "image/png": "[encoded data removed]",
      "text/plain": [
       "<PIL.Image.Image image mode=RGB size=501x501 at 0x7FA95D8A5A30>"
      ]
     },
     "metadata": {},
     "output_type": "display_data"
    },
    {
     "name": "stdout",
     "output_type": "stream",
     "text": [
      "Player's position (1, 0)\n",
      "Player's possible moves:  [(0, 0), (1, -1), (2, 0), (1, 1)]\n",
      "Player's chosen move (1, -1)\n",
      "Player's new position (1, 0)\n",
      "Player's reward for this move -10000\n",
      "Number of moves made to perform task:  20\n"
     ]
    },
    {
     "data": {
      "image/png": "[encoded data removed]",
      "text/plain": [
       "<PIL.Image.Image image mode=RGB size=501x501 at 0x7FA95DA1D940>"
      ]
     },
     "metadata": {},
     "output_type": "display_data"
    },
    {
     "name": "stdout",
     "output_type": "stream",
     "text": [
      "Player's position (1, 0)\n",
      "Player's possible moves:  [(0, 0), (1, -1), (2, 0), (1, 1)]\n",
      "Player's chosen move (0, 0)\n",
      "Player's new position (0, 0)\n",
      "Player's reward for this move -1.0\n",
      "Number of moves made to perform task:  21\n"
     ]
    },
    {
     "data": {
      "image/png": "[encoded data removed]",
      "text/plain": [
       "<PIL.Image.Image image mode=RGB size=501x501 at 0x7FA95D84C4F0>"
      ]
     },
     "metadata": {},
     "output_type": "display_data"
    },
    {
     "name": "stdout",
     "output_type": "stream",
     "text": [
      "Player's position (0, 0)\n",
      "Player's possible moves:  [(-1, 0), (0, -1), (1, 0), (0, 1)]\n",
      "Player's chosen move (0, -1)\n",
      "Player's new position (0, 0)\n",
      "Player's reward for this move -10000\n",
      "Number of moves made to perform task:  22\n"
     ]
    },
    {
     "data": {
      "image/png": "[encoded data removed]",
      "text/plain": [
       "<PIL.Image.Image image mode=RGB size=501x501 at 0x7FA95DA1D850>"
      ]
     },
     "metadata": {},
     "output_type": "display_data"
    },
    {
     "name": "stdout",
     "output_type": "stream",
     "text": [
      "Player's position (0, 0)\n",
      "Player's possible moves:  [(-1, 0), (0, -1), (1, 0), (0, 1)]\n",
      "Player's chosen move (1, 0)\n",
      "Player's new position (1, 0)\n",
      "Player's reward for this move -1.0\n",
      "Number of moves made to perform task:  23\n"
     ]
    },
    {
     "data": {
      "image/png": "[encoded data removed]",
      "text/plain": [
       "<PIL.Image.Image image mode=RGB size=501x501 at 0x7FA95D8A5340>"
      ]
     },
     "metadata": {},
     "output_type": "display_data"
    },
    {
     "name": "stdout",
     "output_type": "stream",
     "text": [
      "Player's position (1, 0)\n",
      "Player's possible moves:  [(0, 0), (1, -1), (2, 0), (1, 1)]\n",
      "Player's chosen move (1, -1)\n",
      "Player's new position (1, 0)\n",
      "Player's reward for this move -10000\n",
      "Number of moves made to perform task:  24\n"
     ]
    },
    {
     "data": {
      "image/png": "[encoded data removed]",
      "text/plain": [
       "<PIL.Image.Image image mode=RGB size=501x501 at 0x7FA95DA1DDC0>"
      ]
     },
     "metadata": {},
     "output_type": "display_data"
    },
    {
     "name": "stdout",
     "output_type": "stream",
     "text": [
      "Player's position (1, 0)\n",
      "Player's possible moves:  [(0, 0), (1, -1), (2, 0), (1, 1)]\n",
      "Player's chosen move (2, 0)\n",
      "Player's new position (2, 0)\n",
      "Player's reward for this move -1.0\n",
      "Number of moves made to perform task:  25\n"
     ]
    },
    {
     "data": {
      "image/png": "[encoded data removed]",
      "text/plain": [
       "<PIL.Image.Image image mode=RGB size=501x501 at 0x7FA95D8A50A0>"
      ]
     },
     "metadata": {},
     "output_type": "display_data"
    },
    {
     "name": "stdout",
     "output_type": "stream",
     "text": [
      "Player's position (2, 0)\n",
      "Player's possible moves:  [(1, 0), (2, -1), (3, 0), (2, 1)]\n",
      "Player's chosen move (2, -1)\n",
      "Player's new position (2, 0)\n",
      "Player's reward for this move -10000\n",
      "Number of moves made to perform task:  26\n"
     ]
    },
    {
     "data": {
      "image/png": "[encoded data removed]",
      "text/plain": [
       "<PIL.Image.Image image mode=RGB size=501x501 at 0x7FA95DA1DD30>"
      ]
     },
     "metadata": {},
     "output_type": "display_data"
    },
    {
     "name": "stdout",
     "output_type": "stream",
     "text": [
      "Player's position (2, 0)\n",
      "Player's possible moves:  [(1, 0), (2, -1), (3, 0), (2, 1)]\n",
      "Player's chosen move (3, 0)\n",
      "Player's new position (2, 0)\n",
      "Player's reward for this move -10000\n",
      "Number of moves made to perform task:  27\n"
     ]
    },
    {
     "data": {
      "image/png": "[encoded data removed]",
      "text/plain": [
       "<PIL.Image.Image image mode=RGB size=501x501 at 0x7FA95D8A5700>"
      ]
     },
     "metadata": {},
     "output_type": "display_data"
    },
    {
     "name": "stdout",
     "output_type": "stream",
     "text": [
      "Player's position (2, 0)\n",
      "Player's possible moves:  [(1, 0), (2, -1), (3, 0), (2, 1)]\n",
      "Player's chosen move (3, 0)\n",
      "Player's new position (2, 0)\n",
      "Player's reward for this move -10000\n",
      "Number of moves made to perform task:  28\n"
     ]
    },
    {
     "data": {
      "image/png": "[encoded data removed]",
      "text/plain": [
       "<PIL.Image.Image image mode=RGB size=501x501 at 0x7FA95DA1D6D0>"
      ]
     },
     "metadata": {},
     "output_type": "display_data"
    },
    {
     "name": "stdout",
     "output_type": "stream",
     "text": [
      "Player's position (2, 0)\n",
      "Player's possible moves:  [(1, 0), (2, -1), (3, 0), (2, 1)]\n",
      "Player's chosen move (2, -1)\n",
      "Player's new position (2, 0)\n",
      "Player's reward for this move -10000\n",
      "Number of moves made to perform task:  29\n"
     ]
    },
    {
     "data": {
      "image/png": "[encoded data removed]",
      "text/plain": [
       "<PIL.Image.Image image mode=RGB size=501x501 at 0x7FA95D8A5700>"
      ]
     },
     "metadata": {},
     "output_type": "display_data"
    },
    {
     "name": "stdout",
     "output_type": "stream",
     "text": [
      "Player's position (2, 0)\n",
      "Player's possible moves:  [(1, 0), (2, -1), (3, 0), (2, 1)]\n",
      "Player's chosen move (1, 0)\n",
      "Player's new position (1, 0)\n",
      "Player's reward for this move -1.0\n",
      "Number of moves made to perform task:  30\n"
     ]
    },
    {
     "data": {
      "image/png": "[encoded data removed]",
      "text/plain": [
       "<PIL.Image.Image image mode=RGB size=501x501 at 0x7FA95DA1DDC0>"
      ]
     },
     "metadata": {},
     "output_type": "display_data"
    },
    {
     "name": "stdout",
     "output_type": "stream",
     "text": [
      "Player's position (1, 0)\n",
      "Player's possible moves:  [(0, 0), (1, -1), (2, 0), (1, 1)]\n",
      "Player's chosen move (1, -1)\n",
      "Player's new position (1, 0)\n",
      "Player's reward for this move -10000\n",
      "Number of moves made to perform task:  31\n"
     ]
    },
    {
     "data": {
      "image/png": "[encoded data removed]",
      "text/plain": [
       "<PIL.Image.Image image mode=RGB size=501x501 at 0x7FA95D8A5970>"
      ]
     },
     "metadata": {},
     "output_type": "display_data"
    },
    {
     "name": "stdout",
     "output_type": "stream",
     "text": [
      "Player's position (1, 0)\n",
      "Player's possible moves:  [(0, 0), (1, -1), (2, 0), (1, 1)]\n",
      "Player's chosen move (0, 0)\n",
      "Player's new position (0, 0)\n",
      "Player's reward for this move -1.0\n",
      "Number of moves made to perform task:  32\n"
     ]
    },
    {
     "data": {
      "image/png": "[encoded data removed]",
      "text/plain": [
       "<PIL.Image.Image image mode=RGB size=501x501 at 0x7FA95DA1DEE0>"
      ]
     },
     "metadata": {},
     "output_type": "display_data"
    },
    {
     "name": "stdout",
     "output_type": "stream",
     "text": [
      "Player's position (0, 0)\n",
      "Player's possible moves:  [(-1, 0), (0, -1), (1, 0), (0, 1)]\n",
      "Player's chosen move (1, 0)\n",
      "Player's new position (1, 0)\n",
      "Player's reward for this move -1.0\n",
      "Number of moves made to perform task:  33\n"
     ]
    },
    {
     "data": {
      "image/png": "[encoded data removed]",
      "text/plain": [
       "<PIL.Image.Image image mode=RGB size=501x501 at 0x7FA95D8A5A30>"
      ]
     },
     "metadata": {},
     "output_type": "display_data"
    },
    {
     "name": "stdout",
     "output_type": "stream",
     "text": [
      "Player's position (1, 0)\n",
      "Player's possible moves:  [(0, 0), (1, -1), (2, 0), (1, 1)]\n",
      "Player's chosen move (0, 0)\n",
      "Player's new position (0, 0)\n",
      "Player's reward for this move -1.0\n",
      "Number of moves made to perform task:  34\n"
     ]
    },
    {
     "data": {
      "image/png": "[encoded data removed]",
      "text/plain": [
       "<PIL.Image.Image image mode=RGB size=501x501 at 0x7FA95DA1D730>"
      ]
     },
     "metadata": {},
     "output_type": "display_data"
    },
    {
     "name": "stdout",
     "output_type": "stream",
     "text": [
      "Player's position (0, 0)\n",
      "Player's possible moves:  [(-1, 0), (0, -1), (1, 0), (0, 1)]\n",
      "Player's chosen move (0, 1)\n",
      "Player's new position (0, 1)\n",
      "Player's reward for this move -1.0\n",
      "Number of moves made to perform task:  35\n"
     ]
    },
    {
     "data": {
      "image/png": "[encoded data removed]",
      "text/plain": [
       "<PIL.Image.Image image mode=RGB size=501x501 at 0x7FA95D8A5970>"
      ]
     },
     "metadata": {},
     "output_type": "display_data"
    },
    {
     "name": "stdout",
     "output_type": "stream",
     "text": [
      "Player's position (0, 1)\n",
      "Player's possible moves:  [(-1, 1), (0, 0), (1, 1), (0, 2)]\n",
      "Player's chosen move (1, 1)\n",
      "Player's new position (1, 1)\n",
      "Player's reward for this move -1.0\n",
      "Number of moves made to perform task:  36\n"
     ]
    },
    {
     "data": {
      "image/png": "[encoded data removed]",
      "text/plain": [
       "<PIL.Image.Image image mode=RGB size=501x501 at 0x7FA95DA1DFD0>"
      ]
     },
     "metadata": {},
     "output_type": "display_data"
    },
    {
     "name": "stdout",
     "output_type": "stream",
     "text": [
      "Player's position (1, 1)\n",
      "Player's possible moves:  [(0, 1), (1, 0), (2, 1), (1, 2)]\n",
      "Player's chosen move (0, 1)\n",
      "Player's new position (0, 1)\n",
      "Player's reward for this move -1.0\n",
      "Number of moves made to perform task:  37\n"
     ]
    },
    {
     "data": {
      "image/png": "[encoded data removed]",
      "text/plain": [
       "<PIL.Image.Image image mode=RGB size=501x501 at 0x7FA95D8A5A60>"
      ]
     },
     "metadata": {},
     "output_type": "display_data"
    },
    {
     "name": "stdout",
     "output_type": "stream",
     "text": [
      "Player's position (0, 1)\n",
      "Player's possible moves:  [(-1, 1), (0, 0), (1, 1), (0, 2)]\n",
      "Player's chosen move (1, 1)\n",
      "Player's new position (1, 1)\n",
      "Player's reward for this move -1.0\n",
      "Number of moves made to perform task:  38\n"
     ]
    },
    {
     "data": {
      "image/png": "[encoded data removed]",
      "text/plain": [
       "<PIL.Image.Image image mode=RGB size=501x501 at 0x7FA95DA1D2B0>"
      ]
     },
     "metadata": {},
     "output_type": "display_data"
    },
    {
     "name": "stdout",
     "output_type": "stream",
     "text": [
      "Player's position (1, 1)\n",
      "Player's possible moves:  [(0, 1), (1, 0), (2, 1), (1, 2)]\n",
      "Player's chosen move (0, 1)\n",
      "Player's new position (0, 1)\n",
      "Player's reward for this move -1.0\n",
      "Number of moves made to perform task:  39\n"
     ]
    },
    {
     "data": {
      "image/png": "[encoded data removed]",
      "text/plain": [
       "<PIL.Image.Image image mode=RGB size=501x501 at 0x7FA95D8A5970>"
      ]
     },
     "metadata": {},
     "output_type": "display_data"
    },
    {
     "name": "stdout",
     "output_type": "stream",
     "text": [
      "Player's position (0, 1)\n",
      "Player's possible moves:  [(-1, 1), (0, 0), (1, 1), (0, 2)]\n",
      "Player's chosen move (1, 1)\n",
      "Player's new position (1, 1)\n",
      "Player's reward for this move -1.0\n",
      "Number of moves made to perform task:  40\n"
     ]
    },
    {
     "data": {
      "image/png": "[encoded data removed]",
      "text/plain": [
       "<PIL.Image.Image image mode=RGB size=501x501 at 0x7FA95DA1D670>"
      ]
     },
     "metadata": {},
     "output_type": "display_data"
    },
    {
     "name": "stdout",
     "output_type": "stream",
     "text": [
      "Player's position (1, 1)\n",
      "Player's possible moves:  [(0, 1), (1, 0), (2, 1), (1, 2)]\n",
      "Player's chosen move (2, 1)\n",
      "Player's new position (2, 1)\n",
      "Player's reward for this move -1.0\n",
      "Number of moves made to perform task:  41\n"
     ]
    },
    {
     "data": {
      "image/png": "[encoded data removed]",
      "text/plain": [
       "<PIL.Image.Image image mode=RGB size=501x501 at 0x7FA95D8A58B0>"
      ]
     },
     "metadata": {},
     "output_type": "display_data"
    },
    {
     "name": "stdout",
     "output_type": "stream",
     "text": [
      "Player's position (2, 1)\n",
      "Player's possible moves:  [(1, 1), (2, 0), (3, 1), (2, 2)]\n",
      "Player's chosen move (1, 1)\n",
      "Player's new position (1, 1)\n",
      "Player's reward for this move -1.0\n",
      "Number of moves made to perform task:  42\n"
     ]
    },
    {
     "data": {
      "image/png": "[encoded data removed]",
      "text/plain": [
       "<PIL.Image.Image image mode=RGB size=501x501 at 0x7FA95DA1DD60>"
      ]
     },
     "metadata": {},
     "output_type": "display_data"
    },
    {
     "name": "stdout",
     "output_type": "stream",
     "text": [
      "Player's position (1, 1)\n",
      "Player's possible moves:  [(0, 1), (1, 0), (2, 1), (1, 2)]\n",
      "Player's chosen move (1, 2)\n",
      "Player's new position (1, 2)\n",
      "Player's reward for this move -1.0\n",
      "Number of moves made to perform task:  43\n"
     ]
    },
    {
     "data": {
      "image/png": "[encoded data removed]",
      "text/plain": [
       "<PIL.Image.Image image mode=RGB size=501x501 at 0x7FA95D8A54F0>"
      ]
     },
     "metadata": {},
     "output_type": "display_data"
    },
    {
     "name": "stdout",
     "output_type": "stream",
     "text": [
      "Player's position (1, 2)\n",
      "Player's possible moves:  [(0, 2), (1, 1), (2, 2), (1, 3)]\n",
      "Player's chosen move (1, 1)\n",
      "Player's new position (1, 1)\n",
      "Player's reward for this move -1.0\n",
      "Number of moves made to perform task:  44\n"
     ]
    },
    {
     "data": {
      "image/png": "[encoded data removed]",
      "text/plain": [
       "<PIL.Image.Image image mode=RGB size=501x501 at 0x7FA95DA1D6D0>"
      ]
     },
     "metadata": {},
     "output_type": "display_data"
    },
    {
     "name": "stdout",
     "output_type": "stream",
     "text": [
      "Player's position (1, 1)\n",
      "Player's possible moves:  [(0, 1), (1, 0), (2, 1), (1, 2)]\n",
      "Player's chosen move (1, 2)\n",
      "Player's new position (1, 2)\n",
      "Player's reward for this move -1.0\n",
      "Number of moves made to perform task:  45\n"
     ]
    },
    {
     "data": {
      "image/png": "[encoded data removed]",
      "text/plain": [
       "<PIL.Image.Image image mode=RGB size=501x501 at 0x7FA95D8A5A60>"
      ]
     },
     "metadata": {},
     "output_type": "display_data"
    },
    {
     "name": "stdout",
     "output_type": "stream",
     "text": [
      "Player's position (1, 2)\n",
      "Player's possible moves:  [(0, 2), (1, 1), (2, 2), (1, 3)]\n",
      "Player's chosen move (2, 2)\n",
      "Player's new position (2, 2)\n",
      "Player's reward for this move 0.0\n",
      "Number of moves made to perform task:  46\n"
     ]
    },
    {
     "data": {
      "image/png": "[encoded data removed]",
      "text/plain": [
       "<PIL.Image.Image image mode=RGB size=501x501 at 0x7FA95DA1DDF0>"
      ]
     },
     "metadata": {},
     "output_type": "display_data"
    },
    {
     "name": "stdout",
     "output_type": "stream",
     "text": [
      "Player finished task in : 46  moves\n",
      "Player scores for every episode:  [-160020.0, -160028.0]\n"
     ]
    }
   ],
   "source": [
    "collection_game = Collection_Game( (3,3), (0,0), [(1,1),(2,2)], -1, 0)\n",
    "play_game(collection_game, 2, output=True)"
   ]
  },
  {
   "cell_type": "code",
   "execution_count": 8,
   "id": "40908ebc",
   "metadata": {
    "scrolled": true
   },
   "outputs": [
    {
     "name": "stdout",
     "output_type": "stream",
     "text": [
      "[[-1. -1. -1.]\n",
      " [-1.  0. -1.]\n",
      " [-1. -1.  0.]]\n"
     ]
    }
   ],
   "source": [
    "collection_game.print_board()"
   ]
  },
  {
   "cell_type": "code",
   "execution_count": 9,
   "id": "7202a9c1",
   "metadata": {},
   "outputs": [
    {
     "data": {
      "text/plain": [
       "4"
      ]
     },
     "execution_count": 9,
     "metadata": {},
     "output_type": "execute_result"
    }
   ],
   "source": [
    "x = [(-1,0),(0,-1),(1,0),(0,1)]\n",
    "len(x)"
   ]
  },
  {
   "cell_type": "code",
   "execution_count": null,
   "id": "91c3dbf5",
   "metadata": {},
   "outputs": [],
   "source": []
  }
 ],
 "metadata": {
  "kernelspec": {
   "display_name": "Python 3 (ipykernel)",
   "language": "python",
   "name": "python3"
  },
  "language_info": {
   "codemirror_mode": {
    "name": "ipython",
    "version": 3
   },
   "file_extension": ".py",
   "mimetype": "text/x-python",
   "name": "python",
   "nbconvert_exporter": "python",
   "pygments_lexer": "ipython3",
   "version": "3.8.5"
  }
 },
 "nbformat": 4,
 "nbformat_minor": 5
}
